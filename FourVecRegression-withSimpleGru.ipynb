{
 "cells": [
  {
   "cell_type": "code",
   "execution_count": 1,
   "metadata": {},
   "outputs": [
    {
     "name": "stdout",
     "output_type": "stream",
     "text": [
      "3.7.10 | packaged by conda-forge | (default, Feb 19 2021, 16:07:37) \n",
      "[GCC 9.3.0]\n"
     ]
    }
   ],
   "source": [
    "import sys\n",
    "print(sys.version)"
   ]
  },
  {
   "cell_type": "code",
   "execution_count": 2,
   "metadata": {},
   "outputs": [],
   "source": [
    "import time\n",
    "import tqdm\n",
    "import numpy as np \n",
    "import matplotlib.pyplot as plt\n",
    "import pandas as pd\n",
    "import h5py\n",
    "import json\n",
    "import torch \n",
    "import torch.nn as nn \n",
    "import torch.nn.functional as F \n",
    "import torch.optim as optim \n",
    "import torch.utils.data as utils\n",
    "import torch.nn.init as init\n",
    "from torch.autograd import Variable\n",
    "from sklearn.model_selection import train_test_split\n",
    "plt.style.use('default')"
   ]
  },
  {
   "cell_type": "code",
   "execution_count": 3,
   "metadata": {},
   "outputs": [],
   "source": [
    "%matplotlib inline\n",
    "%load_ext autoreload\n",
    "%autoreload 2"
   ]
  },
  {
   "cell_type": "code",
   "execution_count": 4,
   "metadata": {},
   "outputs": [],
   "source": [
    "from preprocessor import load\n",
    "from supervised import *\n",
    "from four_vector_utils import *"
   ]
  },
  {
   "cell_type": "code",
   "execution_count": 5,
   "metadata": {},
   "outputs": [
    {
     "name": "stderr",
     "output_type": "stream",
     "text": [
      "/data/t3home000/spark/MassRegression/preprocessor.py:114: H5pyDeprecationWarning: The default file mode will change to 'r' (read-only) in h5py 3.0. To suppress this warning, pass the mode you need to h5py.File(), or set the global default h5.get_config().default_file_mode, or set the environment variable H5PY_DEFAULT_READONLY=1. Available modes are: 'r', 'r+', 'w', 'w-'/'x', 'a'. See the docs for details.\n",
      "  h5File = h5py.File(iFile)\n"
     ]
    },
    {
     "name": "stdout",
     "output_type": "stream",
     "text": [
      "<HDF5 file \"GluGluHToTauTau_user_0.z\" (mode r+)>\n",
      "[[289.75   110.125  125.     ...   0.       0.       1.    ]\n",
      " [207.875   84.6875 125.     ...   0.       0.       1.    ]\n",
      " [221.875   91.5    125.     ...   0.       0.       1.    ]\n",
      " ...\n",
      " [286.25    62.875  125.     ...   0.       0.       1.    ]\n",
      " [258.5     73.125  125.     ...   0.       0.       1.    ]\n",
      " [310.75    95.25   125.     ...   0.       0.       1.    ]]\n",
      "(210492, 386)\n",
      "sv_chi20 found nan!!\n",
      "(210443, 300)\n",
      "(210443, 30, 10)\n",
      "(210443, 65)\n",
      "(210443, 5, 13)\n",
      "(210443, 12)\n"
     ]
    }
   ],
   "source": [
    "X_train_htt,X_test_htt,Xalt_train_htt,Xalt_test_htt,Xevt_train_htt,Xevt_test_htt,Y_train_htt,Y_test_htt,feat_train_htt,feat_test_htt = load('/data/t3home000/spark/GluGluHToTauTau_user_0.z')"
   ]
  },
  {
   "cell_type": "code",
   "execution_count": 6,
   "metadata": {},
   "outputs": [],
   "source": [
    "gen4vec = np.apply_along_axis(fourvec, 1, Y_train_htt)\n",
    "jet4vec = np.apply_along_axis(fourvec, 1, Xevt_train_htt[:,-4:])\n",
    "\n",
    "Y_train_htt = gen4vec - jet4vec\n"
   ]
  },
  {
   "cell_type": "code",
   "execution_count": 7,
   "metadata": {},
   "outputs": [],
   "source": [
    "normlist_check = np.apply_along_axis(fourvec_norm, 1, Y_train_htt)\n"
   ]
  },
  {
   "cell_type": "code",
   "execution_count": 8,
   "metadata": {},
   "outputs": [
    {
     "data": {
      "text/plain": [
       "array([17.35819907, 13.90187909, 41.51033232, ..., 61.8070506 ,\n",
       "       75.14978329, 31.16986747])"
      ]
     },
     "execution_count": 8,
     "metadata": {},
     "output_type": "execute_result"
    }
   ],
   "source": [
    "normlist_check"
   ]
  },
  {
   "cell_type": "code",
   "execution_count": 10,
   "metadata": {},
   "outputs": [],
   "source": [
    "%matplotlib inline"
   ]
  },
  {
   "cell_type": "code",
   "execution_count": 14,
   "metadata": {},
   "outputs": [
    {
     "data": {
      "image/png": "[encoded data removed]",
      "text/plain": [
       "<Figure size 432x288 with 1 Axes>"
      ]
     },
     "metadata": {
      "needs_background": "light"
     },
     "output_type": "display_data"
    }
   ],
   "source": [
    "plt.hist(normlist_check,np.arange(0,200,1));"
   ]
  },
  {
   "cell_type": "code",
   "execution_count": 16,
   "metadata": {},
   "outputs": [
    {
     "name": "stdout",
     "output_type": "stream",
     "text": [
      "<HDF5 file \"FlatTauTau_user_0.z\" (mode r+)>\n",
      "[[4.42500000e+02 9.88281250e+00 2.97500000e+01 ... 0.00000000e+00\n",
      "  0.00000000e+00 1.00000000e+00]\n",
      " [4.39500000e+02 7.62939453e-06 3.23750000e+01 ... 0.00000000e+00\n",
      "  0.00000000e+00 1.00000000e+00]\n",
      " [8.06000000e+02 4.87500000e+01 6.37500000e+01 ... 0.00000000e+00\n",
      "  0.00000000e+00 1.00000000e+00]\n",
      " ...\n",
      " [1.24900000e+03 1.34250000e+02 1.72500000e+02 ... 0.00000000e+00\n",
      "  0.00000000e+00 1.00000000e+00]\n",
      " [3.72000000e+02 5.80000000e+01 7.47500000e+01 ... 0.00000000e+00\n",
      "  0.00000000e+00 1.00000000e+00]\n",
      " [2.77500000e+02 2.66875000e+01 5.36250000e+01 ... 0.00000000e+00\n",
      "  0.00000000e+00 1.00000000e+00]]\n",
      "(463459, 386)\n",
      "(463296, 300)\n",
      "(463296, 30, 10)\n",
      "(463296, 65)\n",
      "(463296, 5, 13)\n",
      "(463296, 12)\n"
     ]
    }
   ],
   "source": [
    "X_train_flat,X_test_flat,Xalt_train_flat,Xalt_test_flat,Xevt_train_flat,Xevt_test_flat,Y_train_flat,Y_test_flat,feat_train_flat,feat_test_flat = load('/data/t3home000/spark/FlatTauTau_user_0.z',maxevts=0)"
   ]
  },
  {
   "cell_type": "code",
   "execution_count": 20,
   "metadata": {},
   "outputs": [],
   "source": [
    "wp_list = [0,0.2, 0.5, 0.8,.9]\n",
    "wp_choice = 4\n",
    "wp = wp_list[wp_choice]"
   ]
  },
  {
   "cell_type": "code",
   "execution_count": 21,
   "metadata": {},
   "outputs": [],
   "source": [
    "X_train_split1, X_train_split2, Xalt_train_split1, Xalt_train_split2, Xevt_train_split1, Xevt_train_split2, y_train_split1, y_train_split2 = train_test_split(X_train_htt, Xalt_train_htt, Xevt_train_htt, Y_train_htt, test_size=wp, random_state=42)"
   ]
  },
  {
   "cell_type": "code",
   "execution_count": 22,
   "metadata": {},
   "outputs": [],
   "source": [
    "mixratio = round(X_train_split1.shape[0]/(X_train_flat.shape[0]+X_train_split1.shape[0])*100)"
   ]
  },
  {
   "cell_type": "code",
   "execution_count": 23,
   "metadata": {},
   "outputs": [
    {
     "data": {
      "text/plain": [
       "4"
      ]
     },
     "execution_count": 23,
     "metadata": {},
     "output_type": "execute_result"
    }
   ],
   "source": [
    "mixratio"
   ]
  },
  {
   "cell_type": "code",
   "execution_count": 17,
   "metadata": {},
   "outputs": [],
   "source": [
    "gen4vec = np.apply_along_axis(fourvec, 1, Y_train_flat)\n",
    "jet4vec = np.apply_along_axis(fourvec, 1, Xevt_train_flat[:,-4:])\n",
    "\n",
    "Y_train_flat = gen4vec - jet4vec"
   ]
  },
  {
   "cell_type": "code",
   "execution_count": 18,
   "metadata": {},
   "outputs": [],
   "source": [
    "normlist_check2 = np.apply_along_axis(fourvec_norm, 1, Y_train_flat)\n"
   ]
  },
  {
   "cell_type": "code",
   "execution_count": 22,
   "metadata": {},
   "outputs": [
    {
     "data": {
      "image/png": "[encoded data removed]",
      "text/plain": [
       "<Figure size 432x288 with 1 Axes>"
      ]
     },
     "metadata": {
      "needs_background": "light"
     },
     "output_type": "display_data"
    }
   ],
   "source": [
    "plt.hist(normlist_check2,bins=np.arange(0,200,1));"
   ]
  },
  {
   "cell_type": "code",
   "execution_count": 25,
   "metadata": {},
   "outputs": [],
   "source": [
    "X_train = np.vstack((X_train_split1, X_train_flat))\n",
    "\n",
    "Xalt_train = np.vstack((Xalt_train_split1, Xalt_train_flat))\n",
    "\n",
    "Xevt_train = np.vstack((Xevt_train_split1, Xevt_train_flat))"
   ]
  },
  {
   "cell_type": "code",
   "execution_count": 26,
   "metadata": {},
   "outputs": [
    {
     "data": {
      "text/plain": [
       "(387470, 30, 10)"
      ]
     },
     "execution_count": 26,
     "metadata": {},
     "output_type": "execute_result"
    }
   ],
   "source": [
    "X_train.shape"
   ]
  },
  {
   "cell_type": "code",
   "execution_count": 27,
   "metadata": {},
   "outputs": [
    {
     "data": {
      "text/plain": [
       "(387470, 5, 13)"
      ]
     },
     "execution_count": 27,
     "metadata": {},
     "output_type": "execute_result"
    }
   ],
   "source": [
    "Xalt_train.shape"
   ]
  },
  {
   "cell_type": "code",
   "execution_count": 28,
   "metadata": {},
   "outputs": [
    {
     "data": {
      "text/plain": [
       "(387470, 12)"
      ]
     },
     "execution_count": 28,
     "metadata": {},
     "output_type": "execute_result"
    }
   ],
   "source": [
    "Xevt_train.shape"
   ]
  },
  {
   "cell_type": "code",
   "execution_count": 32,
   "metadata": {},
   "outputs": [],
   "source": [
    "part_mean = np.mean(X_train, axis=0)\n",
    "part_std = np.std(X_train, axis=0)\n",
    "\n",
    "alt_mean = np.mean(Xalt_train, axis=0)\n",
    "alt_std = np.std(Xalt_train, axis=0)\n",
    "\n",
    "evt_mean = np.mean(Xevt_train, axis=0)\n",
    "evt_std = np.std(Xevt_train, axis=0)\n",
    "\n",
    "X_train = (X_train-part_mean)/part_std\n",
    "Xalt_train = (Xalt_train-alt_mean)/alt_std\n",
    "Xevt_train = (Xevt_train-evt_mean)/evt_std"
   ]
  },
  {
   "cell_type": "code",
   "execution_count": 33,
   "metadata": {},
   "outputs": [],
   "source": [
    "y_train = np.concatenate((y_train_split1, Y_train_flat))"
   ]
  },
  {
   "cell_type": "code",
   "execution_count": 34,
   "metadata": {},
   "outputs": [],
   "source": [
    "normlist = np.apply_along_axis(fourvec_norm, 1, y_train)\n"
   ]
  },
  {
   "cell_type": "code",
   "execution_count": 35,
   "metadata": {},
   "outputs": [],
   "source": [
    "maxnorm = np.max(normlist)"
   ]
  },
  {
   "cell_type": "code",
   "execution_count": 36,
   "metadata": {},
   "outputs": [
    {
     "data": {
      "text/plain": [
       "587.5681455543696"
      ]
     },
     "execution_count": 36,
     "metadata": {},
     "output_type": "execute_result"
    }
   ],
   "source": [
    "maxnorm"
   ]
  },
  {
   "cell_type": "code",
   "execution_count": 37,
   "metadata": {},
   "outputs": [],
   "source": [
    "y_train = y_train/maxnorm"
   ]
  },
  {
   "cell_type": "code",
   "execution_count": 38,
   "metadata": {},
   "outputs": [],
   "source": [
    "X_val, X_test, Xalt_val, Xalt_test, Xevt_val, Xevt_test, y_val, y_test = train_test_split(X_test_htt, Xalt_test_htt, Xevt_test_htt, Y_test_htt, test_size=0.5, random_state=42)"
   ]
  },
  {
   "cell_type": "code",
   "execution_count": 39,
   "metadata": {},
   "outputs": [],
   "source": [
    "y_val = (y_val/maxnorm)\n",
    "y_test = (y_test/maxnorm)"
   ]
  },
  {
   "cell_type": "code",
   "execution_count": 41,
   "metadata": {},
   "outputs": [],
   "source": [
    "X_test = (X_test-part_mean)/part_std\n",
    "Xalt_test = (Xalt_test-alt_mean)/alt_std\n",
    "Xevt_test = (Xevt_test-evt_mean)/evt_std\n",
    "\n",
    "X_val = (X_val-part_mean)/part_std\n",
    "Xalt_val = (Xalt_val-alt_mean)/alt_std\n",
    "Xevt_val = (Xevt_val-evt_mean)/evt_std"
   ]
  },
  {
   "cell_type": "code",
   "execution_count": 42,
   "metadata": {},
   "outputs": [
    {
     "name": "stdout",
     "output_type": "stream",
     "text": [
      "cuda:0\n"
     ]
    },
    {
     "data": {
      "text/plain": [
       "'GeForce RTX 2080 Ti'"
      ]
     },
     "execution_count": 42,
     "metadata": {},
     "output_type": "execute_result"
    }
   ],
   "source": [
    "device = torch.device(\"cuda:0\" if torch.cuda.is_available() else \"cpu\")\n",
    "print(device)\n",
    "torch.cuda.get_device_name(0)"
   ]
  },
  {
   "cell_type": "code",
   "execution_count": 43,
   "metadata": {},
   "outputs": [],
   "source": [
    "BATCH_SIZE = 500\n",
    "N_EPOCHS = 80\n",
    "PRINT_INTERVAL = 2000\n",
    "NUM_WORKERS = 4\n",
    "LR = 1e-4"
   ]
  },
  {
   "cell_type": "code",
   "execution_count": 44,
   "metadata": {},
   "outputs": [
    {
     "name": "stdout",
     "output_type": "stream",
     "text": [
      "SimpleGru(\n",
      "  (gru1): GRU(10, 4, num_layers=2, batch_first=True, dropout=0.5)\n",
      "  (gru2): GRU(13, 4, num_layers=2, batch_first=True, dropout=0.5)\n",
      "  (linear1): Linear(in_features=20, out_features=40, bias=True)\n",
      "  (linear2): Linear(in_features=40, out_features=20, bias=True)\n",
      "  (linear3): Linear(in_features=20, out_features=10, bias=True)\n",
      "  (linear4): Linear(in_features=10, out_features=8, bias=True)\n",
      "  (linear5): Linear(in_features=8, out_features=4, bias=True)\n",
      "  (dropout): Dropout(p=0.5, inplace=False)\n",
      "  (batchnorm1): BatchNorm1d(40, eps=1e-05, momentum=0.1, affine=True, track_running_stats=True)\n",
      "  (batchnorm2): BatchNorm1d(20, eps=1e-05, momentum=0.1, affine=True, track_running_stats=True)\n",
      "  (batchnorm3): BatchNorm1d(10, eps=1e-05, momentum=0.1, affine=True, track_running_stats=True)\n",
      "  (batchnorm4): BatchNorm1d(8, eps=1e-05, momentum=0.1, affine=True, track_running_stats=True)\n",
      ")\n"
     ]
    },
    {
     "data": {
      "text/plain": [
       "SimpleGru(\n",
       "  (gru1): GRU(10, 4, num_layers=2, batch_first=True, dropout=0.5)\n",
       "  (gru2): GRU(13, 4, num_layers=2, batch_first=True, dropout=0.5)\n",
       "  (linear1): Linear(in_features=20, out_features=40, bias=True)\n",
       "  (linear2): Linear(in_features=40, out_features=20, bias=True)\n",
       "  (linear3): Linear(in_features=20, out_features=10, bias=True)\n",
       "  (linear4): Linear(in_features=10, out_features=8, bias=True)\n",
       "  (linear5): Linear(in_features=8, out_features=4, bias=True)\n",
       "  (dropout): Dropout(p=0.5, inplace=False)\n",
       "  (batchnorm1): BatchNorm1d(40, eps=1e-05, momentum=0.1, affine=True, track_running_stats=True)\n",
       "  (batchnorm2): BatchNorm1d(20, eps=1e-05, momentum=0.1, affine=True, track_running_stats=True)\n",
       "  (batchnorm3): BatchNorm1d(10, eps=1e-05, momentum=0.1, affine=True, track_running_stats=True)\n",
       "  (batchnorm4): BatchNorm1d(8, eps=1e-05, momentum=0.1, affine=True, track_running_stats=True)\n",
       ")"
      ]
     },
     "execution_count": 44,
     "metadata": {},
     "output_type": "execute_result"
    }
   ],
   "source": [
    "model = SimpleGru()\n",
    "\n",
    "print(model)\n",
    "model.to(device)"
   ]
  },
  {
   "cell_type": "code",
   "execution_count": 45,
   "metadata": {},
   "outputs": [],
   "source": [
    "train_data = gruTrainData(torch.FloatTensor(X_train.astype(np.float)),torch.FloatTensor(Xalt_train.astype(np.float)),torch.FloatTensor(Xevt_train.astype(np.float)),torch.FloatTensor(y_train.astype(np.float)))\n",
    "val_data = gruTrainData(torch.FloatTensor(X_val.astype(np.float)),torch.FloatTensor(Xalt_val.astype(np.float)),torch.FloatTensor(Xevt_val.astype(np.float)),torch.FloatTensor(np.array(y_val).astype(np.float)))\n",
    "test_data = gruTestData(torch.FloatTensor(X_test.astype(np.float)),torch.FloatTensor(Xalt_test.astype(np.float)),torch.FloatTensor(Xevt_test.astype(np.float))) "
   ]
  },
  {
   "cell_type": "code",
   "execution_count": 46,
   "metadata": {},
   "outputs": [],
   "source": [
    "train_loader = utils.DataLoader(dataset=train_data, batch_size=BATCH_SIZE, shuffle=True)\n",
    "val_loader = utils.DataLoader(dataset=val_data, batch_size=100)\n",
    "test_loader = utils.DataLoader(dataset=test_data, batch_size=100)"
   ]
  },
  {
   "cell_type": "code",
   "execution_count": 47,
   "metadata": {},
   "outputs": [],
   "source": [
    "optimizer = optim.Adam(model.parameters(), lr=1e-4)\n",
    "criterion = nn.MSELoss()"
   ]
  },
  {
   "cell_type": "code",
   "execution_count": 48,
   "metadata": {},
   "outputs": [],
   "source": [
    "def fourvec_loss(output, target):\n",
    "    diff = output-target\n",
    "    #print(\"diff:\",diff.shape)\n",
    "    norm = torch.dot(diff[:,0],diff[:,0])-torch.dot(diff[:,1],diff[:,1])-torch.dot(diff[:,2],diff[:,2])-torch.dot(diff[:,3],diff[:,3])\n",
    "    #print(\"norm:\",norm.shape)\n",
    "    loss = torch.sqrt(torch.sqrt(norm*norm))\n",
    "    return loss"
   ]
  },
  {
   "cell_type": "code",
   "execution_count": 49,
   "metadata": {},
   "outputs": [],
   "source": [
    "def train():\n",
    "    # set the train mode\n",
    "    model.train()\n",
    "\n",
    "    # loss of the epoch\n",
    "    epoch_loss = 0\n",
    "    epoch_acc = 0\n",
    "\n",
    "    for x1,x2,x3, y in train_loader:\n",
    "        # reshape the data into [batch_size, 784]\n",
    "        x1,x2,x3,y = x1.to(device),x2.to(device),x3.to(device), y.to(device)\n",
    "\n",
    "        # update the gradients to zero\n",
    "        optimizer.zero_grad()\n",
    "\n",
    "        # forward pass\n",
    "        y_pred = model(x1,x2,x3)\n",
    "\n",
    "        # reconstruction loss\n",
    "        #recon_loss = F.binary_cross_entropy(x_sample, x, size_average=False)\n",
    "\n",
    "        # kl divergence loss\n",
    "        #kl_loss = 0.5 * torch.sum(torch.exp(z_var) + z_mu**2 - 1.0 - z_var)\n",
    "\n",
    "        # total loss\n",
    "        #loss = recon_loss + kl_loss\n",
    "\n",
    "        #BCE loss\n",
    "        #print(y_pred.shape, y.shape)\n",
    "        loss = criterion(y_pred, y)\n",
    "        \n",
    "        # backward pass\n",
    "        loss.backward()\n",
    "        epoch_loss += loss.item()\n",
    "\n",
    "        # update the weights\n",
    "        optimizer.step()\n",
    "\n",
    "    return epoch_loss"
   ]
  },
  {
   "cell_type": "code",
   "execution_count": 50,
   "metadata": {},
   "outputs": [],
   "source": [
    "def test():\n",
    "    # set the evaluation mode\n",
    "    model.eval()\n",
    "\n",
    "    # test loss for the data\n",
    "    test_loss = 0\n",
    "\n",
    "    # we don't need to track the gradients, since we are not updating the parameters during evaluation / testing\n",
    "    with torch.no_grad():\n",
    "        for x1,x2,x3, y in val_loader:\n",
    "            # reshape the data\n",
    "            #x = x.view(-1, 28 * 28)\n",
    "            x1,x2,x3,y = x1.to(device),x2.to(device),x3.to(device), y.to(device)\n",
    "            # forward pass\n",
    "            y_pred = model(x1,x2,x3)\n",
    "\n",
    "            loss = criterion(y_pred, y)\n",
    "            # total loss\n",
    "            \n",
    "            test_loss += loss.item()\n",
    "\n",
    "    return test_loss\n"
   ]
  },
  {
   "cell_type": "code",
   "execution_count": 51,
   "metadata": {},
   "outputs": [
    {
     "data": {
      "text/plain": [
       "4"
      ]
     },
     "execution_count": 51,
     "metadata": {},
     "output_type": "execute_result"
    }
   ],
   "source": [
    "mixratio"
   ]
  },
  {
   "cell_type": "code",
   "execution_count": 64,
   "metadata": {},
   "outputs": [
    {
     "data": {
      "text/plain": [
       "<All keys matched successfully>"
      ]
     },
     "execution_count": 64,
     "metadata": {},
     "output_type": "execute_result"
    }
   ],
   "source": [
    "model.load_state_dict(torch.load(f\"/data/t3home000/spark/MassRegression/weights/fourVec_GRU_{mixratio}_v1.h5\"))"
   ]
  },
  {
   "cell_type": "code",
   "execution_count": 63,
   "metadata": {},
   "outputs": [],
   "source": [
    "optimizer = optim.Adam(model.parameters(), lr=1e-6)\n"
   ]
  },
  {
   "cell_type": "code",
   "execution_count": 65,
   "metadata": {},
   "outputs": [
    {
     "name": "stdout",
     "output_type": "stream",
     "text": [
      "Epoch 0, Train Loss: 0.0008005, Test Loss: 0.0010057\n",
      "NOT SAVING\n",
      "Epoch 1, Train Loss: 0.0007971, Test Loss: 0.0010343\n",
      "NOT SAVING\n",
      "Epoch 2, Train Loss: 0.0007948, Test Loss: 0.0010184\n",
      "NOT SAVING\n",
      "Epoch 3, Train Loss: 0.0007903, Test Loss: 0.0010434\n",
      "NOT SAVING\n",
      "Epoch 4, Train Loss: 0.0007878, Test Loss: 0.0010497\n",
      "NOT SAVING\n",
      "Epoch 5, Train Loss: 0.0007835, Test Loss: 0.0010574\n",
      "NOT SAVING\n",
      "Epoch 6, Train Loss: 0.0007801, Test Loss: 0.0010785\n",
      "NOT SAVING\n",
      "Epoch 7, Train Loss: 0.0007770, Test Loss: 0.0010945\n",
      "NOT SAVING\n",
      "Epoch 8, Train Loss: 0.0007735, Test Loss: 0.0010902\n",
      "NOT SAVING\n",
      "Epoch 9, Train Loss: 0.0007710, Test Loss: 0.0011002\n",
      "NOT SAVING\n",
      "Epoch 10, Train Loss: 0.0007674, Test Loss: 0.0010728\n",
      "NOT SAVING\n",
      "Epoch 11, Train Loss: 0.0007642, Test Loss: 0.0011274\n",
      "NOT SAVING\n",
      "Epoch 12, Train Loss: 0.0007611, Test Loss: 0.0011165\n",
      "NOT SAVING\n",
      "Epoch 13, Train Loss: 0.0007579, Test Loss: 0.0011385\n",
      "NOT SAVING\n",
      "Epoch 14, Train Loss: 0.0007549, Test Loss: 0.0011431\n",
      "NOT SAVING\n",
      "Epoch 15, Train Loss: 0.0007524, Test Loss: 0.0011634\n",
      "NOT SAVING\n",
      "Epoch 16, Train Loss: 0.0007488, Test Loss: 0.0011411\n",
      "NOT SAVING\n",
      "Epoch 17, Train Loss: 0.0007457, Test Loss: 0.0011875\n",
      "NOT SAVING\n",
      "Epoch 18, Train Loss: 0.0007421, Test Loss: 0.0012046\n",
      "NOT SAVING\n",
      "Epoch 19, Train Loss: 0.0007388, Test Loss: 0.0011983\n",
      "NOT SAVING\n",
      "Epoch 20, Train Loss: 0.0007352, Test Loss: 0.0012195\n",
      "NOT SAVING\n",
      "Epoch 21, Train Loss: 0.0007333, Test Loss: 0.0012326\n",
      "NOT SAVING\n",
      "Epoch 22, Train Loss: 0.0007298, Test Loss: 0.0012463\n",
      "NOT SAVING\n",
      "Epoch 23, Train Loss: 0.0007276, Test Loss: 0.0012369\n",
      "NOT SAVING\n",
      "Epoch 24, Train Loss: 0.0007240, Test Loss: 0.0012364\n",
      "NOT SAVING\n",
      "Epoch 25, Train Loss: 0.0007212, Test Loss: 0.0012716\n",
      "NOT SAVING\n",
      "Epoch 26, Train Loss: 0.0007196, Test Loss: 0.0012509\n",
      "NOT SAVING\n",
      "Epoch 27, Train Loss: 0.0007168, Test Loss: 0.0012622\n",
      "NOT SAVING\n",
      "Epoch 28, Train Loss: 0.0007136, Test Loss: 0.0012599\n",
      "NOT SAVING\n",
      "Epoch 29, Train Loss: 0.0007104, Test Loss: 0.0012941\n",
      "NOT SAVING\n",
      "Epoch 30, Train Loss: 0.0007075, Test Loss: 0.0013064\n",
      "NOT SAVING\n",
      "Epoch 31, Train Loss: 0.0007053, Test Loss: 0.0013184\n",
      "NOT SAVING\n",
      "Epoch 32, Train Loss: 0.0007015, Test Loss: 0.0013300\n",
      "NOT SAVING\n",
      "Epoch 33, Train Loss: 0.0006999, Test Loss: 0.0013437\n",
      "NOT SAVING\n",
      "Epoch 34, Train Loss: 0.0006972, Test Loss: 0.0013492\n",
      "NOT SAVING\n",
      "Epoch 35, Train Loss: 0.0006946, Test Loss: 0.0013708\n",
      "NOT SAVING\n",
      "Epoch 36, Train Loss: 0.0006924, Test Loss: 0.0013666\n",
      "NOT SAVING\n",
      "Epoch 37, Train Loss: 0.0006893, Test Loss: 0.0013701\n",
      "NOT SAVING\n",
      "Epoch 38, Train Loss: 0.0006862, Test Loss: 0.0013923\n",
      "NOT SAVING\n",
      "Epoch 39, Train Loss: 0.0006847, Test Loss: 0.0014092\n",
      "NOT SAVING\n",
      "Epoch 40, Train Loss: 0.0006813, Test Loss: 0.0014192\n",
      "NOT SAVING\n",
      "Epoch 41, Train Loss: 0.0006794, Test Loss: 0.0014249\n",
      "NOT SAVING\n",
      "Epoch 42, Train Loss: 0.0006775, Test Loss: 0.0014133\n",
      "NOT SAVING\n",
      "Epoch 43, Train Loss: 0.0006746, Test Loss: 0.0014184\n",
      "NOT SAVING\n",
      "Epoch 44, Train Loss: 0.0006717, Test Loss: 0.0014251\n",
      "NOT SAVING\n",
      "Epoch 45, Train Loss: 0.0006704, Test Loss: 0.0014666\n",
      "NOT SAVING\n",
      "Epoch 46, Train Loss: 0.0006670, Test Loss: 0.0014607\n",
      "NOT SAVING\n",
      "Epoch 47, Train Loss: 0.0006651, Test Loss: 0.0014684\n",
      "NOT SAVING\n",
      "Epoch 48, Train Loss: 0.0006622, Test Loss: 0.0014853\n",
      "NOT SAVING\n",
      "Epoch 49, Train Loss: 0.0006611, Test Loss: 0.0014994\n",
      "NOT SAVING\n",
      "Epoch 50, Train Loss: 0.0006584, Test Loss: 0.0015175\n",
      "NOT SAVING\n",
      "Epoch 51, Train Loss: 0.0006559, Test Loss: 0.0015216\n",
      "NOT SAVING\n",
      "Epoch 52, Train Loss: 0.0006544, Test Loss: 0.0015102\n",
      "NOT SAVING\n",
      "Epoch 53, Train Loss: 0.0006524, Test Loss: 0.0015141\n",
      "NOT SAVING\n",
      "Epoch 54, Train Loss: 0.0006501, Test Loss: 0.0015199\n",
      "NOT SAVING\n",
      "Epoch 55, Train Loss: 0.0006486, Test Loss: 0.0015199\n",
      "NOT SAVING\n",
      "Epoch 56, Train Loss: 0.0006459, Test Loss: 0.0015653\n",
      "NOT SAVING\n",
      "Epoch 57, Train Loss: 0.0006431, Test Loss: 0.0015610\n",
      "NOT SAVING\n",
      "Epoch 58, Train Loss: 0.0006419, Test Loss: 0.0015687\n",
      "NOT SAVING\n",
      "Epoch 59, Train Loss: 0.0006402, Test Loss: 0.0015774\n",
      "NOT SAVING\n",
      "Epoch 60, Train Loss: 0.0006380, Test Loss: 0.0015729\n",
      "NOT SAVING\n",
      "Epoch 61, Train Loss: 0.0006355, Test Loss: 0.0015870\n",
      "NOT SAVING\n",
      "Epoch 62, Train Loss: 0.0006339, Test Loss: 0.0015999\n",
      "NOT SAVING\n",
      "Epoch 63, Train Loss: 0.0006320, Test Loss: 0.0015951\n",
      "NOT SAVING\n",
      "Epoch 64, Train Loss: 0.0006304, Test Loss: 0.0016093\n",
      "NOT SAVING\n",
      "Epoch 65, Train Loss: 0.0006288, Test Loss: 0.0016175\n",
      "NOT SAVING\n",
      "Epoch 66, Train Loss: 0.0006270, Test Loss: 0.0015877\n",
      "NOT SAVING\n",
      "Epoch 67, Train Loss: 0.0006260, Test Loss: 0.0016284\n",
      "NOT SAVING\n",
      "Epoch 68, Train Loss: 0.0006234, Test Loss: 0.0016335\n",
      "NOT SAVING\n",
      "Epoch 69, Train Loss: 0.0006213, Test Loss: 0.0016447\n",
      "NOT SAVING\n",
      "Epoch 70, Train Loss: 0.0006196, Test Loss: 0.0016533\n",
      "NOT SAVING\n",
      "Epoch 71, Train Loss: 0.0006182, Test Loss: 0.0016732\n",
      "NOT SAVING\n",
      "Epoch 72, Train Loss: 0.0006168, Test Loss: 0.0016609\n",
      "NOT SAVING\n",
      "Epoch 73, Train Loss: 0.0006154, Test Loss: 0.0016635\n",
      "NOT SAVING\n",
      "Epoch 74, Train Loss: 0.0006133, Test Loss: 0.0016767\n",
      "NOT SAVING\n",
      "Epoch 75, Train Loss: 0.0006125, Test Loss: 0.0016531\n",
      "NOT SAVING\n",
      "Epoch 76, Train Loss: 0.0006111, Test Loss: 0.0016562\n",
      "NOT SAVING\n",
      "Epoch 77, Train Loss: 0.0006091, Test Loss: 0.0016568\n",
      "NOT SAVING\n",
      "Epoch 78, Train Loss: 0.0006071, Test Loss: 0.0016696\n",
      "NOT SAVING\n",
      "Epoch 79, Train Loss: 0.0006061, Test Loss: 0.0016836\n",
      "NOT SAVING\n",
      "Epoch 80, Train Loss: 0.0006048, Test Loss: 0.0017040\n",
      "NOT SAVING\n",
      "Epoch 81, Train Loss: 0.0006036, Test Loss: 0.0017089\n",
      "NOT SAVING\n",
      "Epoch 82, Train Loss: 0.0006028, Test Loss: 0.0016962\n",
      "NOT SAVING\n",
      "Epoch 83, Train Loss: 0.0006008, Test Loss: 0.0017297\n",
      "NOT SAVING\n",
      "Epoch 84, Train Loss: 0.0005993, Test Loss: 0.0017269\n",
      "NOT SAVING\n",
      "Epoch 85, Train Loss: 0.0005972, Test Loss: 0.0017058\n",
      "NOT SAVING\n",
      "Epoch 86, Train Loss: 0.0005967, Test Loss: 0.0017365\n",
      "NOT SAVING\n",
      "Epoch 87, Train Loss: 0.0005947, Test Loss: 0.0017253\n",
      "NOT SAVING\n",
      "Epoch 88, Train Loss: 0.0005932, Test Loss: 0.0017370\n",
      "NOT SAVING\n",
      "Epoch 89, Train Loss: 0.0005923, Test Loss: 0.0017340\n",
      "NOT SAVING\n",
      "Epoch 90, Train Loss: 0.0005908, Test Loss: 0.0017428\n",
      "NOT SAVING\n",
      "Epoch 91, Train Loss: 0.0005898, Test Loss: 0.0017446\n",
      "NOT SAVING\n",
      "Epoch 92, Train Loss: 0.0005898, Test Loss: 0.0017648\n",
      "NOT SAVING\n",
      "Epoch 93, Train Loss: 0.0005878, Test Loss: 0.0017493\n",
      "NOT SAVING\n",
      "Epoch 94, Train Loss: 0.0005855, Test Loss: 0.0017701\n",
      "NOT SAVING\n",
      "Epoch 95, Train Loss: 0.0005846, Test Loss: 0.0017552\n",
      "NOT SAVING\n",
      "Epoch 96, Train Loss: 0.0005836, Test Loss: 0.0017390\n",
      "NOT SAVING\n",
      "Epoch 97, Train Loss: 0.0005834, Test Loss: 0.0017746\n",
      "NOT SAVING\n",
      "Epoch 98, Train Loss: 0.0005821, Test Loss: 0.0017828\n",
      "NOT SAVING\n"
     ]
    },
    {
     "ename": "KeyboardInterrupt",
     "evalue": "",
     "output_type": "error",
     "traceback": [
      "\u001b[0;31m---------------------------------------------------------------------------\u001b[0m",
      "\u001b[0;31mKeyboardInterrupt\u001b[0m                         Traceback (most recent call last)",
      "\u001b[0;32m<ipython-input-65-4b517aec35ad>\u001b[0m in \u001b[0;36m<module>\u001b[0;34m\u001b[0m\n\u001b[1;32m      3\u001b[0m \u001b[0;32mfor\u001b[0m \u001b[0me\u001b[0m \u001b[0;32min\u001b[0m \u001b[0mrange\u001b[0m\u001b[0;34m(\u001b[0m\u001b[0;36m500\u001b[0m\u001b[0;34m)\u001b[0m\u001b[0;34m:\u001b[0m\u001b[0;34m\u001b[0m\u001b[0;34m\u001b[0m\u001b[0m\n\u001b[1;32m      4\u001b[0m \u001b[0;34m\u001b[0m\u001b[0m\n\u001b[0;32m----> 5\u001b[0;31m     \u001b[0mtrain_loss\u001b[0m \u001b[0;34m=\u001b[0m \u001b[0mtrain\u001b[0m\u001b[0;34m(\u001b[0m\u001b[0;34m)\u001b[0m\u001b[0;34m\u001b[0m\u001b[0;34m\u001b[0m\u001b[0m\n\u001b[0m\u001b[1;32m      6\u001b[0m     \u001b[0mtest_loss\u001b[0m \u001b[0;34m=\u001b[0m \u001b[0mtest\u001b[0m\u001b[0;34m(\u001b[0m\u001b[0;34m)\u001b[0m\u001b[0;34m\u001b[0m\u001b[0;34m\u001b[0m\u001b[0m\n\u001b[1;32m      7\u001b[0m \u001b[0;34m\u001b[0m\u001b[0m\n",
      "\u001b[0;32m<ipython-input-49-f8b1bdd4b137>\u001b[0m in \u001b[0;36mtrain\u001b[0;34m()\u001b[0m\n\u001b[1;32m      7\u001b[0m     \u001b[0mepoch_acc\u001b[0m \u001b[0;34m=\u001b[0m \u001b[0;36m0\u001b[0m\u001b[0;34m\u001b[0m\u001b[0;34m\u001b[0m\u001b[0m\n\u001b[1;32m      8\u001b[0m \u001b[0;34m\u001b[0m\u001b[0m\n\u001b[0;32m----> 9\u001b[0;31m     \u001b[0;32mfor\u001b[0m \u001b[0mx1\u001b[0m\u001b[0;34m,\u001b[0m\u001b[0mx2\u001b[0m\u001b[0;34m,\u001b[0m\u001b[0mx3\u001b[0m\u001b[0;34m,\u001b[0m \u001b[0my\u001b[0m \u001b[0;32min\u001b[0m \u001b[0mtrain_loader\u001b[0m\u001b[0;34m:\u001b[0m\u001b[0;34m\u001b[0m\u001b[0;34m\u001b[0m\u001b[0m\n\u001b[0m\u001b[1;32m     10\u001b[0m         \u001b[0;31m# reshape the data into [batch_size, 784]\u001b[0m\u001b[0;34m\u001b[0m\u001b[0;34m\u001b[0m\u001b[0;34m\u001b[0m\u001b[0m\n\u001b[1;32m     11\u001b[0m         \u001b[0mx1\u001b[0m\u001b[0;34m,\u001b[0m\u001b[0mx2\u001b[0m\u001b[0;34m,\u001b[0m\u001b[0mx3\u001b[0m\u001b[0;34m,\u001b[0m\u001b[0my\u001b[0m \u001b[0;34m=\u001b[0m \u001b[0mx1\u001b[0m\u001b[0;34m.\u001b[0m\u001b[0mto\u001b[0m\u001b[0;34m(\u001b[0m\u001b[0mdevice\u001b[0m\u001b[0;34m)\u001b[0m\u001b[0;34m,\u001b[0m\u001b[0mx2\u001b[0m\u001b[0;34m.\u001b[0m\u001b[0mto\u001b[0m\u001b[0;34m(\u001b[0m\u001b[0mdevice\u001b[0m\u001b[0;34m)\u001b[0m\u001b[0;34m,\u001b[0m\u001b[0mx3\u001b[0m\u001b[0;34m.\u001b[0m\u001b[0mto\u001b[0m\u001b[0;34m(\u001b[0m\u001b[0mdevice\u001b[0m\u001b[0;34m)\u001b[0m\u001b[0;34m,\u001b[0m \u001b[0my\u001b[0m\u001b[0;34m.\u001b[0m\u001b[0mto\u001b[0m\u001b[0;34m(\u001b[0m\u001b[0mdevice\u001b[0m\u001b[0;34m)\u001b[0m\u001b[0;34m\u001b[0m\u001b[0;34m\u001b[0m\u001b[0m\n",
      "\u001b[0;32m/data/t3home000/spark/miniconda3/envs/fewshot/lib/python3.7/site-packages/torch/utils/data/dataloader.py\u001b[0m in \u001b[0;36m__next__\u001b[0;34m(self)\u001b[0m\n\u001b[1;32m    343\u001b[0m \u001b[0;34m\u001b[0m\u001b[0m\n\u001b[1;32m    344\u001b[0m     \u001b[0;32mdef\u001b[0m \u001b[0m__next__\u001b[0m\u001b[0;34m(\u001b[0m\u001b[0mself\u001b[0m\u001b[0;34m)\u001b[0m\u001b[0;34m:\u001b[0m\u001b[0;34m\u001b[0m\u001b[0;34m\u001b[0m\u001b[0m\n\u001b[0;32m--> 345\u001b[0;31m         \u001b[0mdata\u001b[0m \u001b[0;34m=\u001b[0m \u001b[0mself\u001b[0m\u001b[0;34m.\u001b[0m\u001b[0m_next_data\u001b[0m\u001b[0;34m(\u001b[0m\u001b[0;34m)\u001b[0m\u001b[0;34m\u001b[0m\u001b[0;34m\u001b[0m\u001b[0m\n\u001b[0m\u001b[1;32m    346\u001b[0m         \u001b[0mself\u001b[0m\u001b[0;34m.\u001b[0m\u001b[0m_num_yielded\u001b[0m \u001b[0;34m+=\u001b[0m \u001b[0;36m1\u001b[0m\u001b[0;34m\u001b[0m\u001b[0;34m\u001b[0m\u001b[0m\n\u001b[1;32m    347\u001b[0m         \u001b[0;32mif\u001b[0m \u001b[0mself\u001b[0m\u001b[0;34m.\u001b[0m\u001b[0m_dataset_kind\u001b[0m \u001b[0;34m==\u001b[0m \u001b[0m_DatasetKind\u001b[0m\u001b[0;34m.\u001b[0m\u001b[0mIterable\u001b[0m \u001b[0;32mand\u001b[0m\u001b[0;31m \u001b[0m\u001b[0;31m\\\u001b[0m\u001b[0;34m\u001b[0m\u001b[0;34m\u001b[0m\u001b[0m\n",
      "\u001b[0;32m/data/t3home000/spark/miniconda3/envs/fewshot/lib/python3.7/site-packages/torch/utils/data/dataloader.py\u001b[0m in \u001b[0;36m_next_data\u001b[0;34m(self)\u001b[0m\n\u001b[1;32m    383\u001b[0m     \u001b[0;32mdef\u001b[0m \u001b[0m_next_data\u001b[0m\u001b[0;34m(\u001b[0m\u001b[0mself\u001b[0m\u001b[0;34m)\u001b[0m\u001b[0;34m:\u001b[0m\u001b[0;34m\u001b[0m\u001b[0;34m\u001b[0m\u001b[0m\n\u001b[1;32m    384\u001b[0m         \u001b[0mindex\u001b[0m \u001b[0;34m=\u001b[0m \u001b[0mself\u001b[0m\u001b[0;34m.\u001b[0m\u001b[0m_next_index\u001b[0m\u001b[0;34m(\u001b[0m\u001b[0;34m)\u001b[0m  \u001b[0;31m# may raise StopIteration\u001b[0m\u001b[0;34m\u001b[0m\u001b[0;34m\u001b[0m\u001b[0m\n\u001b[0;32m--> 385\u001b[0;31m         \u001b[0mdata\u001b[0m \u001b[0;34m=\u001b[0m \u001b[0mself\u001b[0m\u001b[0;34m.\u001b[0m\u001b[0m_dataset_fetcher\u001b[0m\u001b[0;34m.\u001b[0m\u001b[0mfetch\u001b[0m\u001b[0;34m(\u001b[0m\u001b[0mindex\u001b[0m\u001b[0;34m)\u001b[0m  \u001b[0;31m# may raise StopIteration\u001b[0m\u001b[0;34m\u001b[0m\u001b[0;34m\u001b[0m\u001b[0m\n\u001b[0m\u001b[1;32m    386\u001b[0m         \u001b[0;32mif\u001b[0m \u001b[0mself\u001b[0m\u001b[0;34m.\u001b[0m\u001b[0m_pin_memory\u001b[0m\u001b[0;34m:\u001b[0m\u001b[0;34m\u001b[0m\u001b[0;34m\u001b[0m\u001b[0m\n\u001b[1;32m    387\u001b[0m             \u001b[0mdata\u001b[0m \u001b[0;34m=\u001b[0m \u001b[0m_utils\u001b[0m\u001b[0;34m.\u001b[0m\u001b[0mpin_memory\u001b[0m\u001b[0;34m.\u001b[0m\u001b[0mpin_memory\u001b[0m\u001b[0;34m(\u001b[0m\u001b[0mdata\u001b[0m\u001b[0;34m)\u001b[0m\u001b[0;34m\u001b[0m\u001b[0;34m\u001b[0m\u001b[0m\n",
      "\u001b[0;32m/data/t3home000/spark/miniconda3/envs/fewshot/lib/python3.7/site-packages/torch/utils/data/_utils/fetch.py\u001b[0m in \u001b[0;36mfetch\u001b[0;34m(self, possibly_batched_index)\u001b[0m\n\u001b[1;32m     42\u001b[0m     \u001b[0;32mdef\u001b[0m \u001b[0mfetch\u001b[0m\u001b[0;34m(\u001b[0m\u001b[0mself\u001b[0m\u001b[0;34m,\u001b[0m \u001b[0mpossibly_batched_index\u001b[0m\u001b[0;34m)\u001b[0m\u001b[0;34m:\u001b[0m\u001b[0;34m\u001b[0m\u001b[0;34m\u001b[0m\u001b[0m\n\u001b[1;32m     43\u001b[0m         \u001b[0;32mif\u001b[0m \u001b[0mself\u001b[0m\u001b[0;34m.\u001b[0m\u001b[0mauto_collation\u001b[0m\u001b[0;34m:\u001b[0m\u001b[0;34m\u001b[0m\u001b[0;34m\u001b[0m\u001b[0m\n\u001b[0;32m---> 44\u001b[0;31m             \u001b[0mdata\u001b[0m \u001b[0;34m=\u001b[0m \u001b[0;34m[\u001b[0m\u001b[0mself\u001b[0m\u001b[0;34m.\u001b[0m\u001b[0mdataset\u001b[0m\u001b[0;34m[\u001b[0m\u001b[0midx\u001b[0m\u001b[0;34m]\u001b[0m \u001b[0;32mfor\u001b[0m \u001b[0midx\u001b[0m \u001b[0;32min\u001b[0m \u001b[0mpossibly_batched_index\u001b[0m\u001b[0;34m]\u001b[0m\u001b[0;34m\u001b[0m\u001b[0;34m\u001b[0m\u001b[0m\n\u001b[0m\u001b[1;32m     45\u001b[0m         \u001b[0;32melse\u001b[0m\u001b[0;34m:\u001b[0m\u001b[0;34m\u001b[0m\u001b[0;34m\u001b[0m\u001b[0m\n\u001b[1;32m     46\u001b[0m             \u001b[0mdata\u001b[0m \u001b[0;34m=\u001b[0m \u001b[0mself\u001b[0m\u001b[0;34m.\u001b[0m\u001b[0mdataset\u001b[0m\u001b[0;34m[\u001b[0m\u001b[0mpossibly_batched_index\u001b[0m\u001b[0;34m]\u001b[0m\u001b[0;34m\u001b[0m\u001b[0;34m\u001b[0m\u001b[0m\n",
      "\u001b[0;32m/data/t3home000/spark/miniconda3/envs/fewshot/lib/python3.7/site-packages/torch/utils/data/_utils/fetch.py\u001b[0m in \u001b[0;36m<listcomp>\u001b[0;34m(.0)\u001b[0m\n\u001b[1;32m     42\u001b[0m     \u001b[0;32mdef\u001b[0m \u001b[0mfetch\u001b[0m\u001b[0;34m(\u001b[0m\u001b[0mself\u001b[0m\u001b[0;34m,\u001b[0m \u001b[0mpossibly_batched_index\u001b[0m\u001b[0;34m)\u001b[0m\u001b[0;34m:\u001b[0m\u001b[0;34m\u001b[0m\u001b[0;34m\u001b[0m\u001b[0m\n\u001b[1;32m     43\u001b[0m         \u001b[0;32mif\u001b[0m \u001b[0mself\u001b[0m\u001b[0;34m.\u001b[0m\u001b[0mauto_collation\u001b[0m\u001b[0;34m:\u001b[0m\u001b[0;34m\u001b[0m\u001b[0;34m\u001b[0m\u001b[0m\n\u001b[0;32m---> 44\u001b[0;31m             \u001b[0mdata\u001b[0m \u001b[0;34m=\u001b[0m \u001b[0;34m[\u001b[0m\u001b[0mself\u001b[0m\u001b[0;34m.\u001b[0m\u001b[0mdataset\u001b[0m\u001b[0;34m[\u001b[0m\u001b[0midx\u001b[0m\u001b[0;34m]\u001b[0m \u001b[0;32mfor\u001b[0m \u001b[0midx\u001b[0m \u001b[0;32min\u001b[0m \u001b[0mpossibly_batched_index\u001b[0m\u001b[0;34m]\u001b[0m\u001b[0;34m\u001b[0m\u001b[0;34m\u001b[0m\u001b[0m\n\u001b[0m\u001b[1;32m     45\u001b[0m         \u001b[0;32melse\u001b[0m\u001b[0;34m:\u001b[0m\u001b[0;34m\u001b[0m\u001b[0;34m\u001b[0m\u001b[0m\n\u001b[1;32m     46\u001b[0m             \u001b[0mdata\u001b[0m \u001b[0;34m=\u001b[0m \u001b[0mself\u001b[0m\u001b[0;34m.\u001b[0m\u001b[0mdataset\u001b[0m\u001b[0;34m[\u001b[0m\u001b[0mpossibly_batched_index\u001b[0m\u001b[0;34m]\u001b[0m\u001b[0;34m\u001b[0m\u001b[0;34m\u001b[0m\u001b[0m\n",
      "\u001b[0;32m/data/t3home000/spark/MassRegression/supervised.py\u001b[0m in \u001b[0;36m__getitem__\u001b[0;34m(self, index)\u001b[0m\n\u001b[1;32m     87\u001b[0m \u001b[0;34m\u001b[0m\u001b[0m\n\u001b[1;32m     88\u001b[0m     \u001b[0;32mdef\u001b[0m \u001b[0m__getitem__\u001b[0m\u001b[0;34m(\u001b[0m\u001b[0mself\u001b[0m\u001b[0;34m,\u001b[0m \u001b[0mindex\u001b[0m\u001b[0;34m)\u001b[0m\u001b[0;34m:\u001b[0m\u001b[0;34m\u001b[0m\u001b[0;34m\u001b[0m\u001b[0m\n\u001b[0;32m---> 89\u001b[0;31m         \u001b[0;32mreturn\u001b[0m \u001b[0mself\u001b[0m\u001b[0;34m.\u001b[0m\u001b[0mX1\u001b[0m\u001b[0;34m[\u001b[0m\u001b[0mindex\u001b[0m\u001b[0;34m]\u001b[0m\u001b[0;34m,\u001b[0m \u001b[0mself\u001b[0m\u001b[0;34m.\u001b[0m\u001b[0mX2\u001b[0m\u001b[0;34m[\u001b[0m\u001b[0mindex\u001b[0m\u001b[0;34m]\u001b[0m\u001b[0;34m,\u001b[0m\u001b[0mself\u001b[0m\u001b[0;34m.\u001b[0m\u001b[0mX3\u001b[0m\u001b[0;34m[\u001b[0m\u001b[0mindex\u001b[0m\u001b[0;34m]\u001b[0m\u001b[0;34m,\u001b[0m\u001b[0mself\u001b[0m\u001b[0;34m.\u001b[0m\u001b[0my\u001b[0m\u001b[0;34m[\u001b[0m\u001b[0mindex\u001b[0m\u001b[0;34m]\u001b[0m\u001b[0;34m\u001b[0m\u001b[0;34m\u001b[0m\u001b[0m\n\u001b[0m\u001b[1;32m     90\u001b[0m \u001b[0;34m\u001b[0m\u001b[0m\n\u001b[1;32m     91\u001b[0m     \u001b[0;32mdef\u001b[0m \u001b[0m__len__\u001b[0m \u001b[0;34m(\u001b[0m\u001b[0mself\u001b[0m\u001b[0;34m)\u001b[0m\u001b[0;34m:\u001b[0m\u001b[0;34m\u001b[0m\u001b[0;34m\u001b[0m\u001b[0m\n",
      "\u001b[0;31mKeyboardInterrupt\u001b[0m: "
     ]
    }
   ],
   "source": [
    "best_test_loss = 0.0009\n",
    "patience_counter = 0\n",
    "for e in range(500):\n",
    "\n",
    "    train_loss = train()\n",
    "    test_loss = test()\n",
    "\n",
    "    train_loss /= len(train_data)\n",
    "    test_loss /= len(val_data)\n",
    "\n",
    "    print(f'Epoch {e}, Train Loss: {train_loss:.7f}, Test Loss: {test_loss:.7f}')\n",
    "\n",
    "    if best_test_loss > test_loss:\n",
    "        best_test_loss = test_loss\n",
    "        torch.save(model.state_dict(), f\"/data/t3home000/spark/MassRegression/weights/fourVec_GRU_{mixratio}_v1.h5\")\n",
    "        patience_counter = 1\n",
    "        print('saving model')\n",
    "    else:\n",
    "        print('NOT SAVING')\n",
    "        patience_counter += 1\n",
    "\n",
    "    if patience_counter > 100:\n",
    "        print('patience limit reached')\n",
    "        break"
   ]
  },
  {
   "cell_type": "code",
   "execution_count": 66,
   "metadata": {},
   "outputs": [],
   "source": [
    "model.eval()\n",
    "y_pred_list = np.array([],dtype=np.float)\n",
    "with torch.no_grad():\n",
    "    for batch_idx, (x1,x2,x3) in enumerate(test_loader):\n",
    "        x1 = x1.to(device)\n",
    "        x2 = x2.to(device)\n",
    "        x3 = x3.to(device)\n",
    "        y_test_pred = model(x1,x2,x3)\n",
    "        y_test_pred = y_test_pred.cpu().numpy()\n",
    "        y_test_pred *= maxnorm\n",
    "        xevt = x3.cpu().numpy()\n",
    "        jet4vec = (xevt[:,-4:]*evt_std[-4:]) + evt_mean[-4:]\n",
    "        reconstructed = jet4vec + y_test_pred\n",
    "        #print(reconstructed.shape)\n",
    "        mass = np.apply_along_axis(fourvec_norm, 1, reconstructed)\n",
    "        \n",
    "        #y_test_pred = torch.sigmoid(y_test_pred)\n",
    "        #y_pred_tag = torch.round(y_test_pred)\n",
    "        y_pred_list = np.append(y_pred_list,mass)"
   ]
  },
  {
   "cell_type": "code",
   "execution_count": 68,
   "metadata": {},
   "outputs": [],
   "source": [
    "%matplotlib inline\n"
   ]
  },
  {
   "cell_type": "code",
   "execution_count": null,
   "metadata": {},
   "outputs": [],
   "source": [
    "y_pred_list"
   ]
  },
  {
   "cell_type": "code",
   "execution_count": 69,
   "metadata": {},
   "outputs": [
    {
     "data": {
      "image/png": "[encoded data removed]",
      "text/plain": [
       "<Figure size 432x288 with 1 Axes>"
      ]
     },
     "metadata": {
      "needs_background": "light"
     },
     "output_type": "display_data"
    }
   ],
   "source": [
    "plt.hist(y_pred_list,np.arange(0,1000,1));"
   ]
  },
  {
   "cell_type": "code",
   "execution_count": null,
   "metadata": {},
   "outputs": [],
   "source": [
    "mixratio"
   ]
  },
  {
   "cell_type": "code",
   "execution_count": null,
   "metadata": {},
   "outputs": [],
   "source": [
    "n,b,patches = plt.hist(predicted_mass,np.arange(60,300,3))\n",
    "plt.text(200, 1000, f'mean: {np.mean(predicted_mass):.2f}', fontsize=15)\n",
    "plt.text(200, 800, f'std: {np.std(predicted_mass):.2f}', fontsize=15)\n",
    "\n",
    "plt.text(200, 600, f'mixratio: {mixratio}%', fontsize=15)\n",
    "\n",
    "plt.text(65, 1200, f'm={b[bin_max][0]}', fontsize=13)\n",
    "\n",
    "plt.axvline(x=b[bin_max][0],color='r')\n",
    "plt.savefig('hadhad_mixratio_11')"
   ]
  },
  {
   "cell_type": "code",
   "execution_count": null,
   "metadata": {},
   "outputs": [],
   "source": [
    "bin_max = np.where(n == n.max())"
   ]
  },
  {
   "cell_type": "code",
   "execution_count": null,
   "metadata": {},
   "outputs": [],
   "source": [
    "b[bin_max][0]"
   ]
  },
  {
   "cell_type": "code",
   "execution_count": null,
   "metadata": {},
   "outputs": [],
   "source": [
    "relerr = (predicted_mass - 125) /125"
   ]
  },
  {
   "cell_type": "code",
   "execution_count": null,
   "metadata": {},
   "outputs": [],
   "source": [
    "plt.hist(relerr,np.arange(-1.5,1.5,0.05));"
   ]
  },
  {
   "cell_type": "code",
   "execution_count": null,
   "metadata": {},
   "outputs": [],
   "source": []
  }
 ],
 "metadata": {
  "kernelspec": {
   "display_name": "Python 3 PowerAI Base",
   "language": "python",
   "name": "python3"
  },
  "language_info": {
   "codemirror_mode": {
    "name": "ipython",
    "version": 3
   },
   "file_extension": ".py",
   "mimetype": "text/x-python",
   "name": "python",
   "nbconvert_exporter": "python",
   "pygments_lexer": "ipython3",
   "version": "3.7.6"
  }
 },
 "nbformat": 4,
 "nbformat_minor": 4
}
