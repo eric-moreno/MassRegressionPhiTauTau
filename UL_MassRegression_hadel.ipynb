{
 "cells": [
  {
   "cell_type": "code",
   "execution_count": 1,
   "metadata": {},
   "outputs": [],
   "source": [
    "%load_ext autoreload"
   ]
  },
  {
   "cell_type": "code",
   "execution_count": 2,
   "metadata": {},
   "outputs": [],
   "source": [
    "%autoreload 2"
   ]
  },
  {
   "cell_type": "code",
   "execution_count": 3,
   "metadata": {},
   "outputs": [
    {
     "name": "stdout",
     "output_type": "stream",
     "text": [
      "3.8.12 (default, Oct 12 2021, 13:02:29) \n",
      "[GCC 7.3.0]\n"
     ]
    }
   ],
   "source": [
    "import sys\n",
    "print(sys.version)"
   ]
  },
  {
   "cell_type": "code",
   "execution_count": 4,
   "metadata": {},
   "outputs": [],
   "source": [
    "%matplotlib inline\n",
    "import matplotlib.pyplot as plt\n",
    "plt.rcParams[\"figure.figsize\"] = (6,6)\n",
    "plt.rcParams.update({'font.size': 14})"
   ]
  },
  {
   "cell_type": "code",
   "execution_count": 5,
   "metadata": {},
   "outputs": [
    {
     "name": "stderr",
     "output_type": "stream",
     "text": [
      "2022-05-14 23:54:15.961216: I tensorflow/stream_executor/platform/default/dso_loader.cc:49] Successfully opened dynamic library libcudart.so.10.2\n"
     ]
    }
   ],
   "source": [
    "import numpy as np\n",
    "import math\n",
    "import random\n",
    "import matplotlib.pyplot as plt\n",
    "import h5py\n",
    "import sklearn\n",
    "import tensorflow as tf\n",
    "import tensorflow.keras.backend as K\n",
    "import scipy as sc\n",
    "from scipy.optimize import curve_fit\n",
    "from sklearn.model_selection import train_test_split\n",
    "import pandas as pd"
   ]
  },
  {
   "cell_type": "code",
   "execution_count": 6,
   "metadata": {},
   "outputs": [
    {
     "name": "stdout",
     "output_type": "stream",
     "text": [
      "The autoreload extension is already loaded. To reload it, use:\n",
      "  %reload_ext autoreload\n"
     ]
    }
   ],
   "source": [
    "%matplotlib inline\n",
    "%load_ext autoreload\n",
    "%autoreload 2"
   ]
  },
  {
   "cell_type": "code",
   "execution_count": 7,
   "metadata": {},
   "outputs": [],
   "source": [
    "from tensorflow import keras\n",
    "from tensorflow.keras import models\n",
    "from tensorflow.keras import layers\n",
    "from tensorflow.keras import optimizers\n",
    "from tensorflow.keras import losses\n",
    "from tensorflow.keras import metrics\n",
    "from tensorflow.keras.callbacks import EarlyStopping, ModelCheckpoint\n",
    "from tensorflow.keras.utils import to_categorical\n",
    "from tensorflow.keras.models import Sequential\n",
    "from tensorflow.keras.layers import Dense\n",
    "from tensorflow.keras.layers import Input, Dense, GRU, Add, Concatenate, BatchNormalization, Conv1D, Lambda, Dot, Dropout\n",
    "from tensorflow.keras.models import Model\n",
    "from tensorflow.keras.utils import plot_model\n",
    "from tensorflow.keras.models import load_model\n",
    "from tensorflow.keras.optimizers import Adam\n"
   ]
  },
  {
   "cell_type": "code",
   "execution_count": 8,
   "metadata": {},
   "outputs": [],
   "source": [
    "from preprocessor import load, load_flat"
   ]
  },
  {
   "cell_type": "code",
   "execution_count": 9,
   "metadata": {},
   "outputs": [],
   "source": [
    "%matplotlib inline\n",
    "import matplotlib.pyplot as plt\n",
    "plt.rcParams[\"figure.figsize\"] = (6,6)\n",
    "plt.rcParams.update({'font.size': 14})"
   ]
  },
  {
   "cell_type": "code",
   "execution_count": 10,
   "metadata": {},
   "outputs": [],
   "source": [
    "#X_train_htt,X_test_htt,Xalt_train_htt,Xalt_test_htt,Xevt_train_htt,Xevt_test_htt,Y_train_htt,Y_test_htt,feat_train_htt,feat_test_htt = load('/nobackup/users/sangeon/GluGluHToTauTau_user.z');\n",
    "#X_train_flat,X_test_flat,Xalt_train_flat,Xalt_test_flat,Xevt_train_flat,Xevt_test_flat,Y_train_flat,Y_test_flat,feat_train_flat,feat_test_flat = load('/nobackup/users/sangeon/FlatTauTau_user.z',maxevts=0);\n",
    "#X_train_z,X_test_z,Xalt_train_z,Xalt_test_z,Xevt_train_z,Xevt_test_z,Y_train_z,Y_test_z,feat_train_z,feat_test_z = load('/nobackup/users/sangeon/DYJetsToLL.z');"
   ]
  },
  {
   "cell_type": "code",
   "execution_count": 11,
   "metadata": {},
   "outputs": [],
   "source": [
    "#feat_selection = np.r_[np.array([0,1,2,3,4]), np.array([6,7,8,9,10])]"
   ]
  },
  {
   "cell_type": "code",
   "execution_count": null,
   "metadata": {},
   "outputs": [],
   "source": []
  },
  {
   "cell_type": "code",
   "execution_count": 12,
   "metadata": {},
   "outputs": [
    {
     "name": "stderr",
     "output_type": "stream",
     "text": [
      "/home/sangeon/MassRegression/preprocessor.py:137: H5pyDeprecationWarning: The default file mode will change to 'r' (read-only) in h5py 3.0. To suppress this warning, pass the mode you need to h5py.File(), or set the global default h5.get_config().default_file_mode, or set the environment variable H5PY_DEFAULT_READONLY=1. Available modes are: 'r', 'r+', 'w', 'w-'/'x', 'a'. See the docs for details.\n",
      "  h5File = h5py.File(iFile)\n"
     ]
    },
    {
     "name": "stdout",
     "output_type": "stream",
     "text": [
      "<HDF5 file \"FlatTauTau_user_el.z\" (mode r+)>\n",
      "(434047, 599)\n",
      "599\n",
      "PF_dzerr0 found nan!!\n",
      "PF_dzerr1 found nan!!\n",
      "PF_dzerr2 found nan!!\n",
      "PF_dzerr3 found nan!!\n",
      "PF_dzerr4 found nan!!\n",
      "PF_dzerr5 found nan!!\n",
      "PF_dxyerr5 found nan!!\n",
      "PF_dzerr6 found nan!!\n",
      "(433690, 390)\n",
      "(433690, 30, 13)\n",
      "(433690, 65)\n",
      "(433690, 5, 13)\n",
      "(433690, 12)\n"
     ]
    },
    {
     "name": "stderr",
     "output_type": "stream",
     "text": [
      "/home/sangeon/MassRegression/preprocessor.py:137: H5pyDeprecationWarning: The default file mode will change to 'r' (read-only) in h5py 3.0. To suppress this warning, pass the mode you need to h5py.File(), or set the global default h5.get_config().default_file_mode, or set the environment variable H5PY_DEFAULT_READONLY=1. Available modes are: 'r', 'r+', 'w', 'w-'/'x', 'a'. See the docs for details.\n",
      "  h5File = h5py.File(iFile)\n"
     ]
    },
    {
     "name": "stdout",
     "output_type": "stream",
     "text": [
      "<HDF5 file \"GluGluHToTauTau_user_el.z\" (mode r+)>\n",
      "(2126, 599)\n",
      "599\n",
      "(2126, 390)\n",
      "(2126, 30, 13)\n",
      "(2126, 65)\n",
      "(2126, 5, 13)\n",
      "(2126, 12)\n",
      "<HDF5 file \"tt-DYJetsToLL_el.z\" (mode r+)>\n"
     ]
    },
    {
     "name": "stderr",
     "output_type": "stream",
     "text": [
      "/home/sangeon/MassRegression/preprocessor.py:137: H5pyDeprecationWarning: The default file mode will change to 'r' (read-only) in h5py 3.0. To suppress this warning, pass the mode you need to h5py.File(), or set the global default h5.get_config().default_file_mode, or set the environment variable H5PY_DEFAULT_READONLY=1. Available modes are: 'r', 'r+', 'w', 'w-'/'x', 'a'. See the docs for details.\n",
      "  h5File = h5py.File(iFile)\n"
     ]
    },
    {
     "name": "stdout",
     "output_type": "stream",
     "text": [
      "(35176, 599)\n",
      "599\n",
      "PF_dzerr0 found nan!!\n",
      "PF_dzerr1 found nan!!\n",
      "PF_dzerr2 found nan!!\n",
      "PF_dzerr3 found nan!!\n",
      "(35166, 390)\n",
      "(35166, 30, 13)\n",
      "(35166, 65)\n",
      "(35166, 5, 13)\n",
      "(35166, 12)\n"
     ]
    }
   ],
   "source": [
    "X_flat,Xalt_flat,Xevt_flat,y_flat,feat_flat = load_flat('/nobackup/users/sangeon/phitautau_UL/Apr2022/FlatTauTau_user_el.z',maxevts=0);\n",
    "#X_htt1,Xalt_htt1,Xevt_htt1,y_htt1,feat_htt1 = load_flat('/nobackup/users/sangeon/phitautau_UL/GluGluHToTauTau_user_noLep.z');\n",
    "X_htt2,Xalt_htt2,Xevt_htt2,y_htt2,feat_htt2 = load_flat('/nobackup/users/sangeon/phitautau_UL/Apr2022/GluGluHToTauTau_user_el.z');\n",
    "X_z,Xalt_z, Xevt_z, y_z, feat_z = load_flat('/nobackup/users/sangeon/phitautau_UL/tt-DYJetsToLL_el.z');"
   ]
  },
  {
   "cell_type": "code",
   "execution_count": 13,
   "metadata": {},
   "outputs": [],
   "source": [
    "X_htt = np.vstack([X_htt2])\n",
    "\n",
    "Xalt_htt = np.vstack([Xalt_htt2])\n",
    "\n",
    "Xevt_htt = np.vstack([Xevt_htt2])\n",
    "\n",
    "y_htt = np.vstack([y_htt2])\n",
    "\n",
    "feat_htt = np.vstack([feat_htt2])"
   ]
  },
  {
   "cell_type": "code",
   "execution_count": 14,
   "metadata": {},
   "outputs": [],
   "source": [
    "#X_htt = np.vstack([X_htt1, X_htt2])\n",
    "\n",
    "#Xalt_htt = np.vstack([Xalt_htt1, Xalt_htt2])\n",
    "\n",
    "#Xevt_htt = np.vstack([Xevt_htt1, Xevt_htt2])\n",
    "\n",
    "#y_htt = np.vstack([y_htt1, y_htt2])\n",
    "\n",
    "#feat_htt = np.vstack([feat_htt1, feat_htt2])"
   ]
  },
  {
   "cell_type": "code",
   "execution_count": 15,
   "metadata": {},
   "outputs": [
    {
     "name": "stdout",
     "output_type": "stream",
     "text": [
      "(2126, 30, 13) (35166, 30, 13) (433690, 30, 13)\n"
     ]
    }
   ],
   "source": [
    "print(X_htt.shape, X_z.shape, X_flat.shape)"
   ]
  },
  {
   "cell_type": "code",
   "execution_count": 16,
   "metadata": {},
   "outputs": [],
   "source": [
    "#met cut > 40 GeV\n",
    "\n",
    "#Z tagger 20 "
   ]
  },
  {
   "cell_type": "code",
   "execution_count": null,
   "metadata": {},
   "outputs": [],
   "source": []
  },
  {
   "cell_type": "code",
   "execution_count": 17,
   "metadata": {},
   "outputs": [],
   "source": [
    "#X_htt = X_htt[:,:,feat_selection]\n",
    "#X_z = X_z[:,:,feat_selection]\n",
    "#X_flat = X_flat[:,:,feat_selection]"
   ]
  },
  {
   "cell_type": "code",
   "execution_count": 18,
   "metadata": {},
   "outputs": [],
   "source": [
    "prefix = \"/nobackup/users/sangeon/phitautau_figures/UL/\""
   ]
  },
  {
   "cell_type": "code",
   "execution_count": 19,
   "metadata": {},
   "outputs": [],
   "source": [
    "%matplotlib inline"
   ]
  },
  {
   "cell_type": "code",
   "execution_count": 20,
   "metadata": {},
   "outputs": [],
   "source": [
    "from matplotlib.offsetbox import AnchoredText\n"
   ]
  },
  {
   "cell_type": "code",
   "execution_count": 21,
   "metadata": {},
   "outputs": [
    {
     "data": {
      "text/plain": [
       "'/nobackup/users/sangeon/phitautau_figures/UL/'"
      ]
     },
     "execution_count": 21,
     "metadata": {},
     "output_type": "execute_result"
    }
   ],
   "source": [
    "prefix"
   ]
  },
  {
   "cell_type": "code",
   "execution_count": 22,
   "metadata": {},
   "outputs": [
    {
     "data": {
      "text/plain": [
       "<matplotlib.offsetbox.AnchoredText at 0x20010e5ddb50>"
      ]
     },
     "execution_count": 22,
     "metadata": {},
     "output_type": "execute_result"
    },
    {
     "data": {
      "image/png": "[encoded data removed]",
      "text/plain": [
       "<Figure size 432x288 with 1 Axes>"
      ]
     },
     "metadata": {
      "needs_background": "light"
     },
     "output_type": "display_data"
    }
   ],
   "source": [
    "plt.hist(Xevt_flat[:,-3],bins=np.arange(0,500,1));\n",
    "\n",
    "summary = f'''mean:{np.mean(Xevt_flat[:,-3])}\n",
    "std:{np.std(Xevt_flat[:,-3])}'''\n",
    "\n",
    "anchored_text = AnchoredText(summary, loc=1)\n",
    "#anchored_text2 = AnchoredText(f\"std:{np.std(Xevt_flat[:,-4])}\", loc=4)\n",
    "\n",
    "ax = plt.gca()\n",
    "ax.add_artist(anchored_text)\n",
    "#ax.add_artist(anchored_text2)\n",
    "#plt.savefig(prefix+'flat_msd.pdf')"
   ]
  },
  {
   "cell_type": "code",
   "execution_count": 23,
   "metadata": {},
   "outputs": [
    {
     "data": {
      "image/png": "[encoded data removed]",
      "text/plain": [
       "<Figure size 432x288 with 1 Axes>"
      ]
     },
     "metadata": {
      "needs_background": "light"
     },
     "output_type": "display_data"
    }
   ],
   "source": [
    "plt.hist(y_htt[:,-4],bins=np.arange(0,300,1));\n"
   ]
  },
  {
   "cell_type": "code",
   "execution_count": 24,
   "metadata": {},
   "outputs": [],
   "source": [
    "target = [\"fj_genMass\",\"fj_genPt\",\"fj_genEta\",\"fj_genPhi\"]\n",
    "target_old = \"fj_msd\"\n",
    "#target_norm = \"fj_msd\"\n",
    "target_norm = \"\"\n",
    "evt_feats = [\"MET_covXX\",\"MET_covXY\",\"MET_covYY\",\"MET_phi\",\"MET_pt\",\"MET_significance\",\"PuppiMET_pt\",\"PuppiMET_phi\",\"fj_msd\",\"fj_pt\",\"fj_eta\",\"fj_phi\"]"
   ]
  },
  {
   "cell_type": "code",
   "execution_count": 25,
   "metadata": {},
   "outputs": [
    {
     "data": {
      "text/plain": [
       "'/nobackup/users/sangeon/phitautau_figures/UL/'"
      ]
     },
     "execution_count": 25,
     "metadata": {},
     "output_type": "execute_result"
    }
   ],
   "source": [
    "prefix"
   ]
  },
  {
   "cell_type": "code",
   "execution_count": 26,
   "metadata": {},
   "outputs": [
    {
     "name": "stdout",
     "output_type": "stream",
     "text": [
      "/nobackup/users/sangeon/phitautau_figures/UL/fj_genMass.png\n"
     ]
    }
   ],
   "source": [
    "print(prefix+f'{target[0]}.png')"
   ]
  },
  {
   "cell_type": "code",
   "execution_count": 27,
   "metadata": {},
   "outputs": [
    {
     "data": {
      "image/png": "[encoded data removed]",
      "text/plain": [
       "<Figure size 432x288 with 1 Axes>"
      ]
     },
     "metadata": {
      "needs_background": "light"
     },
     "output_type": "display_data"
    }
   ],
   "source": [
    "for i in range(12):\n",
    "    plt.clf()\n",
    "    plt.hist(Xevt_z[:,i])\n",
    "    plt.title(f'Z_{evt_feats[i]}')\n",
    "    plt.savefig(prefix+f'Z_{evt_feats[i]}.png')\n"
   ]
  },
  {
   "cell_type": "code",
   "execution_count": 28,
   "metadata": {},
   "outputs": [
    {
     "data": {
      "image/png": "[encoded data removed]",
      "text/plain": [
       "<Figure size 432x288 with 1 Axes>"
      ]
     },
     "metadata": {
      "needs_background": "light"
     },
     "output_type": "display_data"
    }
   ],
   "source": [
    "for i in range(4):\n",
    "    plt.clf()\n",
    "    plt.hist(y_z[:,i])\n",
    "    plt.title(f'Z_{target[i]}')\n",
    "    plt.savefig(prefix+f'Z_{target[i]}.png')\n"
   ]
  },
  {
   "cell_type": "code",
   "execution_count": 29,
   "metadata": {},
   "outputs": [
    {
     "data": {
      "image/png": "[encoded data removed]",
      "text/plain": [
       "<Figure size 432x288 with 1 Axes>"
      ]
     },
     "metadata": {
      "needs_background": "light"
     },
     "output_type": "display_data"
    }
   ],
   "source": [
    "plt.hist(y_htt[:,-4],bins=np.arange(0,300,1));\n",
    "plt.savefig(prefix+'htt_genm.pdf')"
   ]
  },
  {
   "cell_type": "code",
   "execution_count": 30,
   "metadata": {},
   "outputs": [
    {
     "data": {
      "image/png": "[encoded data removed]",
      "text/plain": [
       "<Figure size 432x288 with 1 Axes>"
      ]
     },
     "metadata": {
      "needs_background": "light"
     },
     "output_type": "display_data"
    }
   ],
   "source": [
    "plt.hist(Xevt_htt[:,-4],bins=np.arange(0,300,1));\n",
    "plt.savefig(prefix+'htt_msd.pdf')"
   ]
  },
  {
   "cell_type": "code",
   "execution_count": 31,
   "metadata": {},
   "outputs": [
    {
     "data": {
      "text/plain": [
       "(2126, 29)"
      ]
     },
     "execution_count": 31,
     "metadata": {},
     "output_type": "execute_result"
    }
   ],
   "source": [
    "feat_htt.shape"
   ]
  },
  {
   "cell_type": "code",
   "execution_count": 32,
   "metadata": {},
   "outputs": [
    {
     "data": {
      "image/png": "[encoded data removed]",
      "text/plain": [
       "<Figure size 432x288 with 1 Axes>"
      ]
     },
     "metadata": {
      "needs_background": "light"
     },
     "output_type": "display_data"
    }
   ],
   "source": [
    "plt.hist(Xevt_htt[:,4],bins=np.arange(0,300,1));\n",
    "plt.savefig(prefix+'htt_met.pdf')"
   ]
  },
  {
   "cell_type": "code",
   "execution_count": 33,
   "metadata": {},
   "outputs": [
    {
     "data": {
      "image/png": "[encoded data removed]",
      "text/plain": [
       "<Figure size 432x288 with 1 Axes>"
      ]
     },
     "metadata": {
      "needs_background": "light"
     },
     "output_type": "display_data"
    }
   ],
   "source": [
    "plt.hist(Xevt_flat[:,4],bins=np.arange(0,300,1));\n",
    "plt.savefig(prefix+'flat_met.pdf')"
   ]
  },
  {
   "cell_type": "code",
   "execution_count": 34,
   "metadata": {},
   "outputs": [
    {
     "data": {
      "image/png": "[encoded data removed]",
      "text/plain": [
       "<Figure size 432x288 with 1 Axes>"
      ]
     },
     "metadata": {
      "needs_background": "light"
     },
     "output_type": "display_data"
    }
   ],
   "source": [
    "plt.hist(Xevt_z[:,4],bins=np.arange(0,300,1));\n",
    "plt.savefig(prefix+'z_met.pdf')"
   ]
  },
  {
   "cell_type": "code",
   "execution_count": 35,
   "metadata": {},
   "outputs": [
    {
     "data": {
      "image/png": "[encoded data removed]",
      "text/plain": [
       "<Figure size 432x288 with 1 Axes>"
      ]
     },
     "metadata": {
      "needs_background": "light"
     },
     "output_type": "display_data"
    }
   ],
   "source": [
    "plt.hist(Xevt_z[:,-4],bins=np.arange(0,300,1));\n",
    "plt.savefig(prefix+'z_msd.pdf')"
   ]
  },
  {
   "cell_type": "code",
   "execution_count": 36,
   "metadata": {},
   "outputs": [],
   "source": [
    "flat_msd_cut = np.where((Xevt_flat[:,-4]>10)&(Xevt_flat[:,-4]<400)&(Xevt_flat[:,4]>40))\n",
    "htt_msd_cut = np.where((Xevt_htt[:,-4]>10)&(Xevt_htt[:,-4]<400)&(Xevt_htt[:,4]>40))\n",
    "z_msd_cut = np.where((Xevt_z[:,-4]>10)&(Xevt_z[:,-4]<400)&(y_z[:,-4]>5)&(Xevt_z[:,4]>40))"
   ]
  },
  {
   "cell_type": "code",
   "execution_count": 37,
   "metadata": {},
   "outputs": [],
   "source": [
    "#flat_msd_cut = np.where((Xevt_flat[:,-4]>20)&(Xevt_flat[:,-3]>200)&(y_flat[:,1]>400))\n",
    "#htt_msd_cut = np.where((Xevt_htt[:,-4]>20)&(Xevt_htt[:,-3]>200)&(y_htt[:,1]>400))\n",
    "#z_msd_cut = np.where((Xevt_z[:,-4]>20)&(Xevt_z[:,-3]>200)&(y_z[:,1]>400))"
   ]
  },
  {
   "cell_type": "code",
   "execution_count": 38,
   "metadata": {},
   "outputs": [],
   "source": [
    "X_flat,Xalt_flat,Xevt_flat,y_flat,feat_flat = X_flat[flat_msd_cut], Xalt_flat[flat_msd_cut], Xevt_flat[flat_msd_cut], y_flat[flat_msd_cut], feat_flat[flat_msd_cut]\n",
    "\n",
    "X_htt,Xalt_htt,Xevt_htt,y_htt,feat_htt = X_htt[htt_msd_cut], Xalt_htt[htt_msd_cut], Xevt_htt[htt_msd_cut], y_htt[htt_msd_cut], feat_htt[htt_msd_cut]\n",
    "\n",
    "X_z,Xalt_z,Xevt_z,y_z,feat_z = X_z[z_msd_cut], Xalt_z[z_msd_cut], Xevt_z[z_msd_cut], y_z[z_msd_cut], feat_z[z_msd_cut]"
   ]
  },
  {
   "cell_type": "code",
   "execution_count": 39,
   "metadata": {},
   "outputs": [
    {
     "name": "stdout",
     "output_type": "stream",
     "text": [
      "(430397, 30, 13) (2038, 30, 13) (33201, 30, 13)\n"
     ]
    }
   ],
   "source": [
    "print(X_flat.shape, X_htt.shape, X_z.shape)"
   ]
  },
  {
   "cell_type": "code",
   "execution_count": 40,
   "metadata": {},
   "outputs": [
    {
     "data": {
      "image/png": "[encoded data removed]",
      "text/plain": [
       "<Figure size 432x288 with 1 Axes>"
      ]
     },
     "metadata": {
      "needs_background": "light"
     },
     "output_type": "display_data"
    }
   ],
   "source": [
    "plt.hist(y_z[:,-4],bins=np.arange(0,1000,2));\n"
   ]
  },
  {
   "cell_type": "code",
   "execution_count": 41,
   "metadata": {},
   "outputs": [
    {
     "data": {
      "image/png": "[encoded data removed]",
      "text/plain": [
       "<Figure size 432x288 with 1 Axes>"
      ]
     },
     "metadata": {
      "needs_background": "light"
     },
     "output_type": "display_data"
    }
   ],
   "source": [
    "plt.hist(Xevt_flat[:,-4],bins=np.arange(0,1000,2));\n",
    "#plt.savefig(prefix+'flat_msd_after_cut.pdf')"
   ]
  },
  {
   "cell_type": "code",
   "execution_count": 42,
   "metadata": {},
   "outputs": [],
   "source": [
    "X_htt, Xalt_htt, Xevt_htt, y_htt = sklearn.utils.shuffle(X_htt, Xalt_htt, Xevt_htt, y_htt)\n",
    "X_z, Xalt_z, Xevt_z, y_z = sklearn.utils.shuffle(X_z, Xalt_z, Xevt_z, y_z)\n",
    "X_flat, Xalt_flat, Xevt_flat, y_flat = sklearn.utils.shuffle(X_flat, Xalt_flat, Xevt_flat, y_flat)"
   ]
  },
  {
   "cell_type": "markdown",
   "metadata": {},
   "source": [
    "## Make Mixture Dataset"
   ]
  },
  {
   "cell_type": "code",
   "execution_count": 43,
   "metadata": {},
   "outputs": [],
   "source": [
    "#wp_list = [0.2, 0.5, 0.8]\n",
    "#wp_choice = 1\n",
    "#wp = wp_list[wp_choice]\n",
    "#print(wp)\n",
    "#X_train_split1_htt, X_train_split2_htt, Xalt_train_split1_htt, Xalt_train_split2_htt, Xevt_train_split1_htt, Xevt_train_split2_htt, y_train_split1_htt, y_train_split2_htt = train_test_split(X_train_htt, Xalt_train_htt, Xevt_train_htt, Y_train_htt, test_size=wp, random_state=42)\n",
    "#X_train_split1_z, X_train_split2_z, Xalt_train_split1_z, Xalt_train_split2_z, Xevt_train_split1_z, Xevt_train_split2_z, y_train_split1_z, y_train_split2_z = train_test_split(X_train_z, Xalt_train_z, Xevt_train_z, Y_train_z, test_size=wp, random_state=42)\n",
    "#mixratio = round(X_train_split1_htt.shape[0]/(X_train_flat.shape[0]+X_train_split1_htt.shape[0])*100)\n",
    "#print(mixratio)\n",
    "#X_train = X_train_flat\n",
    "#Xalt_train = Xalt_train_flat\n",
    "#Xevt_train = Xevt_train_flat\n",
    "#y_train = (Y_train_flat[:,0])"
   ]
  },
  {
   "cell_type": "code",
   "execution_count": 44,
   "metadata": {},
   "outputs": [],
   "source": [
    "#X_train = np.vstack((X_train_split1_htt, X_train_split1_z, X_train_flat))\n",
    "#Xalt_train = np.vstack((Xalt_train_split1_htt, Xalt_train_split1_z, Xalt_train_flat))\n",
    "#Xevt_train = np.vstack((Xevt_train_split1_htt, Xevt_train_split1_z, Xevt_train_flat))\n",
    "#y_train = np.concatenate((y_train_split1_htt[:,0], y_train_split1_z[:,0], Y_train_flat[:,0]))"
   ]
  },
  {
   "cell_type": "code",
   "execution_count": 45,
   "metadata": {},
   "outputs": [],
   "source": [
    "#X_val = np.vstack((X_train_split2_htt, X_train_split2_z,X_test_flat))\n",
    "#Xalt_val = np.vstack((Xalt_train_split2_htt, Xalt_train_split2_z,Xalt_test_flat))\n",
    "#Xevt_val = np.vstack((Xevt_train_split2_htt, Xevt_train_split2_z,Xevt_test_flat))\n",
    "#y_val = np.concatenate((y_train_split2_htt[:,0], y_train_split2_z[:,0], Y_test_flat[:,0]))"
   ]
  },
  {
   "cell_type": "markdown",
   "metadata": {},
   "source": [
    "# Network Parameters"
   ]
  },
  {
   "cell_type": "code",
   "execution_count": 46,
   "metadata": {},
   "outputs": [],
   "source": [
    "particlesConsidered = 30\n",
    "entriesPerParticle = 13\n",
    "\n",
    "svConsidered = 5\n",
    "entriesPerSV = 13\n",
    "\n",
    "eventDataLength = 12\n",
    "\n",
    "#decayTypeColumn = 380\n",
    "#trainingDataLength = 1070000\n",
    "#validationDataLength = 130000\n",
    "\n",
    "numberOfEpochs = 1000\n",
    "batchSize = 500\n",
    "\n"
   ]
  },
  {
   "cell_type": "markdown",
   "metadata": {},
   "source": [
    "# Network Architecture"
   ]
  },
  {
   "cell_type": "code",
   "execution_count": 47,
   "metadata": {},
   "outputs": [],
   "source": [
    "## receiving matrix\n",
    "\n",
    "RR = []\n",
    "for i in range(particlesConsidered):\n",
    "    row = []\n",
    "    for j in range(particlesConsidered * (particlesConsidered - 1)):\n",
    "        if j in range(i * (particlesConsidered - 1), (i + 1) * (particlesConsidered - 1)):\n",
    "            row.append(1.0)\n",
    "        else:\n",
    "            row.append(0.0)\n",
    "    RR.append(row)\n",
    "RR = np.array(RR)\n",
    "RR = np.float32(RR)\n",
    "RRT = np.transpose(RR)\n",
    "\n",
    "## sending matrix\n",
    "\n",
    "RST = []\n",
    "for i in range(particlesConsidered):\n",
    "    for j in range(particlesConsidered):\n",
    "        row = []\n",
    "        for k in range(particlesConsidered):\n",
    "            if k == j:\n",
    "                row.append(1.0)\n",
    "            else:\n",
    "                row.append(0.0)\n",
    "        RST.append(row)\n",
    "rowsToRemove = []\n",
    "for i in range(particlesConsidered):\n",
    "    rowsToRemove.append(i * (particlesConsidered + 1))\n",
    "RST = np.array(RST)\n",
    "RST = np.float32(RST)\n",
    "RST = np.delete(RST, rowsToRemove, 0)\n",
    "RS = np.transpose(RST)\n",
    "\n",
    "## recieving matrix for the bipartite particle and secondary vertex graph\n",
    "\n",
    "RK = []\n",
    "for i in range(particlesConsidered):\n",
    "    row = []\n",
    "    for j in range(particlesConsidered * svConsidered):\n",
    "        if j in range(i * svConsidered, (i + 1) * svConsidered):\n",
    "            row.append(1.0)\n",
    "        else:\n",
    "            row.append(0.0)\n",
    "    RK.append(row)\n",
    "RK = np.array(RK)\n",
    "RK = np.float32(RK)\n",
    "RKT = np.transpose(RK)\n",
    "\n",
    "## defines the sending matrix for the bipartite particle and secondary vertex graph\n",
    "\n",
    "\n",
    "RV = []\n",
    "for i in range(svConsidered):\n",
    "    row = []\n",
    "    for j in range(particlesConsidered * svConsidered):\n",
    "        if j % svConsidered == i:\n",
    "            row.append(1.0)\n",
    "        else:\n",
    "            row.append(0.0)\n",
    "    RV.append(row)\n",
    "RV = np.array(RV)\n",
    "RV = np.float32(RV)\n",
    "RVT = np.transpose(RV)"
   ]
  },
  {
   "cell_type": "code",
   "execution_count": 48,
   "metadata": {},
   "outputs": [
    {
     "name": "stderr",
     "output_type": "stream",
     "text": [
      "2022-05-14 23:55:10.710643: I tensorflow/compiler/jit/xla_cpu_device.cc:41] Not creating XLA devices, tf_xla_enable_xla_devices not set\n",
      "2022-05-14 23:55:10.712155: I tensorflow/stream_executor/platform/default/dso_loader.cc:49] Successfully opened dynamic library libcuda.so.1\n",
      "2022-05-14 23:55:10.753588: I tensorflow/core/common_runtime/gpu/gpu_device.cc:1720] Found device 0 with properties: \n",
      "pciBusID: 0004:05:00.0 name: Tesla V100-SXM2-32GB computeCapability: 7.0\n",
      "coreClock: 1.53GHz coreCount: 80 deviceMemorySize: 31.50GiB deviceMemoryBandwidth: 836.37GiB/s\n",
      "2022-05-14 23:55:10.753632: I tensorflow/stream_executor/platform/default/dso_loader.cc:49] Successfully opened dynamic library libcudart.so.10.2\n",
      "2022-05-14 23:55:11.108980: I tensorflow/stream_executor/platform/default/dso_loader.cc:49] Successfully opened dynamic library libcublas.so.10\n",
      "2022-05-14 23:55:11.109049: I tensorflow/stream_executor/platform/default/dso_loader.cc:49] Successfully opened dynamic library libcublasLt.so.10\n",
      "2022-05-14 23:55:11.182323: I tensorflow/stream_executor/platform/default/dso_loader.cc:49] Successfully opened dynamic library libcufft.so.10\n",
      "2022-05-14 23:55:11.354105: I tensorflow/stream_executor/platform/default/dso_loader.cc:49] Successfully opened dynamic library libcurand.so.10\n",
      "2022-05-14 23:55:11.496408: I tensorflow/stream_executor/platform/default/dso_loader.cc:49] Successfully opened dynamic library libcusolver.so.10\n",
      "2022-05-14 23:55:11.534799: I tensorflow/stream_executor/platform/default/dso_loader.cc:49] Successfully opened dynamic library libcusparse.so.10\n",
      "2022-05-14 23:55:11.830885: I tensorflow/stream_executor/platform/default/dso_loader.cc:49] Successfully opened dynamic library libcudnn.so.7\n",
      "2022-05-14 23:55:11.835636: I tensorflow/core/common_runtime/gpu/gpu_device.cc:1862] Adding visible gpu devices: 0\n",
      "2022-05-14 23:55:11.836222: I tensorflow/compiler/jit/xla_gpu_device.cc:99] Not creating XLA devices, tf_xla_enable_xla_devices not set\n",
      "2022-05-14 23:55:11.838527: I tensorflow/core/common_runtime/gpu/gpu_device.cc:1720] Found device 0 with properties: \n",
      "pciBusID: 0004:05:00.0 name: Tesla V100-SXM2-32GB computeCapability: 7.0\n",
      "coreClock: 1.53GHz coreCount: 80 deviceMemorySize: 31.50GiB deviceMemoryBandwidth: 836.37GiB/s\n",
      "2022-05-14 23:55:11.838557: I tensorflow/stream_executor/platform/default/dso_loader.cc:49] Successfully opened dynamic library libcudart.so.10.2\n",
      "2022-05-14 23:55:11.838578: I tensorflow/stream_executor/platform/default/dso_loader.cc:49] Successfully opened dynamic library libcublas.so.10\n",
      "2022-05-14 23:55:11.838594: I tensorflow/stream_executor/platform/default/dso_loader.cc:49] Successfully opened dynamic library libcublasLt.so.10\n",
      "2022-05-14 23:55:11.838611: I tensorflow/stream_executor/platform/default/dso_loader.cc:49] Successfully opened dynamic library libcufft.so.10\n",
      "2022-05-14 23:55:11.838627: I tensorflow/stream_executor/platform/default/dso_loader.cc:49] Successfully opened dynamic library libcurand.so.10\n",
      "2022-05-14 23:55:11.838643: I tensorflow/stream_executor/platform/default/dso_loader.cc:49] Successfully opened dynamic library libcusolver.so.10\n",
      "2022-05-14 23:55:11.838659: I tensorflow/stream_executor/platform/default/dso_loader.cc:49] Successfully opened dynamic library libcusparse.so.10\n",
      "2022-05-14 23:55:11.838675: I tensorflow/stream_executor/platform/default/dso_loader.cc:49] Successfully opened dynamic library libcudnn.so.7\n",
      "2022-05-14 23:55:11.843167: I tensorflow/core/common_runtime/gpu/gpu_device.cc:1862] Adding visible gpu devices: 0\n",
      "2022-05-14 23:55:11.843222: I tensorflow/stream_executor/platform/default/dso_loader.cc:49] Successfully opened dynamic library libcudart.so.10.2\n",
      "2022-05-14 23:55:14.213559: I tensorflow/core/common_runtime/gpu/gpu_device.cc:1261] Device interconnect StreamExecutor with strength 1 edge matrix:\n",
      "2022-05-14 23:55:14.213599: I tensorflow/core/common_runtime/gpu/gpu_device.cc:1267]      0 \n",
      "2022-05-14 23:55:14.213608: I tensorflow/core/common_runtime/gpu/gpu_device.cc:1280] 0:   N \n",
      "2022-05-14 23:55:14.220568: I tensorflow/core/common_runtime/gpu/gpu_device.cc:1406] Created TensorFlow device (/job:localhost/replica:0/task:0/device:GPU:0 with 30156 MB memory) -> physical GPU (device: 0, name: Tesla V100-SXM2-32GB, pci bus id: 0004:05:00.0, compute capability: 7.0)\n"
     ]
    }
   ],
   "source": [
    "inputParticle = Input(shape=(particlesConsidered, entriesPerParticle), name=\"inputParticle\")\n",
    "\n",
    "XdotRR = Lambda(lambda tensor: tf.transpose(tf.tensordot(tf.transpose(tensor, perm=(0, 2, 1)), RR, axes=[[2], [0]]),\n",
    "                                            perm=(0, 2, 1)), name=\"XdotRR\")(inputParticle)\n",
    "XdotRS = Lambda(lambda tensor: tf.transpose(tf.tensordot(tf.transpose(tensor, perm=(0, 2, 1)), RS, axes=[[2], [0]]),\n",
    "                                            perm=(0, 2, 1)), name=\"XdotRS\")(inputParticle)\n",
    "Bpp = Lambda(lambda tensorList: tf.concat((tensorList[0], tensorList[1]), axis=2), name=\"Bpp\")([XdotRR, XdotRS])\n",
    "\n",
    "convOneParticle = Conv1D(60, kernel_size=1, activation=\"relu\", name=\"convOneParticle\")(Bpp)\n",
    "convTwoParticle = Conv1D(30, kernel_size=1, activation=\"relu\", name=\"convTwoParticle\")(convOneParticle)\n",
    "convThreeParticle = Conv1D(20, kernel_size=1, activation=\"relu\", name=\"convThreeParticle\")(convTwoParticle)\n",
    "\n",
    "Epp = BatchNormalization(momentum=0.6, name=\"Epp\")(convThreeParticle)\n",
    "\n",
    "# Secondary vertex data interaction NN\n",
    "inputSV = Input(shape=(svConsidered, entriesPerSV), name=\"inputSV\")\n",
    "\n",
    "XdotRK = Lambda(lambda tensor: tf.transpose(tf.tensordot(tf.transpose(tensor, perm=(0, 2, 1)), RK, axes=[[2], [0]]),\n",
    "                                            perm=(0, 2, 1)), name=\"XdotRK\")(inputParticle)\n",
    "YdotRV = Lambda(lambda tensor: tf.transpose(tf.tensordot(tf.transpose(tensor, perm=(0, 2, 1)), RV, axes=[[2], [0]]),\n",
    "                                            perm=(0, 2, 1)), name=\"YdotRV\")(inputSV)\n",
    "Bvp = Lambda(lambda tensorList: tf.concat((tensorList[0], tensorList[1]), axis=2), name=\"Bvp\")([XdotRK, YdotRV])\n",
    "\n",
    "convOneSV = Conv1D(60, kernel_size=1, activation=\"relu\", name=\"convOneSV\")(Bvp)\n",
    "convTwoSV = Conv1D(30, kernel_size=1, activation=\"relu\", name=\"convTwoSV\")(convOneSV)\n",
    "convThreeSV = Conv1D(20, kernel_size=1, activation=\"relu\", name=\"convThreeSV\")(convTwoSV)\n",
    "\n",
    "Evp = BatchNormalization(momentum=0.6, name=\"Evp\")(convThreeSV)\n",
    "\n",
    "\n",
    "# Event Level Info\n",
    "\n",
    "inputEvent = Input(shape=(eventDataLength, ), name=\"inputEvent\")\n",
    "\n",
    "\n",
    "# Combined prediction NN\n",
    "EppBar = Lambda(lambda tensor: tf.transpose(tf.tensordot(tf.transpose(tensor, perm=(0, 2, 1)), RRT, axes=[[2], [0]]),\n",
    "                                            perm=(0, 2, 1)), name=\"EppBar\")(Epp)\n",
    "EvpBar = Lambda(lambda tensor: tf.transpose(tf.tensordot(tf.transpose(tensor, perm=(0, 2, 1)), RKT, axes=[[2], [0]]),\n",
    "                                            perm=(0, 2, 1)), name=\"EvpBar\")(Evp)\n",
    "C = Lambda(lambda listOfTensors: tf.concat((listOfTensors[0], listOfTensors[1], listOfTensors[2]), axis=2), name=\"C\")(\n",
    "    [inputParticle, EppBar, EvpBar])\n",
    "\n",
    "convPredictOne = Conv1D(60, kernel_size=1, activation=\"relu\", name=\"convPredictOne\")(C)\n",
    "convPredictTwo = Conv1D(30, kernel_size=1, activation=\"relu\", name=\"convPredictTwo\")(convPredictOne)\n",
    "\n",
    "O = Conv1D(24, kernel_size=1, activation=\"relu\", name=\"O\")(convPredictTwo)\n",
    "\n",
    "# Calculate output\n",
    "OBar = Lambda(lambda tensor: K.sum(tensor, axis=1), name=\"OBar\")(O)\n",
    "\n",
    "Concatted = Concatenate()([OBar, inputEvent])\n",
    "\n",
    "denseEndOne = Dense(50, activation=\"relu\", name=\"denseEndOne\")(Concatted)\n",
    "normEndOne = BatchNormalization(momentum=0.6, name=\"normEndOne\")(denseEndOne)\n",
    "denseEndTwo = Dense(20, activation=\"relu\", name=\"denseEndTwo\")(normEndOne)\n",
    "denseEndThree = Dense(10, activation=\"relu\", name=\"denseEndThree\")(denseEndTwo)\n",
    "output = Dense(2,name=\"output\")(denseEndThree)"
   ]
  },
  {
   "cell_type": "code",
   "execution_count": 49,
   "metadata": {},
   "outputs": [
    {
     "name": "stdout",
     "output_type": "stream",
     "text": [
      "(430397, 30, 13) (2038, 30, 13) (33201, 30, 13)\n"
     ]
    }
   ],
   "source": [
    "print(X_flat.shape, X_htt.shape, X_z.shape)"
   ]
  },
  {
   "cell_type": "code",
   "execution_count": 50,
   "metadata": {},
   "outputs": [],
   "source": [
    "#NUM_H = [12000,15000,20000,25000,30000] #12000 done\n",
    "#NUM_Z = [12000,15000,20000,25000,30000]\n",
    "\n",
    "#NUM_H = [12000] #12000 done\n",
    "#NUM_Z = [20000,25000,30000]\n",
    "\n",
    "#NUM_H = [15000]\n",
    "#NUM_Z = [12000,15000,20000,25000,30000]\n",
    "\n",
    "#NUM_H = [15000]\n",
    "#NUM_Z = [25000,30000]\n",
    "\n",
    "#NUM_H = [20000]\n",
    "#NUM_Z = [12000,15000,20000,25000,30000]\n",
    "\n",
    "#NUM_H = [25000]\n",
    "#NUM_Z = [12000,15000,20000]\n",
    "\n",
    "#NUM_H = [25000,30000]\n",
    "#NUM_Z = [25000,30000]\n",
    "\n",
    "#NUM_H = [30000]\n",
    "#NUM_Z = [25000,30000]\n",
    "\n",
    "NUM_H = [50000]\n",
    "NUM_Z = [50000]\n",
    "\n",
    "#NUM_H = [100000]\n",
    "#NUM_Z = [100000]\n",
    "#NUM_H = [2000,4000]\n",
    "#NUM_Z = [2000,4000]\n",
    "#NUM_H = [6000,7000,8000]\n",
    "#NUM_Z = [6000,7000,8000]\n",
    "HOW_MANY_FLAT_TO_TRAINING = 0\n",
    "#HOW_MANY_H_Z_TO_VALIDATION = 200000\n",
    "#HOW_MANY_FLAT_TO_VALIDATION = 200000\n",
    "#HOW_MANY_H_Z_TO_VALIDATION = 100000\n",
    "#HOW_MANY_FLAT_TO_VALIDATION = 100000\n",
    "TEST_SIZE = 10000\n",
    "#lamb_list = [0.005, 0.01, 0.05, 0.1, 0.5, 1]\n",
    "lamb_list = [0.005, 0.01, 0.05]"
   ]
  },
  {
   "cell_type": "code",
   "execution_count": 51,
   "metadata": {},
   "outputs": [],
   "source": [
    "%matplotlib inline\n",
    "prefix = \"/nobackup/users/sangeon/phitautau_figures/UL/\""
   ]
  },
  {
   "cell_type": "code",
   "execution_count": null,
   "metadata": {},
   "outputs": [],
   "source": []
  },
  {
   "cell_type": "code",
   "execution_count": 52,
   "metadata": {},
   "outputs": [
    {
     "data": {
      "text/plain": [
       "(2038, 4)"
      ]
     },
     "execution_count": 52,
     "metadata": {},
     "output_type": "execute_result"
    }
   ],
   "source": [
    "y_htt.shape"
   ]
  },
  {
   "cell_type": "code",
   "execution_count": 53,
   "metadata": {},
   "outputs": [],
   "source": [
    "from tensorflow.python.ops import math_ops\n",
    "from scipy import stats"
   ]
  },
  {
   "cell_type": "code",
   "execution_count": 54,
   "metadata": {},
   "outputs": [
    {
     "name": "stdout",
     "output_type": "stream",
     "text": [
      "(2, 4)\n",
      "[2.5 6.5]\n"
     ]
    }
   ],
   "source": [
    "a= np.array([[1,2,3,4],[5,6,7,8]])\n",
    "print(a.shape)\n",
    "print(np.mean(a,axis=-1))"
   ]
  },
  {
   "cell_type": "code",
   "execution_count": null,
   "metadata": {},
   "outputs": [],
   "source": []
  },
  {
   "cell_type": "code",
   "execution_count": 55,
   "metadata": {},
   "outputs": [],
   "source": [
    "def mean_sqrt_error(y_true, y_pred):\n",
    "    diff = math_ops.abs((y_true - y_pred) / K.maximum(tf.sqrt(y_true), K.epsilon()))\n",
    "    return diff[...,0]+lamb*diff[...,1]\n",
    "    "
   ]
  },
  {
   "cell_type": "code",
   "execution_count": 56,
   "metadata": {},
   "outputs": [],
   "source": [
    "plt.rcParams[\"figure.figsize\"] = (8,8)\n",
    "\n",
    "font = {'family' : 'DejaVu Sans',\n",
    "        'weight' : 'normal',\n",
    "        'size'   : 14}\n",
    "\n",
    "plt.rc('font', **font)"
   ]
  },
  {
   "cell_type": "code",
   "execution_count": 57,
   "metadata": {},
   "outputs": [],
   "source": [
    "from scipy import stats"
   ]
  },
  {
   "cell_type": "code",
   "execution_count": 58,
   "metadata": {},
   "outputs": [
    {
     "name": "stderr",
     "output_type": "stream",
     "text": [
      "/home/sangeon/MassRegression/preprocessor.py:137: H5pyDeprecationWarning: The default file mode will change to 'r' (read-only) in h5py 3.0. To suppress this warning, pass the mode you need to h5py.File(), or set the global default h5.get_config().default_file_mode, or set the environment variable H5PY_DEFAULT_READONLY=1. Available modes are: 'r', 'r+', 'w', 'w-'/'x', 'a'. See the docs for details.\n",
      "  h5File = h5py.File(iFile)\n"
     ]
    },
    {
     "name": "stdout",
     "output_type": "stream",
     "text": [
      "<HDF5 file \"WJetsToLNu_el.z\" (mode r+)>\n",
      "(445847, 599)\n",
      "599\n",
      "PF_dzerr1 found nan!!\n",
      "(9996, 390)\n",
      "(9996, 30, 13)\n",
      "(9996, 65)\n",
      "(9996, 5, 13)\n",
      "(9996, 12)\n"
     ]
    }
   ],
   "source": [
    "X_qcd,Xalt_qcd,Xevt_qcd,y_qcd,feat_qcd = load_flat('/nobackup/users/sangeon/phitautau_UL/Apr2022/WJetsToLNu_el.z',maxevts=10000);\n"
   ]
  },
  {
   "cell_type": "code",
   "execution_count": 59,
   "metadata": {},
   "outputs": [],
   "source": [
    "qcd_msd_cut = np.where((Xevt_qcd[:,-4]>10)&(Xevt_qcd[:,-4]<400))\n"
   ]
  },
  {
   "cell_type": "code",
   "execution_count": 60,
   "metadata": {},
   "outputs": [],
   "source": [
    "X_qcd,Xalt_qcd,Xevt_qcd,y_qcd,feat_qcd = X_qcd[qcd_msd_cut], Xalt_qcd[qcd_msd_cut], Xevt_qcd[qcd_msd_cut], y_qcd[qcd_msd_cut], feat_qcd[qcd_msd_cut]\n"
   ]
  },
  {
   "cell_type": "code",
   "execution_count": 61,
   "metadata": {},
   "outputs": [],
   "source": [
    "#X_qcd = X_qcd[:,:,feat_selection]"
   ]
  },
  {
   "cell_type": "code",
   "execution_count": 62,
   "metadata": {},
   "outputs": [],
   "source": [
    "#%matplotlib inline\n",
    "#prefix='/nobackup/users/sangeon/figures/finalPlots/'"
   ]
  },
  {
   "cell_type": "code",
   "execution_count": 63,
   "metadata": {},
   "outputs": [],
   "source": [
    "#wps = [(15000,20000,0.1)]\n",
    "wps = [(20000,25000,0.01)]\n",
    "#wps = [(0,30000,0.01)]\n",
    "#wps = [(10000,10000,0.01)]"
   ]
  },
  {
   "cell_type": "code",
   "execution_count": 64,
   "metadata": {},
   "outputs": [],
   "source": [
    "wps = [(10000,10000,0.1)]"
   ]
  },
  {
   "cell_type": "code",
   "execution_count": 65,
   "metadata": {},
   "outputs": [],
   "source": [
    "wps = [(5000,5000,0.1)]"
   ]
  },
  {
   "cell_type": "code",
   "execution_count": 66,
   "metadata": {},
   "outputs": [],
   "source": [
    "wps = [(7000,7000,0.01)]"
   ]
  },
  {
   "cell_type": "code",
   "execution_count": 67,
   "metadata": {},
   "outputs": [],
   "source": [
    "wps = [(9000,16000,0.01)]"
   ]
  },
  {
   "cell_type": "code",
   "execution_count": 68,
   "metadata": {},
   "outputs": [],
   "source": [
    "wps = [(1000,1000,0.01),(1800,2000,0.01),(2000,2000,0.01),(2000,1000,0.01),(2000,500,0.01),(2000,4000,0.01),(2000,6000,0.01),(2000,8000,0.01),(2000,10000,0.01)]"
   ]
  },
  {
   "cell_type": "code",
   "execution_count": 106,
   "metadata": {},
   "outputs": [],
   "source": [
    "wps = [(2000,6000,0.01),(2000,8000,0.01),(2000,10000,0.01)]"
   ]
  },
  {
   "cell_type": "code",
   "execution_count": 118,
   "metadata": {},
   "outputs": [],
   "source": [
    "wps = [(1900,6000,0.01),(1900,7000,0.01),(1900,8000,0.01)]"
   ]
  },
  {
   "cell_type": "code",
   "execution_count": 119,
   "metadata": {},
   "outputs": [],
   "source": [
    "TEST_SIZE = 10000\n",
    "lamb_list = [0.005, 0.01, 0.05]\n",
    "HOW_MANY_FLAT_TO_TRAINING = 400000"
   ]
  },
  {
   "cell_type": "code",
   "execution_count": 120,
   "metadata": {},
   "outputs": [
    {
     "data": {
      "text/plain": [
       "'./figs/'"
      ]
     },
     "execution_count": 120,
     "metadata": {},
     "output_type": "execute_result"
    }
   ],
   "source": [
    "prefix"
   ]
  },
  {
   "cell_type": "code",
   "execution_count": 121,
   "metadata": {},
   "outputs": [
    {
     "data": {
      "text/plain": [
       "(2038, 30, 13)"
      ]
     },
     "execution_count": 121,
     "metadata": {},
     "output_type": "execute_result"
    }
   ],
   "source": [
    "X_htt.shape"
   ]
  },
  {
   "cell_type": "code",
   "execution_count": 122,
   "metadata": {},
   "outputs": [
    {
     "data": {
      "text/plain": [
       "(430397, 30, 13)"
      ]
     },
     "execution_count": 122,
     "metadata": {},
     "output_type": "execute_result"
    }
   ],
   "source": [
    "X_flat.shape"
   ]
  },
  {
   "cell_type": "code",
   "execution_count": 123,
   "metadata": {},
   "outputs": [
    {
     "data": {
      "text/plain": [
       "(33201, 30, 13)"
      ]
     },
     "execution_count": 123,
     "metadata": {},
     "output_type": "execute_result"
    }
   ],
   "source": [
    "X_z.shape"
   ]
  },
  {
   "cell_type": "code",
   "execution_count": null,
   "metadata": {},
   "outputs": [],
   "source": []
  },
  {
   "cell_type": "code",
   "execution_count": null,
   "metadata": {},
   "outputs": [],
   "source": []
  },
  {
   "cell_type": "code",
   "execution_count": null,
   "metadata": {},
   "outputs": [],
   "source": []
  },
  {
   "cell_type": "code",
   "execution_count": 124,
   "metadata": {},
   "outputs": [],
   "source": [
    "class PredictionCallback(tf.keras.callbacks.Callback):\n",
    "    def __init__(self, model, x_test, y_test):\n",
    "        self.model  = model\n",
    "        self.x_test = x_test\n",
    "        self.y_test = y_test\n",
    "        \n",
    "    def on_epoch_end(self, epoch, logs={}):\n",
    "        #print(type(self.validation_data))\n",
    "        y_pred = self.model.predict(self.x_test)\n",
    "        print('prediction: {} at epoch: {}'.format(y_pred, epoch))\n",
    "        print('prediction Truth: {} at epoch: {}'.format(self.y_test, epoch))"
   ]
  },
  {
   "cell_type": "code",
   "execution_count": 125,
   "metadata": {},
   "outputs": [],
   "source": [
    "K.clear_session()"
   ]
  },
  {
   "cell_type": "code",
   "execution_count": 126,
   "metadata": {},
   "outputs": [],
   "source": [
    "prefix = './figs/hadel/'"
   ]
  },
  {
   "cell_type": "code",
   "execution_count": 127,
   "metadata": {},
   "outputs": [],
   "source": [
    "from scipy import stats\n"
   ]
  },
  {
   "cell_type": "code",
   "execution_count": 128,
   "metadata": {},
   "outputs": [],
   "source": [
    "import statistics as st"
   ]
  },
  {
   "cell_type": "code",
   "execution_count": 129,
   "metadata": {},
   "outputs": [
    {
     "name": "stdout",
     "output_type": "stream",
     "text": [
      "Epoch 1/1000\n",
      "653/653 [==============================] - 16s 22ms/step - loss: 9.7876 - mean_sqrt_error: 9.7876 - val_loss: 2.6460 - val_mean_sqrt_error: 2.6460\n",
      "Epoch 2/1000\n",
      "653/653 [==============================] - 14s 21ms/step - loss: 2.5216 - mean_sqrt_error: 2.5216 - val_loss: 2.2703 - val_mean_sqrt_error: 2.2703\n",
      "Epoch 3/1000\n",
      "653/653 [==============================] - 14s 21ms/step - loss: 2.2406 - mean_sqrt_error: 2.2406 - val_loss: 2.0949 - val_mean_sqrt_error: 2.0949\n",
      "Epoch 4/1000\n",
      "653/653 [==============================] - 14s 21ms/step - loss: 2.0634 - mean_sqrt_error: 2.0634 - val_loss: 1.9611 - val_mean_sqrt_error: 1.9611\n",
      "Epoch 5/1000\n",
      "653/653 [==============================] - 14s 21ms/step - loss: 1.9699 - mean_sqrt_error: 1.9699 - val_loss: 1.9201 - val_mean_sqrt_error: 1.9201\n",
      "Epoch 6/1000\n",
      "653/653 [==============================] - 14s 21ms/step - loss: 1.9070 - mean_sqrt_error: 1.9070 - val_loss: 1.8828 - val_mean_sqrt_error: 1.8828\n",
      "Epoch 7/1000\n",
      "653/653 [==============================] - 14s 21ms/step - loss: 1.8676 - mean_sqrt_error: 1.8676 - val_loss: 1.8997 - val_mean_sqrt_error: 1.8997\n",
      "Epoch 8/1000\n",
      "653/653 [==============================] - 14s 21ms/step - loss: 1.8383 - mean_sqrt_error: 1.8383 - val_loss: 1.8149 - val_mean_sqrt_error: 1.8149\n",
      "Epoch 9/1000\n",
      "653/653 [==============================] - 14s 21ms/step - loss: 1.8107 - mean_sqrt_error: 1.8107 - val_loss: 1.8822 - val_mean_sqrt_error: 1.8822\n",
      "Epoch 10/1000\n",
      "653/653 [==============================] - 14s 21ms/step - loss: 1.7891 - mean_sqrt_error: 1.7891 - val_loss: 1.7557 - val_mean_sqrt_error: 1.7557\n",
      "Epoch 11/1000\n",
      "653/653 [==============================] - 14s 21ms/step - loss: 1.7687 - mean_sqrt_error: 1.7687 - val_loss: 1.7167 - val_mean_sqrt_error: 1.7167\n",
      "Epoch 12/1000\n",
      "653/653 [==============================] - 14s 21ms/step - loss: 1.7389 - mean_sqrt_error: 1.7389 - val_loss: 1.6854 - val_mean_sqrt_error: 1.6854\n",
      "Epoch 13/1000\n",
      "653/653 [==============================] - 14s 21ms/step - loss: 1.7250 - mean_sqrt_error: 1.7250 - val_loss: 1.7170 - val_mean_sqrt_error: 1.7170\n",
      "Epoch 14/1000\n",
      "653/653 [==============================] - 14s 21ms/step - loss: 1.6994 - mean_sqrt_error: 1.6994 - val_loss: 1.6448 - val_mean_sqrt_error: 1.6448\n",
      "Epoch 15/1000\n",
      "653/653 [==============================] - 14s 21ms/step - loss: 1.6676 - mean_sqrt_error: 1.6676 - val_loss: 1.7008 - val_mean_sqrt_error: 1.7008\n",
      "Epoch 16/1000\n",
      "653/653 [==============================] - 14s 21ms/step - loss: 1.6621 - mean_sqrt_error: 1.6621 - val_loss: 1.6403 - val_mean_sqrt_error: 1.6403\n",
      "Epoch 17/1000\n",
      "653/653 [==============================] - 14s 21ms/step - loss: 1.6314 - mean_sqrt_error: 1.6314 - val_loss: 1.6238 - val_mean_sqrt_error: 1.6238\n",
      "Epoch 18/1000\n",
      "653/653 [==============================] - 14s 21ms/step - loss: 1.6173 - mean_sqrt_error: 1.6173 - val_loss: 1.5937 - val_mean_sqrt_error: 1.5937\n",
      "Epoch 19/1000\n",
      "653/653 [==============================] - 14s 21ms/step - loss: 1.6119 - mean_sqrt_error: 1.6119 - val_loss: 1.5910 - val_mean_sqrt_error: 1.5910\n",
      "Epoch 20/1000\n",
      "653/653 [==============================] - 14s 21ms/step - loss: 1.5953 - mean_sqrt_error: 1.5953 - val_loss: 1.5832 - val_mean_sqrt_error: 1.5832\n",
      "Epoch 21/1000\n",
      "653/653 [==============================] - 14s 21ms/step - loss: 1.6087 - mean_sqrt_error: 1.6087 - val_loss: 1.5482 - val_mean_sqrt_error: 1.5482\n",
      "Epoch 22/1000\n",
      "653/653 [==============================] - 14s 21ms/step - loss: 1.5934 - mean_sqrt_error: 1.5934 - val_loss: 1.5937 - val_mean_sqrt_error: 1.5937\n",
      "Epoch 23/1000\n",
      "653/653 [==============================] - 14s 21ms/step - loss: 1.5864 - mean_sqrt_error: 1.5864 - val_loss: 1.5960 - val_mean_sqrt_error: 1.5960\n",
      "Epoch 24/1000\n",
      "653/653 [==============================] - 14s 21ms/step - loss: 1.5809 - mean_sqrt_error: 1.5809 - val_loss: 1.5632 - val_mean_sqrt_error: 1.5632\n",
      "Epoch 25/1000\n",
      "653/653 [==============================] - 14s 21ms/step - loss: 1.5815 - mean_sqrt_error: 1.5815 - val_loss: 1.5706 - val_mean_sqrt_error: 1.5706\n",
      "Epoch 26/1000\n",
      "653/653 [==============================] - 14s 21ms/step - loss: 1.5845 - mean_sqrt_error: 1.5845 - val_loss: 1.5593 - val_mean_sqrt_error: 1.5593\n",
      "Epoch 27/1000\n",
      "653/653 [==============================] - 14s 21ms/step - loss: 1.5684 - mean_sqrt_error: 1.5684 - val_loss: 1.5260 - val_mean_sqrt_error: 1.5260\n",
      "Epoch 28/1000\n",
      "653/653 [==============================] - 14s 21ms/step - loss: 1.5498 - mean_sqrt_error: 1.5498 - val_loss: 1.5266 - val_mean_sqrt_error: 1.5266\n",
      "Epoch 29/1000\n",
      "653/653 [==============================] - 14s 21ms/step - loss: 1.5530 - mean_sqrt_error: 1.5530 - val_loss: 1.5490 - val_mean_sqrt_error: 1.5490\n",
      "Epoch 30/1000\n",
      "653/653 [==============================] - 14s 21ms/step - loss: 1.5533 - mean_sqrt_error: 1.5533 - val_loss: 1.6286 - val_mean_sqrt_error: 1.6286\n",
      "Epoch 31/1000\n",
      "653/653 [==============================] - 14s 21ms/step - loss: 1.5570 - mean_sqrt_error: 1.5570 - val_loss: 1.5497 - val_mean_sqrt_error: 1.5497\n",
      "Epoch 32/1000\n",
      "653/653 [==============================] - 14s 21ms/step - loss: 1.5476 - mean_sqrt_error: 1.5476 - val_loss: 1.5170 - val_mean_sqrt_error: 1.5170\n",
      "Epoch 33/1000\n",
      "653/653 [==============================] - 14s 21ms/step - loss: 1.5401 - mean_sqrt_error: 1.5401 - val_loss: 1.5026 - val_mean_sqrt_error: 1.5026\n",
      "Epoch 34/1000\n",
      "653/653 [==============================] - 14s 21ms/step - loss: 1.5386 - mean_sqrt_error: 1.5386 - val_loss: 1.5149 - val_mean_sqrt_error: 1.5149\n",
      "Epoch 35/1000\n",
      "653/653 [==============================] - 14s 21ms/step - loss: 1.5372 - mean_sqrt_error: 1.5372 - val_loss: 1.5225 - val_mean_sqrt_error: 1.5225\n",
      "Epoch 36/1000\n",
      "653/653 [==============================] - 14s 21ms/step - loss: 1.5270 - mean_sqrt_error: 1.5270 - val_loss: 1.5045 - val_mean_sqrt_error: 1.5045\n",
      "Epoch 37/1000\n",
      "653/653 [==============================] - 14s 21ms/step - loss: 1.5273 - mean_sqrt_error: 1.5273 - val_loss: 1.5741 - val_mean_sqrt_error: 1.5741\n",
      "Epoch 38/1000\n",
      "653/653 [==============================] - 14s 21ms/step - loss: 1.5355 - mean_sqrt_error: 1.5355 - val_loss: 1.5151 - val_mean_sqrt_error: 1.5151\n",
      "Epoch 39/1000\n",
      "653/653 [==============================] - 14s 21ms/step - loss: 1.5229 - mean_sqrt_error: 1.5229 - val_loss: 1.6185 - val_mean_sqrt_error: 1.6185\n",
      "Epoch 40/1000\n",
      "653/653 [==============================] - 14s 21ms/step - loss: 1.5239 - mean_sqrt_error: 1.5239 - val_loss: 1.4978 - val_mean_sqrt_error: 1.4978\n",
      "Epoch 41/1000\n",
      "653/653 [==============================] - 14s 21ms/step - loss: 1.5201 - mean_sqrt_error: 1.5201 - val_loss: 1.5036 - val_mean_sqrt_error: 1.5036\n",
      "Epoch 42/1000\n",
      "653/653 [==============================] - 14s 21ms/step - loss: 1.5157 - mean_sqrt_error: 1.5157 - val_loss: 1.4850 - val_mean_sqrt_error: 1.4850\n",
      "Epoch 43/1000\n",
      "653/653 [==============================] - 14s 21ms/step - loss: 1.5176 - mean_sqrt_error: 1.5176 - val_loss: 1.4978 - val_mean_sqrt_error: 1.4978\n",
      "Epoch 44/1000\n",
      "653/653 [==============================] - 14s 21ms/step - loss: 1.5133 - mean_sqrt_error: 1.5133 - val_loss: 1.5606 - val_mean_sqrt_error: 1.5606\n",
      "Epoch 45/1000\n",
      "653/653 [==============================] - 14s 21ms/step - loss: 1.5090 - mean_sqrt_error: 1.5090 - val_loss: 1.4950 - val_mean_sqrt_error: 1.4950\n",
      "Epoch 46/1000\n",
      "653/653 [==============================] - 14s 21ms/step - loss: 1.5156 - mean_sqrt_error: 1.5156 - val_loss: 1.5429 - val_mean_sqrt_error: 1.5429\n",
      "Epoch 47/1000\n",
      "653/653 [==============================] - 14s 21ms/step - loss: 1.5195 - mean_sqrt_error: 1.5195 - val_loss: 1.5061 - val_mean_sqrt_error: 1.5061\n",
      "Epoch 48/1000\n",
      "653/653 [==============================] - 14s 21ms/step - loss: 1.5110 - mean_sqrt_error: 1.5110 - val_loss: 1.4892 - val_mean_sqrt_error: 1.4892\n",
      "Epoch 49/1000\n",
      "653/653 [==============================] - 14s 21ms/step - loss: 1.5071 - mean_sqrt_error: 1.5071 - val_loss: 1.5090 - val_mean_sqrt_error: 1.5090\n",
      "Epoch 50/1000\n",
      "653/653 [==============================] - 14s 21ms/step - loss: 1.5014 - mean_sqrt_error: 1.5014 - val_loss: 1.5022 - val_mean_sqrt_error: 1.5022\n",
      "Epoch 51/1000\n",
      "653/653 [==============================] - 14s 21ms/step - loss: 1.4963 - mean_sqrt_error: 1.4963 - val_loss: 1.4991 - val_mean_sqrt_error: 1.4991\n",
      "Epoch 52/1000\n",
      "653/653 [==============================] - 14s 21ms/step - loss: 1.5042 - mean_sqrt_error: 1.5042 - val_loss: 1.4869 - val_mean_sqrt_error: 1.4869\n",
      "INFO:tensorflow:Assets written to: ./saved_model/NEW_UL_NoFeatSel_H1900_Z6000_FLAT400000_Lambda0.01_hadel/assets\n",
      "-0.02999999999999936\n"
     ]
    },
    {
     "data": {
      "image/png": "[encoded data removed]",
      "text/plain": [
       "<Figure size 576x576 with 1 Axes>"
      ]
     },
     "metadata": {
      "needs_background": "light"
     },
     "output_type": "display_data"
    },
    {
     "name": "stdout",
     "output_type": "stream",
     "text": [
      "Epoch 1/1000\n",
      "655/655 [==============================] - 16s 22ms/step - loss: 10.9261 - mean_sqrt_error: 10.9261 - val_loss: 2.7196 - val_mean_sqrt_error: 2.7196\n",
      "Epoch 2/1000\n",
      "655/655 [==============================] - 14s 21ms/step - loss: 2.6329 - mean_sqrt_error: 2.6329 - val_loss: 5.9410 - val_mean_sqrt_error: 5.9410\n",
      "Epoch 3/1000\n",
      "655/655 [==============================] - 14s 21ms/step - loss: 2.3011 - mean_sqrt_error: 2.3011 - val_loss: 2.3900 - val_mean_sqrt_error: 2.3900\n",
      "Epoch 4/1000\n",
      "655/655 [==============================] - 14s 21ms/step - loss: 2.1833 - mean_sqrt_error: 2.1833 - val_loss: 2.1829 - val_mean_sqrt_error: 2.1829\n",
      "Epoch 5/1000\n",
      "655/655 [==============================] - 14s 21ms/step - loss: 2.1128 - mean_sqrt_error: 2.1128 - val_loss: 3.1358 - val_mean_sqrt_error: 3.1358\n",
      "Epoch 6/1000\n",
      "655/655 [==============================] - 14s 21ms/step - loss: 2.0501 - mean_sqrt_error: 2.0501 - val_loss: 2.9148 - val_mean_sqrt_error: 2.9148\n",
      "Epoch 7/1000\n",
      "655/655 [==============================] - 14s 21ms/step - loss: 2.0192 - mean_sqrt_error: 2.0192 - val_loss: 2.0681 - val_mean_sqrt_error: 2.0681\n",
      "Epoch 8/1000\n",
      "655/655 [==============================] - 14s 21ms/step - loss: 1.9983 - mean_sqrt_error: 1.9983 - val_loss: 2.0421 - val_mean_sqrt_error: 2.0421\n",
      "Epoch 9/1000\n",
      "655/655 [==============================] - 14s 21ms/step - loss: 1.9637 - mean_sqrt_error: 1.9637 - val_loss: 11.0674 - val_mean_sqrt_error: 11.0674\n",
      "Epoch 10/1000\n",
      "655/655 [==============================] - 14s 21ms/step - loss: 1.9411 - mean_sqrt_error: 1.9411 - val_loss: 2.0932 - val_mean_sqrt_error: 2.0932\n",
      "Epoch 11/1000\n",
      "655/655 [==============================] - 14s 21ms/step - loss: 1.9232 - mean_sqrt_error: 1.9232 - val_loss: 2.0687 - val_mean_sqrt_error: 2.0687\n",
      "Epoch 12/1000\n",
      "655/655 [==============================] - 14s 21ms/step - loss: 1.9022 - mean_sqrt_error: 1.9022 - val_loss: 3.5715 - val_mean_sqrt_error: 3.5715\n",
      "Epoch 13/1000\n",
      "655/655 [==============================] - 14s 21ms/step - loss: 1.8716 - mean_sqrt_error: 1.8716 - val_loss: 1.8777 - val_mean_sqrt_error: 1.8777\n",
      "Epoch 14/1000\n",
      "655/655 [==============================] - 14s 21ms/step - loss: 1.8619 - mean_sqrt_error: 1.8619 - val_loss: 1.9338 - val_mean_sqrt_error: 1.9338\n",
      "Epoch 15/1000\n",
      "655/655 [==============================] - 14s 21ms/step - loss: 1.8446 - mean_sqrt_error: 1.8446 - val_loss: 2.1259 - val_mean_sqrt_error: 2.1259\n",
      "Epoch 16/1000\n",
      "655/655 [==============================] - 14s 21ms/step - loss: 1.8224 - mean_sqrt_error: 1.8224 - val_loss: 1.8542 - val_mean_sqrt_error: 1.8542\n",
      "Epoch 17/1000\n",
      "655/655 [==============================] - 14s 21ms/step - loss: 1.8016 - mean_sqrt_error: 1.8016 - val_loss: 1.9599 - val_mean_sqrt_error: 1.9599\n",
      "Epoch 18/1000\n",
      "655/655 [==============================] - 14s 21ms/step - loss: 1.8037 - mean_sqrt_error: 1.8037 - val_loss: 1.8627 - val_mean_sqrt_error: 1.8627\n",
      "Epoch 19/1000\n",
      "655/655 [==============================] - 14s 21ms/step - loss: 1.7907 - mean_sqrt_error: 1.7907 - val_loss: 1.8139 - val_mean_sqrt_error: 1.8139\n",
      "Epoch 20/1000\n",
      "655/655 [==============================] - 14s 21ms/step - loss: 1.7593 - mean_sqrt_error: 1.7593 - val_loss: 1.7699 - val_mean_sqrt_error: 1.7699\n",
      "Epoch 21/1000\n",
      "655/655 [==============================] - 14s 21ms/step - loss: 1.7371 - mean_sqrt_error: 1.7371 - val_loss: 10.2304 - val_mean_sqrt_error: 10.2304\n",
      "Epoch 22/1000\n",
      "655/655 [==============================] - 14s 21ms/step - loss: 1.7386 - mean_sqrt_error: 1.7386 - val_loss: 1.7994 - val_mean_sqrt_error: 1.7994\n",
      "Epoch 23/1000\n",
      "655/655 [==============================] - 14s 21ms/step - loss: 1.7210 - mean_sqrt_error: 1.7210 - val_loss: 1.7701 - val_mean_sqrt_error: 1.7701\n",
      "Epoch 24/1000\n",
      "655/655 [==============================] - 14s 21ms/step - loss: 1.7165 - mean_sqrt_error: 1.7165 - val_loss: 1.7101 - val_mean_sqrt_error: 1.7101\n",
      "Epoch 25/1000\n",
      "655/655 [==============================] - 14s 21ms/step - loss: 1.7073 - mean_sqrt_error: 1.7073 - val_loss: 1.7202 - val_mean_sqrt_error: 1.7202\n",
      "Epoch 26/1000\n",
      "655/655 [==============================] - 14s 21ms/step - loss: 1.7000 - mean_sqrt_error: 1.7000 - val_loss: 1.7384 - val_mean_sqrt_error: 1.7384\n",
      "Epoch 27/1000\n",
      "655/655 [==============================] - 14s 21ms/step - loss: 1.6905 - mean_sqrt_error: 1.6905 - val_loss: 1.7070 - val_mean_sqrt_error: 1.7070\n",
      "Epoch 28/1000\n",
      "655/655 [==============================] - 14s 21ms/step - loss: 1.6792 - mean_sqrt_error: 1.6792 - val_loss: 1.6950 - val_mean_sqrt_error: 1.6950\n",
      "Epoch 29/1000\n",
      "655/655 [==============================] - 14s 21ms/step - loss: 1.6633 - mean_sqrt_error: 1.6633 - val_loss: 1.6721 - val_mean_sqrt_error: 1.6721\n",
      "Epoch 30/1000\n",
      "655/655 [==============================] - 14s 21ms/step - loss: 1.6379 - mean_sqrt_error: 1.6379 - val_loss: 1.6932 - val_mean_sqrt_error: 1.6932\n",
      "Epoch 31/1000\n",
      "655/655 [==============================] - 14s 21ms/step - loss: 1.6200 - mean_sqrt_error: 1.6200 - val_loss: 1.7609 - val_mean_sqrt_error: 1.7609\n",
      "Epoch 32/1000\n",
      "655/655 [==============================] - 14s 21ms/step - loss: 1.6005 - mean_sqrt_error: 1.6005 - val_loss: 1.7754 - val_mean_sqrt_error: 1.7754\n",
      "Epoch 33/1000\n",
      "655/655 [==============================] - 14s 21ms/step - loss: 1.6048 - mean_sqrt_error: 1.6048 - val_loss: 1.6089 - val_mean_sqrt_error: 1.6089\n",
      "Epoch 34/1000\n",
      "655/655 [==============================] - 14s 21ms/step - loss: 1.5897 - mean_sqrt_error: 1.5897 - val_loss: 1.5848 - val_mean_sqrt_error: 1.5848\n",
      "Epoch 35/1000\n",
      "655/655 [==============================] - 14s 21ms/step - loss: 1.5861 - mean_sqrt_error: 1.5861 - val_loss: 1.5766 - val_mean_sqrt_error: 1.5766\n",
      "Epoch 36/1000\n",
      "655/655 [==============================] - 14s 21ms/step - loss: 1.5811 - mean_sqrt_error: 1.5811 - val_loss: 1.6065 - val_mean_sqrt_error: 1.6065\n",
      "Epoch 37/1000\n",
      "655/655 [==============================] - 14s 21ms/step - loss: 1.5702 - mean_sqrt_error: 1.5702 - val_loss: 1.6137 - val_mean_sqrt_error: 1.6137\n",
      "Epoch 38/1000\n",
      "655/655 [==============================] - 14s 21ms/step - loss: 1.5637 - mean_sqrt_error: 1.5637 - val_loss: 1.5790 - val_mean_sqrt_error: 1.5790\n",
      "Epoch 39/1000\n",
      "655/655 [==============================] - 14s 21ms/step - loss: 1.5528 - mean_sqrt_error: 1.5528 - val_loss: 1.5349 - val_mean_sqrt_error: 1.5349\n",
      "Epoch 40/1000\n",
      "655/655 [==============================] - 14s 21ms/step - loss: 1.5483 - mean_sqrt_error: 1.5483 - val_loss: 1.5629 - val_mean_sqrt_error: 1.5629\n",
      "Epoch 41/1000\n",
      "655/655 [==============================] - 14s 21ms/step - loss: 1.5469 - mean_sqrt_error: 1.5469 - val_loss: 1.5527 - val_mean_sqrt_error: 1.5527\n",
      "Epoch 42/1000\n",
      "655/655 [==============================] - 14s 21ms/step - loss: 1.5438 - mean_sqrt_error: 1.5438 - val_loss: 1.5556 - val_mean_sqrt_error: 1.5556\n",
      "Epoch 43/1000\n",
      "655/655 [==============================] - 14s 21ms/step - loss: 1.5340 - mean_sqrt_error: 1.5340 - val_loss: 1.5744 - val_mean_sqrt_error: 1.5744\n",
      "Epoch 44/1000\n",
      "655/655 [==============================] - 14s 21ms/step - loss: 1.5453 - mean_sqrt_error: 1.5453 - val_loss: 1.6031 - val_mean_sqrt_error: 1.6031\n",
      "Epoch 45/1000\n",
      "655/655 [==============================] - 14s 21ms/step - loss: 1.5370 - mean_sqrt_error: 1.5370 - val_loss: 1.5827 - val_mean_sqrt_error: 1.5827\n",
      "Epoch 46/1000\n",
      "655/655 [==============================] - 14s 21ms/step - loss: 1.5402 - mean_sqrt_error: 1.5402 - val_loss: 1.5556 - val_mean_sqrt_error: 1.5556\n",
      "Epoch 47/1000\n",
      "655/655 [==============================] - 14s 21ms/step - loss: 1.5155 - mean_sqrt_error: 1.5155 - val_loss: 1.5188 - val_mean_sqrt_error: 1.5188\n",
      "Epoch 48/1000\n",
      "655/655 [==============================] - 14s 21ms/step - loss: 1.5163 - mean_sqrt_error: 1.5163 - val_loss: 1.5253 - val_mean_sqrt_error: 1.5253\n",
      "Epoch 49/1000\n",
      "655/655 [==============================] - 14s 21ms/step - loss: 1.5202 - mean_sqrt_error: 1.5202 - val_loss: 1.5238 - val_mean_sqrt_error: 1.5238\n",
      "Epoch 50/1000\n",
      "655/655 [==============================] - 14s 21ms/step - loss: 1.5200 - mean_sqrt_error: 1.5200 - val_loss: 1.5518 - val_mean_sqrt_error: 1.5518\n",
      "Epoch 51/1000\n",
      "655/655 [==============================] - 14s 21ms/step - loss: 1.5138 - mean_sqrt_error: 1.5138 - val_loss: 1.4992 - val_mean_sqrt_error: 1.4992\n",
      "Epoch 52/1000\n",
      "655/655 [==============================] - 14s 21ms/step - loss: 1.5153 - mean_sqrt_error: 1.5153 - val_loss: 1.5158 - val_mean_sqrt_error: 1.5158\n",
      "Epoch 53/1000\n",
      "655/655 [==============================] - 14s 21ms/step - loss: 1.5102 - mean_sqrt_error: 1.5102 - val_loss: 1.5845 - val_mean_sqrt_error: 1.5845\n",
      "Epoch 54/1000\n",
      "655/655 [==============================] - 14s 21ms/step - loss: 1.5126 - mean_sqrt_error: 1.5126 - val_loss: 1.4980 - val_mean_sqrt_error: 1.4980\n",
      "Epoch 55/1000\n",
      "655/655 [==============================] - 14s 21ms/step - loss: 1.4978 - mean_sqrt_error: 1.4978 - val_loss: 1.5183 - val_mean_sqrt_error: 1.5183\n",
      "Epoch 56/1000\n",
      "655/655 [==============================] - 14s 21ms/step - loss: 1.5088 - mean_sqrt_error: 1.5088 - val_loss: 1.5009 - val_mean_sqrt_error: 1.5009\n",
      "Epoch 57/1000\n",
      "655/655 [==============================] - 14s 21ms/step - loss: 1.5127 - mean_sqrt_error: 1.5127 - val_loss: 1.5042 - val_mean_sqrt_error: 1.5042\n",
      "Epoch 58/1000\n",
      "655/655 [==============================] - 14s 21ms/step - loss: 1.5119 - mean_sqrt_error: 1.5119 - val_loss: 1.5269 - val_mean_sqrt_error: 1.5269\n",
      "Epoch 59/1000\n",
      "655/655 [==============================] - 14s 21ms/step - loss: 1.4939 - mean_sqrt_error: 1.4939 - val_loss: 1.5423 - val_mean_sqrt_error: 1.5423\n",
      "Epoch 60/1000\n",
      "655/655 [==============================] - 14s 21ms/step - loss: 1.4952 - mean_sqrt_error: 1.4952 - val_loss: 1.5079 - val_mean_sqrt_error: 1.5079\n",
      "Epoch 61/1000\n",
      "655/655 [==============================] - 14s 21ms/step - loss: 1.4967 - mean_sqrt_error: 1.4967 - val_loss: 1.4731 - val_mean_sqrt_error: 1.4731\n",
      "Epoch 62/1000\n",
      "655/655 [==============================] - 14s 21ms/step - loss: 1.4920 - mean_sqrt_error: 1.4920 - val_loss: 1.4847 - val_mean_sqrt_error: 1.4847\n",
      "Epoch 63/1000\n",
      "655/655 [==============================] - 14s 21ms/step - loss: 1.4933 - mean_sqrt_error: 1.4933 - val_loss: 1.4741 - val_mean_sqrt_error: 1.4741\n",
      "Epoch 64/1000\n",
      "655/655 [==============================] - 14s 21ms/step - loss: 1.4864 - mean_sqrt_error: 1.4864 - val_loss: 1.5095 - val_mean_sqrt_error: 1.5095\n",
      "Epoch 65/1000\n",
      "655/655 [==============================] - 14s 21ms/step - loss: 1.4830 - mean_sqrt_error: 1.4830 - val_loss: 1.5449 - val_mean_sqrt_error: 1.5449\n",
      "Epoch 66/1000\n",
      "655/655 [==============================] - 14s 21ms/step - loss: 1.4768 - mean_sqrt_error: 1.4768 - val_loss: 1.4994 - val_mean_sqrt_error: 1.4994\n",
      "Epoch 67/1000\n",
      "655/655 [==============================] - 14s 21ms/step - loss: 1.4937 - mean_sqrt_error: 1.4937 - val_loss: 1.4828 - val_mean_sqrt_error: 1.4828\n",
      "Epoch 68/1000\n",
      "655/655 [==============================] - 14s 21ms/step - loss: 1.4837 - mean_sqrt_error: 1.4837 - val_loss: 1.4989 - val_mean_sqrt_error: 1.4989\n",
      "Epoch 69/1000\n",
      "655/655 [==============================] - 14s 21ms/step - loss: 1.4856 - mean_sqrt_error: 1.4856 - val_loss: 1.5382 - val_mean_sqrt_error: 1.5382\n",
      "Epoch 70/1000\n",
      "655/655 [==============================] - 14s 21ms/step - loss: 1.4850 - mean_sqrt_error: 1.4850 - val_loss: 1.5529 - val_mean_sqrt_error: 1.5529\n",
      "Epoch 71/1000\n",
      "655/655 [==============================] - 14s 21ms/step - loss: 1.4786 - mean_sqrt_error: 1.4786 - val_loss: 1.5609 - val_mean_sqrt_error: 1.5609\n",
      "INFO:tensorflow:Assets written to: ./saved_model/NEW_UL_NoFeatSel_H1900_Z7000_FLAT400000_Lambda0.01_hadel/assets\n",
      "0.020000000000000684\n"
     ]
    },
    {
     "data": {
      "image/png": "[encoded data removed]",
      "text/plain": [
       "<Figure size 576x576 with 1 Axes>"
      ]
     },
     "metadata": {
      "needs_background": "light"
     },
     "output_type": "display_data"
    },
    {
     "name": "stdout",
     "output_type": "stream",
     "text": [
      "Epoch 1/1000\n",
      "656/656 [==============================] - 16s 22ms/step - loss: 10.3018 - mean_sqrt_error: 10.3018 - val_loss: 3.5217 - val_mean_sqrt_error: 3.5217\n",
      "Epoch 2/1000\n",
      "656/656 [==============================] - 14s 21ms/step - loss: 2.4584 - mean_sqrt_error: 2.4584 - val_loss: 3.7295 - val_mean_sqrt_error: 3.7295\n",
      "Epoch 3/1000\n",
      "656/656 [==============================] - 14s 21ms/step - loss: 2.0782 - mean_sqrt_error: 2.0782 - val_loss: 2.0060 - val_mean_sqrt_error: 2.0060\n",
      "Epoch 4/1000\n",
      "656/656 [==============================] - 14s 21ms/step - loss: 1.9558 - mean_sqrt_error: 1.9558 - val_loss: 2.3449 - val_mean_sqrt_error: 2.3449\n",
      "Epoch 5/1000\n",
      "656/656 [==============================] - 14s 21ms/step - loss: 1.9183 - mean_sqrt_error: 1.9183 - val_loss: 3.5239 - val_mean_sqrt_error: 3.5239\n",
      "Epoch 6/1000\n",
      "656/656 [==============================] - 14s 21ms/step - loss: 1.8602 - mean_sqrt_error: 1.8602 - val_loss: 2.0278 - val_mean_sqrt_error: 2.0278\n",
      "Epoch 7/1000\n",
      "656/656 [==============================] - 14s 21ms/step - loss: 1.8341 - mean_sqrt_error: 1.8341 - val_loss: 1.9685 - val_mean_sqrt_error: 1.9685\n",
      "Epoch 8/1000\n",
      "656/656 [==============================] - 14s 21ms/step - loss: 1.8099 - mean_sqrt_error: 1.8099 - val_loss: 1.9868 - val_mean_sqrt_error: 1.9868\n",
      "Epoch 9/1000\n",
      "656/656 [==============================] - 14s 21ms/step - loss: 1.7808 - mean_sqrt_error: 1.7808 - val_loss: 1.9970 - val_mean_sqrt_error: 1.9970\n",
      "Epoch 10/1000\n",
      "656/656 [==============================] - 14s 21ms/step - loss: 1.7613 - mean_sqrt_error: 1.7613 - val_loss: 2.4587 - val_mean_sqrt_error: 2.4587\n",
      "Epoch 11/1000\n",
      "656/656 [==============================] - 14s 21ms/step - loss: 1.7302 - mean_sqrt_error: 1.7302 - val_loss: 1.7927 - val_mean_sqrt_error: 1.7927\n",
      "Epoch 12/1000\n",
      "656/656 [==============================] - 14s 21ms/step - loss: 1.6979 - mean_sqrt_error: 1.6979 - val_loss: 1.7287 - val_mean_sqrt_error: 1.7287\n",
      "Epoch 13/1000\n",
      "656/656 [==============================] - 14s 21ms/step - loss: 1.6824 - mean_sqrt_error: 1.6824 - val_loss: 2.2387 - val_mean_sqrt_error: 2.2387\n",
      "Epoch 14/1000\n",
      "656/656 [==============================] - 14s 21ms/step - loss: 1.6678 - mean_sqrt_error: 1.6678 - val_loss: 2.1524 - val_mean_sqrt_error: 2.1524\n",
      "Epoch 15/1000\n",
      "656/656 [==============================] - 14s 21ms/step - loss: 1.6233 - mean_sqrt_error: 1.6233 - val_loss: 1.8446 - val_mean_sqrt_error: 1.8446\n",
      "Epoch 16/1000\n",
      "656/656 [==============================] - 14s 21ms/step - loss: 1.6058 - mean_sqrt_error: 1.6058 - val_loss: 1.8275 - val_mean_sqrt_error: 1.8275\n",
      "Epoch 17/1000\n",
      "656/656 [==============================] - 14s 21ms/step - loss: 1.5908 - mean_sqrt_error: 1.5908 - val_loss: 2.4101 - val_mean_sqrt_error: 2.4101\n",
      "Epoch 18/1000\n",
      "656/656 [==============================] - 14s 21ms/step - loss: 1.5895 - mean_sqrt_error: 1.5895 - val_loss: 2.3777 - val_mean_sqrt_error: 2.3777\n",
      "Epoch 19/1000\n",
      "656/656 [==============================] - 14s 21ms/step - loss: 1.5925 - mean_sqrt_error: 1.5925 - val_loss: 2.8893 - val_mean_sqrt_error: 2.8893\n",
      "Epoch 20/1000\n",
      "656/656 [==============================] - 14s 21ms/step - loss: 1.5678 - mean_sqrt_error: 1.5678 - val_loss: 1.6011 - val_mean_sqrt_error: 1.6011\n",
      "Epoch 21/1000\n",
      "656/656 [==============================] - 14s 21ms/step - loss: 1.5801 - mean_sqrt_error: 1.5801 - val_loss: 1.9250 - val_mean_sqrt_error: 1.9250\n",
      "Epoch 22/1000\n",
      "656/656 [==============================] - 14s 21ms/step - loss: 1.5641 - mean_sqrt_error: 1.5641 - val_loss: 1.7286 - val_mean_sqrt_error: 1.7286\n",
      "Epoch 23/1000\n",
      "656/656 [==============================] - 14s 21ms/step - loss: 1.5616 - mean_sqrt_error: 1.5616 - val_loss: 1.6181 - val_mean_sqrt_error: 1.6181\n",
      "Epoch 24/1000\n",
      "656/656 [==============================] - 14s 21ms/step - loss: 1.5617 - mean_sqrt_error: 1.5617 - val_loss: 1.5504 - val_mean_sqrt_error: 1.5504\n",
      "Epoch 25/1000\n",
      "656/656 [==============================] - 14s 21ms/step - loss: 1.5488 - mean_sqrt_error: 1.5488 - val_loss: 1.5371 - val_mean_sqrt_error: 1.5371\n",
      "Epoch 26/1000\n",
      "656/656 [==============================] - 14s 21ms/step - loss: 1.5456 - mean_sqrt_error: 1.5456 - val_loss: 1.5242 - val_mean_sqrt_error: 1.5242\n",
      "Epoch 27/1000\n",
      "656/656 [==============================] - 14s 21ms/step - loss: 1.5436 - mean_sqrt_error: 1.5436 - val_loss: 1.5307 - val_mean_sqrt_error: 1.5307\n",
      "Epoch 28/1000\n",
      "656/656 [==============================] - 14s 21ms/step - loss: 1.5414 - mean_sqrt_error: 1.5414 - val_loss: 1.6484 - val_mean_sqrt_error: 1.6484\n",
      "Epoch 29/1000\n",
      "656/656 [==============================] - 14s 21ms/step - loss: 1.5371 - mean_sqrt_error: 1.5371 - val_loss: 1.5420 - val_mean_sqrt_error: 1.5420\n",
      "Epoch 30/1000\n",
      "656/656 [==============================] - 14s 21ms/step - loss: 1.5383 - mean_sqrt_error: 1.5383 - val_loss: 1.5457 - val_mean_sqrt_error: 1.5457\n",
      "Epoch 31/1000\n",
      "656/656 [==============================] - 14s 21ms/step - loss: 1.5279 - mean_sqrt_error: 1.5279 - val_loss: 1.5276 - val_mean_sqrt_error: 1.5276\n",
      "Epoch 32/1000\n",
      "656/656 [==============================] - 14s 21ms/step - loss: 1.5278 - mean_sqrt_error: 1.5278 - val_loss: 1.5210 - val_mean_sqrt_error: 1.5210\n",
      "Epoch 33/1000\n",
      "656/656 [==============================] - 14s 21ms/step - loss: 1.5295 - mean_sqrt_error: 1.5295 - val_loss: 2.1565 - val_mean_sqrt_error: 2.1565\n",
      "Epoch 34/1000\n",
      "656/656 [==============================] - 14s 21ms/step - loss: 1.5342 - mean_sqrt_error: 1.5342 - val_loss: 1.6000 - val_mean_sqrt_error: 1.6000\n",
      "Epoch 35/1000\n",
      "656/656 [==============================] - 14s 21ms/step - loss: 1.5133 - mean_sqrt_error: 1.5133 - val_loss: 1.5105 - val_mean_sqrt_error: 1.5105\n",
      "Epoch 36/1000\n",
      "656/656 [==============================] - 14s 21ms/step - loss: 1.5183 - mean_sqrt_error: 1.5183 - val_loss: 1.5045 - val_mean_sqrt_error: 1.5045\n",
      "Epoch 37/1000\n",
      "656/656 [==============================] - 14s 21ms/step - loss: 1.5111 - mean_sqrt_error: 1.5111 - val_loss: 1.5091 - val_mean_sqrt_error: 1.5091\n",
      "Epoch 38/1000\n",
      "656/656 [==============================] - 14s 21ms/step - loss: 1.5119 - mean_sqrt_error: 1.5119 - val_loss: 1.4869 - val_mean_sqrt_error: 1.4869\n",
      "Epoch 39/1000\n",
      "656/656 [==============================] - 14s 21ms/step - loss: 1.5067 - mean_sqrt_error: 1.5067 - val_loss: 1.4868 - val_mean_sqrt_error: 1.4868\n",
      "Epoch 40/1000\n",
      "656/656 [==============================] - 14s 21ms/step - loss: 1.5056 - mean_sqrt_error: 1.5056 - val_loss: 1.5349 - val_mean_sqrt_error: 1.5349\n",
      "Epoch 41/1000\n",
      "656/656 [==============================] - 14s 21ms/step - loss: 1.5131 - mean_sqrt_error: 1.5131 - val_loss: 1.6173 - val_mean_sqrt_error: 1.6173\n",
      "Epoch 42/1000\n",
      "656/656 [==============================] - 14s 21ms/step - loss: 1.4946 - mean_sqrt_error: 1.4946 - val_loss: 1.5685 - val_mean_sqrt_error: 1.5685\n",
      "Epoch 43/1000\n",
      "656/656 [==============================] - 14s 21ms/step - loss: 1.5046 - mean_sqrt_error: 1.5046 - val_loss: 1.4802 - val_mean_sqrt_error: 1.4802\n",
      "Epoch 44/1000\n",
      "656/656 [==============================] - 14s 21ms/step - loss: 1.4922 - mean_sqrt_error: 1.4922 - val_loss: 1.6778 - val_mean_sqrt_error: 1.6778\n",
      "Epoch 45/1000\n",
      "656/656 [==============================] - 14s 21ms/step - loss: 1.5019 - mean_sqrt_error: 1.5019 - val_loss: 1.5013 - val_mean_sqrt_error: 1.5013\n",
      "Epoch 46/1000\n",
      "656/656 [==============================] - 14s 21ms/step - loss: 1.4991 - mean_sqrt_error: 1.4991 - val_loss: 1.4980 - val_mean_sqrt_error: 1.4980\n",
      "Epoch 47/1000\n",
      "656/656 [==============================] - 14s 21ms/step - loss: 1.4995 - mean_sqrt_error: 1.4995 - val_loss: 1.4858 - val_mean_sqrt_error: 1.4858\n",
      "Epoch 48/1000\n",
      "656/656 [==============================] - 14s 21ms/step - loss: 1.4876 - mean_sqrt_error: 1.4876 - val_loss: 1.4770 - val_mean_sqrt_error: 1.4770\n",
      "Epoch 49/1000\n",
      "656/656 [==============================] - 14s 21ms/step - loss: 1.4935 - mean_sqrt_error: 1.4935 - val_loss: 1.5078 - val_mean_sqrt_error: 1.5078\n",
      "Epoch 50/1000\n",
      "656/656 [==============================] - 14s 21ms/step - loss: 1.4840 - mean_sqrt_error: 1.4840 - val_loss: 1.5014 - val_mean_sqrt_error: 1.5014\n",
      "Epoch 51/1000\n",
      "656/656 [==============================] - 14s 21ms/step - loss: 1.4818 - mean_sqrt_error: 1.4818 - val_loss: 1.4647 - val_mean_sqrt_error: 1.4647\n",
      "Epoch 52/1000\n",
      "656/656 [==============================] - 14s 21ms/step - loss: 1.4828 - mean_sqrt_error: 1.4828 - val_loss: 1.4690 - val_mean_sqrt_error: 1.4690\n",
      "Epoch 53/1000\n",
      "656/656 [==============================] - 14s 21ms/step - loss: 1.4692 - mean_sqrt_error: 1.4692 - val_loss: 1.4796 - val_mean_sqrt_error: 1.4796\n",
      "Epoch 54/1000\n",
      "656/656 [==============================] - 14s 21ms/step - loss: 1.4882 - mean_sqrt_error: 1.4882 - val_loss: 1.5488 - val_mean_sqrt_error: 1.5488\n",
      "Epoch 55/1000\n",
      "656/656 [==============================] - 14s 21ms/step - loss: 1.4827 - mean_sqrt_error: 1.4827 - val_loss: 1.4793 - val_mean_sqrt_error: 1.4793\n",
      "Epoch 56/1000\n",
      "656/656 [==============================] - 14s 21ms/step - loss: 1.4750 - mean_sqrt_error: 1.4750 - val_loss: 1.4992 - val_mean_sqrt_error: 1.4992\n",
      "Epoch 57/1000\n",
      "656/656 [==============================] - 14s 21ms/step - loss: 1.4772 - mean_sqrt_error: 1.4772 - val_loss: 1.4791 - val_mean_sqrt_error: 1.4791\n",
      "Epoch 58/1000\n",
      "656/656 [==============================] - 14s 21ms/step - loss: 1.4755 - mean_sqrt_error: 1.4755 - val_loss: 1.5037 - val_mean_sqrt_error: 1.5037\n",
      "Epoch 59/1000\n",
      "656/656 [==============================] - 14s 21ms/step - loss: 1.4755 - mean_sqrt_error: 1.4755 - val_loss: 1.4798 - val_mean_sqrt_error: 1.4798\n",
      "Epoch 60/1000\n",
      "656/656 [==============================] - 14s 21ms/step - loss: 1.4662 - mean_sqrt_error: 1.4662 - val_loss: 1.4553 - val_mean_sqrt_error: 1.4553\n",
      "Epoch 61/1000\n",
      "656/656 [==============================] - 14s 21ms/step - loss: 1.4709 - mean_sqrt_error: 1.4709 - val_loss: 1.4626 - val_mean_sqrt_error: 1.4626\n",
      "Epoch 62/1000\n",
      "656/656 [==============================] - 14s 21ms/step - loss: 1.4709 - mean_sqrt_error: 1.4709 - val_loss: 1.4535 - val_mean_sqrt_error: 1.4535\n",
      "Epoch 63/1000\n",
      "656/656 [==============================] - 14s 21ms/step - loss: 1.4692 - mean_sqrt_error: 1.4692 - val_loss: 1.4661 - val_mean_sqrt_error: 1.4661\n",
      "Epoch 64/1000\n",
      "656/656 [==============================] - 14s 21ms/step - loss: 1.4783 - mean_sqrt_error: 1.4783 - val_loss: 1.4618 - val_mean_sqrt_error: 1.4618\n",
      "Epoch 65/1000\n",
      "656/656 [==============================] - 14s 21ms/step - loss: 1.4654 - mean_sqrt_error: 1.4654 - val_loss: 1.4653 - val_mean_sqrt_error: 1.4653\n",
      "Epoch 66/1000\n",
      "656/656 [==============================] - 14s 21ms/step - loss: 1.4625 - mean_sqrt_error: 1.4625 - val_loss: 1.4669 - val_mean_sqrt_error: 1.4669\n",
      "Epoch 67/1000\n",
      "656/656 [==============================] - 14s 21ms/step - loss: 1.4666 - mean_sqrt_error: 1.4666 - val_loss: 1.4880 - val_mean_sqrt_error: 1.4880\n",
      "Epoch 68/1000\n",
      "656/656 [==============================] - 14s 21ms/step - loss: 1.4602 - mean_sqrt_error: 1.4602 - val_loss: 1.4731 - val_mean_sqrt_error: 1.4731\n",
      "Epoch 69/1000\n",
      "656/656 [==============================] - 14s 21ms/step - loss: 1.4518 - mean_sqrt_error: 1.4518 - val_loss: 1.4727 - val_mean_sqrt_error: 1.4727\n",
      "Epoch 70/1000\n",
      "656/656 [==============================] - 14s 21ms/step - loss: 1.4496 - mean_sqrt_error: 1.4496 - val_loss: 1.4630 - val_mean_sqrt_error: 1.4630\n",
      "Epoch 71/1000\n",
      "656/656 [==============================] - 14s 21ms/step - loss: 1.4566 - mean_sqrt_error: 1.4566 - val_loss: 1.4472 - val_mean_sqrt_error: 1.4472\n",
      "Epoch 72/1000\n",
      "656/656 [==============================] - 14s 21ms/step - loss: 1.4492 - mean_sqrt_error: 1.4492 - val_loss: 1.4447 - val_mean_sqrt_error: 1.4447\n",
      "Epoch 73/1000\n",
      "656/656 [==============================] - 14s 21ms/step - loss: 1.4571 - mean_sqrt_error: 1.4571 - val_loss: 1.5078 - val_mean_sqrt_error: 1.5078\n",
      "Epoch 74/1000\n",
      "656/656 [==============================] - 14s 21ms/step - loss: 1.4559 - mean_sqrt_error: 1.4559 - val_loss: 1.6586 - val_mean_sqrt_error: 1.6586\n",
      "Epoch 75/1000\n",
      "656/656 [==============================] - 14s 21ms/step - loss: 1.4560 - mean_sqrt_error: 1.4560 - val_loss: 1.4864 - val_mean_sqrt_error: 1.4864\n",
      "Epoch 76/1000\n",
      "656/656 [==============================] - 14s 21ms/step - loss: 1.4536 - mean_sqrt_error: 1.4536 - val_loss: 1.5005 - val_mean_sqrt_error: 1.5005\n",
      "Epoch 77/1000\n",
      "656/656 [==============================] - 14s 21ms/step - loss: 1.4544 - mean_sqrt_error: 1.4544 - val_loss: 1.4638 - val_mean_sqrt_error: 1.4638\n",
      "Epoch 78/1000\n",
      "656/656 [==============================] - 14s 21ms/step - loss: 1.4549 - mean_sqrt_error: 1.4549 - val_loss: 1.5107 - val_mean_sqrt_error: 1.5107\n",
      "Epoch 79/1000\n",
      "656/656 [==============================] - 14s 21ms/step - loss: 1.4525 - mean_sqrt_error: 1.4525 - val_loss: 1.4734 - val_mean_sqrt_error: 1.4734\n",
      "Epoch 80/1000\n",
      "656/656 [==============================] - 14s 21ms/step - loss: 1.4527 - mean_sqrt_error: 1.4527 - val_loss: 1.5158 - val_mean_sqrt_error: 1.5158\n",
      "Epoch 81/1000\n",
      "656/656 [==============================] - 14s 21ms/step - loss: 1.4511 - mean_sqrt_error: 1.4511 - val_loss: 1.5394 - val_mean_sqrt_error: 1.5394\n",
      "Epoch 82/1000\n",
      "656/656 [==============================] - 14s 21ms/step - loss: 1.4482 - mean_sqrt_error: 1.4482 - val_loss: 1.5106 - val_mean_sqrt_error: 1.5106\n",
      "INFO:tensorflow:Assets written to: ./saved_model/NEW_UL_NoFeatSel_H1900_Z8000_FLAT400000_Lambda0.01_hadel/assets\n",
      "-0.01999999999999935\n"
     ]
    },
    {
     "data": {
      "image/png": "[encoded data removed]",
      "text/plain": [
       "<Figure size 576x576 with 1 Axes>"
      ]
     },
     "metadata": {
      "needs_background": "light"
     },
     "output_type": "display_data"
    }
   ],
   "source": [
    "for HOW_MANY_H_TO_TRAINING, HOW_MANY_Z_TO_TRAINING, lamb in wps:\n",
    "\n",
    "            modelName=f\"NEW_UL_NoFeatSel_H{HOW_MANY_H_TO_TRAINING}_Z{HOW_MANY_Z_TO_TRAINING}_FLAT{HOW_MANY_FLAT_TO_TRAINING}_Lambda{lamb}_hadel\"\n",
    "            #modelName=f\"Mass_and_Pt_IN_H{HOW_MANY_H_TO_TRAINING}_Z{HOW_MANY_Z_TO_TRAINING}_Lambda{lamb}_FLAT500k_genPtCut400_msd5_met50\"\n",
    "            inputParticle = Input(shape=(particlesConsidered, entriesPerParticle), name=\"inputParticle\")\n",
    "\n",
    "            XdotRR = Lambda(lambda tensor: tf.transpose(tf.tensordot(tf.transpose(tensor, perm=(0, 2, 1)), RR, axes=[[2], [0]]),\n",
    "                                                        perm=(0, 2, 1)), name=\"XdotRR\")(inputParticle)\n",
    "            XdotRS = Lambda(lambda tensor: tf.transpose(tf.tensordot(tf.transpose(tensor, perm=(0, 2, 1)), RS, axes=[[2], [0]]),\n",
    "                                                        perm=(0, 2, 1)), name=\"XdotRS\")(inputParticle)\n",
    "            Bpp = Lambda(lambda tensorList: tf.concat((tensorList[0], tensorList[1]), axis=2), name=\"Bpp\")([XdotRR, XdotRS])\n",
    "\n",
    "            convOneParticle = Conv1D(60, kernel_size=1, activation=\"relu\", name=\"convOneParticle\")(Bpp)\n",
    "            convTwoParticle = Conv1D(30, kernel_size=1, activation=\"relu\", name=\"convTwoParticle\")(convOneParticle)\n",
    "            convThreeParticle = Conv1D(20, kernel_size=1, activation=\"relu\", name=\"convThreeParticle\")(convTwoParticle)\n",
    "\n",
    "            Epp = BatchNormalization(momentum=0.6, name=\"Epp\")(convThreeParticle)\n",
    "\n",
    "            # Secondary vertex data interaction NN\n",
    "            inputSV = Input(shape=(svConsidered, entriesPerSV), name=\"inputSV\")\n",
    "\n",
    "            XdotRK = Lambda(lambda tensor: tf.transpose(tf.tensordot(tf.transpose(tensor, perm=(0, 2, 1)), RK, axes=[[2], [0]]),\n",
    "                                                        perm=(0, 2, 1)), name=\"XdotRK\")(inputParticle)\n",
    "            YdotRV = Lambda(lambda tensor: tf.transpose(tf.tensordot(tf.transpose(tensor, perm=(0, 2, 1)), RV, axes=[[2], [0]]),\n",
    "                                                        perm=(0, 2, 1)), name=\"YdotRV\")(inputSV)\n",
    "            Bvp = Lambda(lambda tensorList: tf.concat((tensorList[0], tensorList[1]), axis=2), name=\"Bvp\")([XdotRK, YdotRV])\n",
    "\n",
    "            convOneSV = Conv1D(60, kernel_size=1, activation=\"relu\", name=\"convOneSV\")(Bvp)\n",
    "            convTwoSV = Conv1D(30, kernel_size=1, activation=\"relu\", name=\"convTwoSV\")(convOneSV)\n",
    "            convThreeSV = Conv1D(20, kernel_size=1, activation=\"relu\", name=\"convThreeSV\")(convTwoSV)\n",
    "\n",
    "            Evp = BatchNormalization(momentum=0.6, name=\"Evp\")(convThreeSV)\n",
    "\n",
    "\n",
    "            # Event Level Info\n",
    "\n",
    "            inputEvent = Input(shape=(eventDataLength, ), name=\"inputEvent\")\n",
    "\n",
    "\n",
    "            # Combined prediction NN\n",
    "            EppBar = Lambda(lambda tensor: tf.transpose(tf.tensordot(tf.transpose(tensor, perm=(0, 2, 1)), RRT, axes=[[2], [0]]),\n",
    "                                                        perm=(0, 2, 1)), name=\"EppBar\")(Epp)\n",
    "            EvpBar = Lambda(lambda tensor: tf.transpose(tf.tensordot(tf.transpose(tensor, perm=(0, 2, 1)), RKT, axes=[[2], [0]]),\n",
    "                                                        perm=(0, 2, 1)), name=\"EvpBar\")(Evp)\n",
    "            C = Lambda(lambda listOfTensors: tf.concat((listOfTensors[0], listOfTensors[1], listOfTensors[2]), axis=2), name=\"C\")(\n",
    "                [inputParticle, EppBar, EvpBar])\n",
    "\n",
    "            convPredictOne = Conv1D(60, kernel_size=1, activation=\"relu\", name=\"convPredictOne\")(C)\n",
    "            convPredictTwo = Conv1D(30, kernel_size=1, activation=\"relu\", name=\"convPredictTwo\")(convPredictOne)\n",
    "\n",
    "            O = Conv1D(24, kernel_size=1, activation=\"relu\", name=\"O\")(convPredictTwo)\n",
    "\n",
    "            # Calculate output\n",
    "            OBar = Lambda(lambda tensor: K.sum(tensor, axis=1), name=\"OBar\")(O)\n",
    "\n",
    "            Concatted = Concatenate()([OBar, inputEvent])\n",
    "\n",
    "            denseEndOne = Dense(50, activation=\"relu\", name=\"denseEndOne\")(Concatted)\n",
    "            normEndOne = BatchNormalization(momentum=0.6, name=\"normEndOne\")(denseEndOne)\n",
    "            denseEndTwo = Dense(20, activation=\"relu\", name=\"denseEndTwo\")(normEndOne)\n",
    "            denseEndThree = Dense(10, activation=\"relu\", name=\"denseEndThree\")(denseEndTwo)\n",
    "            output = Dense(2,name=\"output\")(denseEndThree)\n",
    "\n",
    "            X_train = np.vstack((X_htt[:HOW_MANY_H_TO_TRAINING], X_z[:HOW_MANY_Z_TO_TRAINING], X_flat[:HOW_MANY_FLAT_TO_TRAINING]))\n",
    "            Xalt_train = np.vstack((Xalt_htt[:HOW_MANY_H_TO_TRAINING], Xalt_z[:HOW_MANY_Z_TO_TRAINING], Xalt_flat[:HOW_MANY_FLAT_TO_TRAINING]))\n",
    "            Xevt_train = np.vstack((Xevt_htt[:HOW_MANY_H_TO_TRAINING], Xevt_z[:HOW_MANY_Z_TO_TRAINING], Xevt_flat[:HOW_MANY_FLAT_TO_TRAINING]))\n",
    "            y_train = np.concatenate((y_htt[:HOW_MANY_H_TO_TRAINING,0:2], y_z[:HOW_MANY_Z_TO_TRAINING,0:2], y_flat[:HOW_MANY_FLAT_TO_TRAINING,0:2]))\n",
    "            #plt.hist(y_train[:,0])\n",
    "            #plt.hist(y_train[:,1])\n",
    "            #plt.show()\n",
    "            X_test_htt = X_htt[HOW_MANY_H_TO_TRAINING :HOW_MANY_H_TO_TRAINING +TEST_SIZE]\n",
    "            X_test_z   = X_z[HOW_MANY_Z_TO_TRAINING :HOW_MANY_Z_TO_TRAINING +TEST_SIZE]\n",
    "\n",
    "            Xalt_test_htt = Xalt_htt[HOW_MANY_H_TO_TRAINING :HOW_MANY_H_TO_TRAINING +TEST_SIZE]\n",
    "            Xalt_test_z   = Xalt_z[HOW_MANY_Z_TO_TRAINING :HOW_MANY_Z_TO_TRAINING +TEST_SIZE]\n",
    "\n",
    "            Xevt_test_htt = Xevt_htt[HOW_MANY_H_TO_TRAINING :HOW_MANY_H_TO_TRAINING +TEST_SIZE]\n",
    "            Xevt_test_z = Xevt_z[HOW_MANY_Z_TO_TRAINING :HOW_MANY_Z_TO_TRAINING +TEST_SIZE]\n",
    "\n",
    "            y_test_htt = y_htt[HOW_MANY_H_TO_TRAINING :HOW_MANY_H_TO_TRAINING +TEST_SIZE,0:2]\n",
    "            y_test_z  = y_z[HOW_MANY_Z_TO_TRAINING :HOW_MANY_Z_TO_TRAINING +TEST_SIZE,0:2]\n",
    "\n",
    "            X_test_flat   = X_flat[HOW_MANY_FLAT_TO_TRAINING :HOW_MANY_FLAT_TO_TRAINING +TEST_SIZE]\n",
    "            Xalt_test_flat   = Xalt_flat[HOW_MANY_FLAT_TO_TRAINING :HOW_MANY_FLAT_TO_TRAINING +TEST_SIZE]\n",
    "            Xevt_test_flat = Xevt_flat[HOW_MANY_FLAT_TO_TRAINING :HOW_MANY_FLAT_TO_TRAINING +TEST_SIZE]\n",
    "            y_test_flat  = y_flat[HOW_MANY_FLAT_TO_TRAINING :HOW_MANY_FLAT_TO_TRAINING +TEST_SIZE,0:2]\n",
    "\n",
    "            X_train, Xalt_train, Xevt_train, y_train = sklearn.utils.shuffle(X_train, Xalt_train, Xevt_train, y_train)\n",
    "            X_train, X_val, Xalt_train, Xalt_val, Xevt_train, Xevt_val, y_train, y_val = train_test_split(X_train, Xalt_train, Xevt_train, y_train, test_size=0.2, random_state=42)\n",
    "\n",
    "\n",
    "            #print(X_train[0] )\n",
    "            #print(X_test_htt[0])\n",
    "            \n",
    "\n",
    "            model = Model(inputs=[inputParticle, inputSV, inputEvent], outputs=[output])\n",
    "            opt = Adam(lr=0.001)\n",
    "            model.compile(optimizer=opt, loss=mean_sqrt_error, metrics=[mean_sqrt_error])\n",
    "            modelCallbacks = [EarlyStopping(patience=10),ModelCheckpoint(filepath=\"./weights/\"+modelName+\".h5\", save_weights_only=True, save_best_only=True)]\n",
    "            PredictionCallback(model, [X_val, Xalt_val, Xevt_val], y_val )\n",
    "            history = model.fit([X_train, Xalt_train, Xevt_train], y_train, epochs=numberOfEpochs, batch_size=batchSize,\n",
    "                                callbacks=modelCallbacks,\n",
    "                                validation_data=([X_val, Xalt_val, Xevt_val], y_val))\n",
    "\n",
    "\n",
    "            model.save(\"./saved_model/\"+modelName)\n",
    "            model.load_weights(\"./weights/\"+modelName+\".h5\")\n",
    "            predictions_htt = model.predict([X_test_htt, Xalt_test_htt, Xevt_test_htt])\n",
    "            predictions_z = model.predict([X_test_z, Xalt_test_z, Xevt_test_z])\n",
    "            \n",
    "            \n",
    "\n",
    "            #_, bins_z, patches_z = plt.hist(predictions_z[:,0],bins=np.arange(50,200,0.5),linewidth=1.5,density=True,facecolor=\"None\");\n",
    "            #_, bins_h, patches_h = plt.hist(predictions_htt[:,0],bins=np.arange(50,200,0.5),linewidth=1.5,density=True,facecolor=\"None\");\n",
    "            #plt.hist(predictions_z[:,0],bins=np.arange(50,200,1),linewidth=2,density=True,histtype=\"step\",color=\"C0\",label=\"Z\");\n",
    "            #plt.hist(predictions_htt[:,0],bins=np.arange(50,200,1),linewidth=2,density=True,histtype=\"step\",color=\"C1\",label=\"Higgs\");\n",
    "            #plt.axvline(x=np.quantile(predictions_htt[:,0],0.1),color='C1',linewidth=2)\n",
    "            #for i in range(len(bins_z)-1):\n",
    "            #    #print(bins_h[i])\n",
    "            #    if bins_z[i] > np.quantile(predictions_htt[:,0],0.1):\n",
    "            #        plt.setp(patches_z[i], facecolor=\"C0\",alpha=0.3)\n",
    "\n",
    "\n",
    "            #for i in range(len(bins_h)-1):\n",
    "            #    #print(bins_h[i])\n",
    "            #    if bins_h[i] > np.quantile(predictions_htt[:,0],0.1):\n",
    "            #        plt.setp(patches_h[i], facecolor=\"C1\",alpha=0.3)\n",
    "\n",
    "            #plt.legend(loc='upper left')    \n",
    "            #plt.text(np.quantile(predictions_htt[:,0],0.1),0.015,'90% of Higgs to the Right',ha='center', va='center',rotation='vertical', backgroundcolor='None')\n",
    "            #score_complement=stats.percentileofscore(predictions_z[:,0],np.quantile(predictions_htt[:,0],0.1))/100\n",
    "            #score = 1.-score_complement\n",
    "            #summary = r'$P(m_{Z,reg} > cutoff)=$'f'{score:.3f}''\\n'r'$1 / \\sqrt{P} = $'f'{1/np.sqrt(score):.3f}'\n",
    "            #anchored_text = AnchoredText(summary, loc=1)\n",
    "\n",
    "            #ax = plt.gca()\n",
    "            #ax.add_artist(anchored_text)\n",
    "            #plt.title(f'{HOW_MANY_H_TO_TRAINING}H and {HOW_MANY_Z_TO_TRAINING}Z mixed, Lambda={lamb}')\n",
    "\n",
    "            #plt.savefig(prefix+f'summaryscore-{1/np.sqrt(score):.4f}'+modelName+f'.png')\n",
    "            #plt.show()\n",
    "\n",
    "            #count_z, bins_z, patches_z = plt.hist(predictions_z[:,0],bins=np.arange(50,210,10),linewidth=1.5,density=True,facecolor=\"None\");\n",
    "            #count_h, bins_h, patches_h = plt.hist(predictions_htt[:,0],bins=np.arange(50,210,10),linewidth=1.5,density=True,facecolor=\"None\");\n",
    "            #plt.hist(predictions_z[:,0],bins=np.arange(50,210,10),linewidth=2,density=True,histtype=\"step\",color=\"C0\",label=\"Z\");\n",
    "            #plt.hist(predictions_htt[:,0],bins=np.arange(50,210,10),linewidth=2,density=True,histtype=\"step\",color=\"C1\",label=\"Higgs\");\n",
    "            #plt.axvline(x=110,color='r',linewidth=2,alpha=0.4)\n",
    "            #plt.axvline(x=140,color='r',linewidth=2,alpha=0.4)\n",
    "            #S = 0.\n",
    "            #B = 0.\n",
    "            #for i in range(len(bins_z)-1):\n",
    "            #    #print(bins_h[i])\n",
    "            #    if bins_z[i] in [110,120,130]:\n",
    "            #        plt.setp(patches_z[i], facecolor=\"C0\",alpha=0.2)\n",
    "            #        plt.setp(patches_h[i], facecolor=\"C1\",alpha=0.2)\n",
    "            #        S += count_h[i]\n",
    "            #        B += count_z[i]\n",
    "\n",
    "            #significance = S/math.sqrt(B)\n",
    "            #summary = r'$\\frac{P(m_{H,reg} \\in [110,140])}{\\sqrt{P(m_{Z,reg} \\in [110,140])}}=$'f'{significance:.3f}'\n",
    "            #anchored_text = AnchoredText(summary, loc=1,prop=dict(fontsize=15))\n",
    "            #plt.legend(loc='upper left')    \n",
    "\n",
    "            #ax = plt.gca()\n",
    "            #ax.add_artist(anchored_text)\n",
    "            #plt.title(f'{HOW_MANY_H_TO_TRAINING}H and {HOW_MANY_Z_TO_TRAINING}Z mixed, Lambda={lamb}')\n",
    "\n",
    "            #plt.savefig(prefix+f'significance-{np.sqrt(significance):.4f}'+modelName+f'.png')\n",
    "\n",
    "            #plt.show()\n",
    "            \n",
    "            \n",
    "            #predictions_qcd = model.predict([X_qcd, Xalt_qcd, Xevt_qcd])\n",
    "            #mass_qcd = predictions_qcd[:,0]\n",
    "    \n",
    "            #H_rec = (mass_qcd.flatten()-y_test_htt[:,0])/y_test_htt[:,0]\n",
    "\n",
    "            #plt.hist(mass_qcd,bins=np.arange(0,300,1),color='C0',label='Reconstructed Mass',alpha=0.2,density=True);\n",
    "            #plt.hist(y_qcd[:10000,0],bins=np.arange(0,300,10),color='C1',label='gen Mass',alpha=0.2,density=True)\n",
    "            #plt.axvline(x=125,color='r')\n",
    "            #plt.text(110,500,'m=125',rotation=90,fontsize=15)\n",
    "            #plt.title(f'QCD, {HOW_MANY_H_TO_TRAINING}H and {HOW_MANY_Z_TO_TRAINING}Z mixed')\n",
    "            #plt.legend()\n",
    "            #plt.xlabel('M (GeV)')\n",
    "            #plt.ylabel('Density')\n",
    "\n",
    "            #summary = f'''mean:{np.mean(mass_qcd)}\n",
    "            #std:{np.std(mass_qcd)}'''\n",
    "\n",
    "            #anchored_text = AnchoredText(summary, loc=1)\n",
    "            #ax = plt.gca()\n",
    "            #ax.add_artist(anchored_text)\n",
    "            #plt.savefig(prefix+modelName+f'-QCD-hadhad-mass.png')\n",
    "            #plt.show()\n",
    "\n",
    "            #plt.hist(predictions_qcd[:,1],bins=np.arange(0,1000,10),color='r',label='Reconstructed Pt',alpha=0.2,density=True);\n",
    "            #plt.hist(y_qcd[:10000,1],bins=np.arange(0,1000,10),color='b',label='gen Pt',alpha=0.2,density=True)\n",
    "            #plt.title(f'QCD, {HOW_MANY_H_TO_TRAINING}H and {HOW_MANY_Z_TO_TRAINING}Z mixed')\n",
    "            #plt.xlabel('pT (GeV)')\n",
    "            #plt.legend()\n",
    "            #plt.ylabel('Density')\n",
    "            #plt.savefig(prefix+modelName+f'-QCD-hadhad-pT.png')\n",
    "            #plt.show()\n",
    "            \n",
    "            #pt_response = (predictions_htt[:,1]-y_test_htt[:,1])/y_test_htt[:,1]\n",
    "\n",
    "            #plt.hist(pt_response,bins=np.arange(-0.5,0.5,.02),color='r',label=r'$p_{T}$ Response',alpha=0.2, density=True);\n",
    "            #plt.hist(y_htt[:,1],bins=np.arange(0,1000,10),color='b',label='gen Pt',alpha=0.2)\n",
    "            #plt.title(f'Htt, {HOW_MANY_H_TO_TRAINING}H and {HOW_MANY_Z_TO_TRAINING}Z mixed')\n",
    "            #plt.xlabel(r'$(p_{T,reg}-p_{T,gen})/p_{T,gen}$')\n",
    "            #plt.ylabel('Density')\n",
    "            #plt.legend(loc='upper left')\n",
    "\n",
    "            #summary = f'''mean: {np.mean(pt_response):.3f}\\nstd:   {np.std(pt_response):.3f}'''\n",
    "\n",
    "            #anchored_text = AnchoredText(summary, loc=1)\n",
    "            #ax = plt.gca()\n",
    "            #ax.add_artist(anchored_text)\n",
    "\n",
    "\n",
    "            #plt.savefig(prefix+modelName+f'-Higgs-hadhad-pT-Response-summary.png')\n",
    "            #plt.show()\n",
    "            \n",
    "            massH = predictions_htt[:,0]\n",
    "            H_rec = (massH.flatten()-y_test_htt[:,0])/y_test_htt[:,0]\n",
    "            \n",
    "            massZ = predictions_z[:,0]\n",
    "            Z_rec = (massZ.flatten()-y_test_z[:,0])/y_test_z[:,0]\n",
    "\n",
    "            predictions_flat = model.predict([X_test_flat, Xalt_test_flat, Xevt_test_flat])\n",
    "            massFlat = predictions_flat[:,0]\n",
    "            Flat_rec = (massFlat.flatten()-y_test_flat[:,0])/y_test_flat[:,0]            \n",
    "            \n",
    "            n, b, patches = plt.hist(H_rec,bins=np.arange(-0.75,0.75,0.01),alpha=.9,histtype='step',density=True,color='r',label='H');\n",
    "            H_mode = b[np.argmax(n)]\n",
    "\n",
    "            n, b, patches = plt.hist(Z_rec,bins=np.arange(-0.75,0.75,0.01),alpha=.9,histtype='step',density=True,color='g',label='Z');\n",
    "            Z_mode = b[np.argmax(n)]\n",
    "            n, b, patches = plt.hist(Flat_rec,bins=np.arange(-0.75,0.75,0.01),alpha=.9,histtype='step',density=True,color='b',label='Flat');\n",
    "            Flat_mode = b[np.argmax(n)]\n",
    "            plt.xlim([-1.2, 1.2])\n",
    "            print(Z_mode)\n",
    "            plt.text(0.75,1.3,f'Flat Mean: {np.mean(Flat_rec):.3f}, Mode:{Flat_mode:.3f}',fontsize=12,transform=ax.transAxes)\n",
    "            plt.text(0.75,1.4,f'H Mean: {np.mean(H_rec):.3f}, Mode:{H_mode:.3f}',fontsize=12,transform=ax.transAxes)\n",
    "            plt.text(0.75,1.5,f'Z Mean: {np.mean(Z_rec):.3f}, Mode:{Z_mode:.3f}',fontsize=12,transform=ax.transAxes)\n",
    "            \n",
    "            \n",
    "\n",
    "            plt.xlabel(r'$(m_{reg}-m_{gen})/m_{gen}$',fontsize=15)\n",
    "            plt.ylabel(r'$density$',fontsize=15)\n",
    "            plt.legend(loc='upper right')\n",
    "            plt.savefig(prefix+f'Zmode:{Z_mode:.3f}-'+modelName+'-mass-response.png')\n",
    "            plt.show()\n",
    "\n",
    "\n",
    "            K.clear_session() \n",
    "        \n",
    "      "
   ]
  },
  {
   "cell_type": "code",
   "execution_count": null,
   "metadata": {},
   "outputs": [],
   "source": []
  },
  {
   "cell_type": "code",
   "execution_count": null,
   "metadata": {},
   "outputs": [],
   "source": []
  },
  {
   "cell_type": "code",
   "execution_count": null,
   "metadata": {},
   "outputs": [],
   "source": []
  },
  {
   "cell_type": "code",
   "execution_count": null,
   "metadata": {},
   "outputs": [],
   "source": []
  },
  {
   "cell_type": "code",
   "execution_count": null,
   "metadata": {},
   "outputs": [],
   "source": []
  },
  {
   "cell_type": "code",
   "execution_count": null,
   "metadata": {},
   "outputs": [],
   "source": []
  },
  {
   "cell_type": "code",
   "execution_count": null,
   "metadata": {},
   "outputs": [],
   "source": [
    "X_flat,Xalt_flat,Xevt_flat,y_flat,feat_flat = load_flat('/nobackup/users/sangeon/FlatTauTau_user.z',maxevts=0);\n",
    "X_htt,Xalt_htt,Xevt_htt,y_htt,feat_htt = load_flat('/nobackup/users/sangeon/GluGluHToTauTau_user.z');\n",
    "X_z,Xalt_z, Xevt_z, y_z, feat_z = load_flat('/nobackup/users/sangeon/DYJetsToLL.z');"
   ]
  },
  {
   "cell_type": "code",
   "execution_count": null,
   "metadata": {},
   "outputs": [],
   "source": [
    "flat_msd_cut = np.where((Xevt_flat[:,-4]>20)&(Xevt_flat[:,-3]>200)&(y_flat[:,1]>400))\n",
    "htt_msd_cut = np.where((Xevt_htt[:,-4]>20)&(Xevt_htt[:,-3]>200)&(y_htt[:,1]>400))\n",
    "z_msd_cut = np.where((Xevt_z[:,-4]>20)&(Xevt_z[:,-3]>200)&(y_z[:,1]>400))"
   ]
  },
  {
   "cell_type": "code",
   "execution_count": null,
   "metadata": {},
   "outputs": [],
   "source": [
    "xmin = range(400,900,50)"
   ]
  },
  {
   "cell_type": "code",
   "execution_count": null,
   "metadata": {},
   "outputs": [],
   "source": [
    "xmin"
   ]
  },
  {
   "cell_type": "code",
   "execution_count": null,
   "metadata": {},
   "outputs": [],
   "source": []
  },
  {
   "cell_type": "code",
   "execution_count": null,
   "metadata": {},
   "outputs": [],
   "source": []
  },
  {
   "cell_type": "code",
   "execution_count": null,
   "metadata": {},
   "outputs": [],
   "source": [
    "import pickle\n",
    "f = open(\"dict_mean_std.pkl\",\"wb\")\n",
    "pickle.dump(dict_mean_std,f)\n",
    "f.close()"
   ]
  },
  {
   "cell_type": "code",
   "execution_count": null,
   "metadata": {},
   "outputs": [],
   "source": [
    "K.clear_session()"
   ]
  },
  {
   "cell_type": "code",
   "execution_count": null,
   "metadata": {},
   "outputs": [],
   "source": []
  },
  {
   "cell_type": "code",
   "execution_count": null,
   "metadata": {},
   "outputs": [],
   "source": []
  },
  {
   "cell_type": "code",
   "execution_count": null,
   "metadata": {},
   "outputs": [],
   "source": []
  },
  {
   "cell_type": "code",
   "execution_count": null,
   "metadata": {},
   "outputs": [],
   "source": []
  },
  {
   "cell_type": "code",
   "execution_count": null,
   "metadata": {},
   "outputs": [],
   "source": []
  },
  {
   "cell_type": "code",
   "execution_count": null,
   "metadata": {},
   "outputs": [],
   "source": []
  },
  {
   "cell_type": "code",
   "execution_count": null,
   "metadata": {},
   "outputs": [],
   "source": []
  },
  {
   "cell_type": "code",
   "execution_count": null,
   "metadata": {},
   "outputs": [],
   "source": []
  },
  {
   "cell_type": "code",
   "execution_count": null,
   "metadata": {},
   "outputs": [],
   "source": []
  },
  {
   "cell_type": "code",
   "execution_count": null,
   "metadata": {},
   "outputs": [],
   "source": []
  },
  {
   "cell_type": "code",
   "execution_count": null,
   "metadata": {},
   "outputs": [],
   "source": []
  },
  {
   "cell_type": "code",
   "execution_count": null,
   "metadata": {},
   "outputs": [],
   "source": [
    "predictions = model.predict([X_test_htt, Xalt_test_htt, Xevt_test_htt])\n",
    "massH = predictions[:,0]\n",
    "H_rec = (massH.flatten()-y_test_htt[:,0])/y_test_htt[:,0]"
   ]
  },
  {
   "cell_type": "code",
   "execution_count": 101,
   "metadata": {},
   "outputs": [
    {
     "data": {
      "image/png": "[encoded data removed]",
      "text/plain": [
       "<Figure size 432x288 with 1 Axes>"
      ]
     },
     "metadata": {
      "needs_background": "light"
     },
     "output_type": "display_data"
    }
   ],
   "source": [
    "plt.hist(massH,bins=np.arange(0,300,1));\n",
    "plt.axvline(x=125,color='r')\n",
    "plt.text(110,500,'m=125',rotation=90,fontsize=15)\n",
    "plt.title('Htt, 100k H Z mix')\n",
    "plt.xlabel('M (GeV)')\n",
    "\n",
    "plt.text(160, 600, f'mean: {np.mean(massH):.2f}', fontsize=15)\n",
    "plt.text(160, 500, f'std: {np.std(massH):.2f}', fontsize=15)\n",
    "plt.savefig(prefix+modelName+'-Higgs-hadhad-100k-mass.pdf')\n"
   ]
  },
  {
   "cell_type": "code",
   "execution_count": 87,
   "metadata": {},
   "outputs": [
    {
     "data": {
      "image/png": "[encoded data removed]",
      "text/plain": [
       "<Figure size 432x288 with 1 Axes>"
      ]
     },
     "metadata": {
      "needs_background": "light"
     },
     "output_type": "display_data"
    }
   ],
   "source": [
    "plt.hist(predictions[:,1],bins=np.arange(0,1000,10),color='r',label='Reconstructed Pt',alpha=0.2);\n",
    "plt.hist(y_test_htt[:,1],bins=np.arange(0,1000,10),color='b',label='gen Pt',alpha=0.2)\n",
    "plt.title('Htt, 100k H Z mix')\n",
    "plt.xlabel('Pt (GeV)')\n",
    "plt.legend()\n",
    "plt.savefig(prefix+modelName+'-Higgs-hadhad-100k-Pt.pdf')\n",
    "\n",
    "#plt.axvline(x=125,color='r')\n",
    "\n"
   ]
  },
  {
   "cell_type": "code",
   "execution_count": 92,
   "metadata": {},
   "outputs": [],
   "source": [
    "predictions = model.predict([X_test_z, Xalt_test_z, Xevt_test_z])\n",
    "massZ = predictions[:,0]\n",
    "Z_rec = (massZ.flatten()-y_test_z[:,0])/y_test_z[:,0]"
   ]
  },
  {
   "cell_type": "code",
   "execution_count": 102,
   "metadata": {},
   "outputs": [
    {
     "data": {
      "image/png": "[encoded data removed]",
      "text/plain": [
       "<Figure size 432x288 with 1 Axes>"
      ]
     },
     "metadata": {
      "needs_background": "light"
     },
     "output_type": "display_data"
    }
   ],
   "source": [
    "plt.hist(massZ,bins=np.arange(0,300,4));\n",
    "plt.axvline(x=91.2,color='r')\n",
    "plt.text(60,2000,'m=91.2',rotation=90,fontsize=15)\n",
    "plt.title('Z, 100k H Z mix')\n",
    "plt.xlabel('M (GeV)')\n",
    "\n",
    "plt.text(160, 2000, f'mean: {np.mean(massZ):.2f}', fontsize=15)\n",
    "plt.text(160, 1400, f'std: {np.std(massZ):.2f}', fontsize=15)\n",
    "#plt.savefig(prefix+modelName+'-Z-hadhad-50000.pdf')\n",
    "plt.savefig(prefix+modelName+'-Z-hadhad-100k-mass.pdf')\n",
    "\n",
    "#plt.text(200, 600, f'mixratio: {mixratio}%', fontsize=15)"
   ]
  },
  {
   "cell_type": "code",
   "execution_count": 103,
   "metadata": {},
   "outputs": [
    {
     "data": {
      "image/png": "[encoded data removed]",
      "text/plain": [
       "<Figure size 432x288 with 1 Axes>"
      ]
     },
     "metadata": {
      "needs_background": "light"
     },
     "output_type": "display_data"
    }
   ],
   "source": [
    "plt.hist(predictions[:,1],bins=np.arange(0,1000,10),color='r',label='Reconstructed Pt',alpha=0.2);\n",
    "plt.hist(y_test_z[:,1],bins=np.arange(0,1000,10),color='b',label='gen Pt',alpha=0.2)\n",
    "plt.title('Z, 100k H Z mix')\n",
    "plt.xlabel('Pt (GeV)')\n",
    "plt.legend()\n",
    "plt.savefig(prefix+modelName+'-Z-hadhad-100k-Pt.pdf')"
   ]
  },
  {
   "cell_type": "code",
   "execution_count": null,
   "metadata": {},
   "outputs": [],
   "source": []
  },
  {
   "cell_type": "code",
   "execution_count": null,
   "metadata": {},
   "outputs": [],
   "source": []
  },
  {
   "cell_type": "code",
   "execution_count": null,
   "metadata": {},
   "outputs": [],
   "source": []
  },
  {
   "cell_type": "code",
   "execution_count": null,
   "metadata": {},
   "outputs": [],
   "source": []
  },
  {
   "cell_type": "code",
   "execution_count": null,
   "metadata": {},
   "outputs": [],
   "source": []
  },
  {
   "cell_type": "code",
   "execution_count": 106,
   "metadata": {},
   "outputs": [],
   "source": [
    "predictions = model.predict([X_test_flat, Xalt_test_flat, Xevt_test_flat])\n",
    "\n",
    "massFlat = predictions[:,0]\n",
    "\n",
    "\n",
    "Flat_rec = (massFlat.flatten()-y_test_flat[:,0])/y_test_flat[:,0]"
   ]
  },
  {
   "cell_type": "code",
   "execution_count": 107,
   "metadata": {},
   "outputs": [
    {
     "data": {
      "image/png": "[encoded data removed]",
      "text/plain": [
       "<Figure size 432x288 with 1 Axes>"
      ]
     },
     "metadata": {
      "needs_background": "light"
     },
     "output_type": "display_data"
    }
   ],
   "source": [
    "plt.hist(H_rec,bins=np.arange(-0.75,0.75,0.02),alpha=.9,histtype='step',density=True,color='r',label='H');\n",
    "plt.hist(Z_rec,bins=np.arange(-0.75,0.75,0.02),alpha=.9,histtype='step',density=True,color='g',label='Z');\n",
    "plt.hist(Flat_rec,bins=np.arange(-0.75,0.75,0.02),alpha=.9,histtype='step',density=True,color='b',label='Flat');\n",
    "plt.xlabel(r'$(m_{reg}-m_{gen})/m_{gen}$',fontsize=15)\n",
    "plt.ylabel(r'$density$',fontsize=15)\n",
    "plt.legend(loc='upper right')\n",
    "plt.savefig(prefix+modelName+'-100k-response.pdf')\n"
   ]
  },
  {
   "cell_type": "code",
   "execution_count": null,
   "metadata": {},
   "outputs": [],
   "source": []
  },
  {
   "cell_type": "code",
   "execution_count": 70,
   "metadata": {},
   "outputs": [
    {
     "name": "stdout",
     "output_type": "stream",
     "text": [
      "126.06927 9.392275\n"
     ]
    }
   ],
   "source": [
    "print(np.mean(mass),np.std(mass))"
   ]
  },
  {
   "cell_type": "code",
   "execution_count": 78,
   "metadata": {},
   "outputs": [],
   "source": [
    "X_train_z,X_test_z,Xalt_train_z,Xalt_test_z,Xevt_train_z,Xevt_test_z,Y_train_z,Y_test_z,feat_train_z,feat_test_z = load('/nobackup/users/sangeon/DYJetsToLL_0.z');\n",
    "\n",
    "y_train_z = Y_train_z[:,0]\n",
    "\n",
    "X_train_z = (X_train_z-part_mean)/part_std\n",
    "Xalt_train_z = (Xalt_train_z-alt_mean)/alt_std\n",
    "Xevt_train_z = (Xevt_train_z-evt_mean)/evt_std\n",
    "\n"
   ]
  },
  {
   "cell_type": "code",
   "execution_count": 79,
   "metadata": {},
   "outputs": [],
   "source": [
    "predictions_z = model.predict([X_train_z, Xalt_train_z, Xevt_train_z])\n"
   ]
  },
  {
   "cell_type": "code",
   "execution_count": 80,
   "metadata": {},
   "outputs": [],
   "source": [
    "regressed_z = (predictions_z * std_Y) + mean_Y"
   ]
  },
  {
   "cell_type": "code",
   "execution_count": 81,
   "metadata": {},
   "outputs": [
    {
     "data": {
      "text/plain": [
       "<matplotlib.lines.Line2D at 0x2000ab28eb10>"
      ]
     },
     "execution_count": 81,
     "metadata": {},
     "output_type": "execute_result"
    },
    {
     "data": {
      "image/png": "[encoded data removed]",
      "text/plain": [
       "<Figure size 432x288 with 1 Axes>"
      ]
     },
     "metadata": {
      "needs_background": "light"
     },
     "output_type": "display_data"
    }
   ],
   "source": [
    "plt.hist(regressed_z,bins=np.arange(70,200,1));\n",
    "plt.axvline(x=91)"
   ]
  },
  {
   "cell_type": "code",
   "execution_count": null,
   "metadata": {},
   "outputs": [],
   "source": []
  },
  {
   "cell_type": "code",
   "execution_count": 56,
   "metadata": {},
   "outputs": [],
   "source": [
    "mean_Y = np.mean(y_train[:])\n",
    "std_Y = np.std(y_train[:])\n",
    "y_train[:] = (y_train[:]-mean_Y)/std_Y"
   ]
  },
  {
   "cell_type": "code",
   "execution_count": 57,
   "metadata": {},
   "outputs": [],
   "source": [
    "%matplotlib inline"
   ]
  },
  {
   "cell_type": "code",
   "execution_count": 58,
   "metadata": {},
   "outputs": [
    {
     "data": {
      "image/png": "[encoded data removed]",
      "text/plain": [
       "<Figure size 432x288 with 1 Axes>"
      ]
     },
     "metadata": {
      "needs_background": "light"
     },
     "output_type": "display_data"
    }
   ],
   "source": [
    "plt.hist(y_train, np.arange(-3,3,0.1));"
   ]
  },
  {
   "cell_type": "code",
   "execution_count": 59,
   "metadata": {},
   "outputs": [],
   "source": [
    "X_val, X_test, Xalt_val, Xalt_test, Xevt_val, Xevt_test, y_val, y_test = train_test_split(X_test_htt, Xalt_test_htt, Xevt_test_htt, Y_test_htt, test_size=0.5, random_state=42)"
   ]
  },
  {
   "cell_type": "code",
   "execution_count": 60,
   "metadata": {},
   "outputs": [],
   "source": [
    "y_val[:] = (y_val[:]-mean_Y)/std_Y\n",
    "y_test[:] = (y_test[:]-mean_Y)/std_Y"
   ]
  },
  {
   "cell_type": "code",
   "execution_count": 61,
   "metadata": {},
   "outputs": [
    {
     "data": {
      "image/png": "[encoded data removed]",
      "text/plain": [
       "<Figure size 432x288 with 1 Axes>"
      ]
     },
     "metadata": {
      "needs_background": "light"
     },
     "output_type": "display_data"
    }
   ],
   "source": [
    "plt.hist(y_val,np.arange(-1,1,0.01));"
   ]
  },
  {
   "cell_type": "code",
   "execution_count": 62,
   "metadata": {},
   "outputs": [
    {
     "name": "stdout",
     "output_type": "stream",
     "text": [
      "cuda:0\n"
     ]
    },
    {
     "data": {
      "text/plain": [
       "'GeForce RTX 2080 Ti'"
      ]
     },
     "execution_count": 62,
     "metadata": {},
     "output_type": "execute_result"
    }
   ],
   "source": [
    "device = torch.device(\"cuda:0\" if torch.cuda.is_available() else \"cpu\")\n",
    "print(device)\n",
    "torch.cuda.get_device_name(0)"
   ]
  },
  {
   "cell_type": "code",
   "execution_count": 63,
   "metadata": {},
   "outputs": [],
   "source": [
    "BATCH_SIZE = 500\n",
    "N_EPOCHS = 80\n",
    "PRINT_INTERVAL = 2000\n",
    "NUM_WORKERS = 4\n",
    "LR = 1e-4"
   ]
  },
  {
   "cell_type": "code",
   "execution_count": 64,
   "metadata": {},
   "outputs": [
    {
     "name": "stdout",
     "output_type": "stream",
     "text": [
      "SimpleGru(\n",
      "  (gru1): GRU(10, 10, num_layers=10, batch_first=True, dropout=0.5)\n",
      "  (gru2): GRU(13, 13, num_layers=10, batch_first=True, dropout=0.5)\n",
      "  (linear1): Linear(in_features=35, out_features=40, bias=True)\n",
      "  (linear2): Linear(in_features=40, out_features=20, bias=True)\n",
      "  (linear3): Linear(in_features=20, out_features=10, bias=True)\n",
      "  (linear4): Linear(in_features=10, out_features=5, bias=True)\n",
      "  (linear5): Linear(in_features=5, out_features=1, bias=True)\n",
      "  (linear6): Linear(in_features=6, out_features=3, bias=True)\n",
      "  (linear7): Linear(in_features=3, out_features=1, bias=True)\n",
      "  (dropout): Dropout(p=0.1, inplace=False)\n",
      "  (batchnorm1): BatchNorm1d(40, eps=1e-05, momentum=0.1, affine=True, track_running_stats=True)\n",
      "  (batchnorm2): BatchNorm1d(20, eps=1e-05, momentum=0.1, affine=True, track_running_stats=True)\n",
      "  (batchnorm3): BatchNorm1d(10, eps=1e-05, momentum=0.1, affine=True, track_running_stats=True)\n",
      "  (batchnorm4): BatchNorm1d(5, eps=1e-05, momentum=0.1, affine=True, track_running_stats=True)\n",
      "  (batchnorm5): BatchNorm1d(6, eps=1e-05, momentum=0.1, affine=True, track_running_stats=True)\n",
      "  (batchnorm6): BatchNorm1d(3, eps=1e-05, momentum=0.1, affine=True, track_running_stats=True)\n",
      ")\n"
     ]
    },
    {
     "data": {
      "text/plain": [
       "SimpleGru(\n",
       "  (gru1): GRU(10, 10, num_layers=10, batch_first=True, dropout=0.5)\n",
       "  (gru2): GRU(13, 13, num_layers=10, batch_first=True, dropout=0.5)\n",
       "  (linear1): Linear(in_features=35, out_features=40, bias=True)\n",
       "  (linear2): Linear(in_features=40, out_features=20, bias=True)\n",
       "  (linear3): Linear(in_features=20, out_features=10, bias=True)\n",
       "  (linear4): Linear(in_features=10, out_features=5, bias=True)\n",
       "  (linear5): Linear(in_features=5, out_features=1, bias=True)\n",
       "  (linear6): Linear(in_features=6, out_features=3, bias=True)\n",
       "  (linear7): Linear(in_features=3, out_features=1, bias=True)\n",
       "  (dropout): Dropout(p=0.1, inplace=False)\n",
       "  (batchnorm1): BatchNorm1d(40, eps=1e-05, momentum=0.1, affine=True, track_running_stats=True)\n",
       "  (batchnorm2): BatchNorm1d(20, eps=1e-05, momentum=0.1, affine=True, track_running_stats=True)\n",
       "  (batchnorm3): BatchNorm1d(10, eps=1e-05, momentum=0.1, affine=True, track_running_stats=True)\n",
       "  (batchnorm4): BatchNorm1d(5, eps=1e-05, momentum=0.1, affine=True, track_running_stats=True)\n",
       "  (batchnorm5): BatchNorm1d(6, eps=1e-05, momentum=0.1, affine=True, track_running_stats=True)\n",
       "  (batchnorm6): BatchNorm1d(3, eps=1e-05, momentum=0.1, affine=True, track_running_stats=True)\n",
       ")"
      ]
     },
     "execution_count": 64,
     "metadata": {},
     "output_type": "execute_result"
    }
   ],
   "source": [
    "model = SimpleGru()\n",
    "\n",
    "print(model)\n",
    "model.to(device)"
   ]
  },
  {
   "cell_type": "code",
   "execution_count": 65,
   "metadata": {},
   "outputs": [],
   "source": [
    "train_data = gruTrainData(torch.FloatTensor(X_train.astype(np.float)),torch.FloatTensor(Xalt_train.astype(np.float)),torch.FloatTensor(Xevt_train.astype(np.float)),torch.FloatTensor(y_train.astype(np.float)))\n",
    "val_data = gruTrainData(torch.FloatTensor(X_val.astype(np.float)),torch.FloatTensor(Xalt_val.astype(np.float)),torch.FloatTensor(Xevt_val.astype(np.float)),torch.FloatTensor(np.array(y_val).astype(np.float)))\n",
    "test_data = gruTestData(torch.FloatTensor(X_test.astype(np.float)),torch.FloatTensor(Xalt_test.astype(np.float)),torch.FloatTensor(Xevt_test.astype(np.float))) "
   ]
  },
  {
   "cell_type": "code",
   "execution_count": 66,
   "metadata": {},
   "outputs": [],
   "source": [
    "train_loader = utils.DataLoader(dataset=train_data, batch_size=BATCH_SIZE, shuffle=True)\n",
    "val_loader = utils.DataLoader(dataset=val_data, batch_size=100)\n",
    "test_loader = utils.DataLoader(dataset=test_data, batch_size=100)"
   ]
  },
  {
   "cell_type": "code",
   "execution_count": 67,
   "metadata": {},
   "outputs": [],
   "source": [
    "optimizer = optim.Adam(model.parameters(), lr=1e-4)\n",
    "criterion = nn.SmoothL1Loss()"
   ]
  },
  {
   "cell_type": "code",
   "execution_count": null,
   "metadata": {},
   "outputs": [],
   "source": []
  },
  {
   "cell_type": "code",
   "execution_count": null,
   "metadata": {},
   "outputs": [],
   "source": []
  },
  {
   "cell_type": "code",
   "execution_count": null,
   "metadata": {},
   "outputs": [],
   "source": []
  },
  {
   "cell_type": "code",
   "execution_count": null,
   "metadata": {},
   "outputs": [],
   "source": []
  },
  {
   "cell_type": "code",
   "execution_count": null,
   "metadata": {},
   "outputs": [],
   "source": []
  },
  {
   "cell_type": "code",
   "execution_count": null,
   "metadata": {},
   "outputs": [],
   "source": []
  },
  {
   "cell_type": "code",
   "execution_count": null,
   "metadata": {},
   "outputs": [],
   "source": []
  },
  {
   "cell_type": "code",
   "execution_count": null,
   "metadata": {},
   "outputs": [],
   "source": []
  },
  {
   "cell_type": "code",
   "execution_count": 68,
   "metadata": {},
   "outputs": [],
   "source": [
    "def train():\n",
    "    # set the train mode\n",
    "    model.train()\n",
    "\n",
    "    # loss of the epoch\n",
    "    epoch_loss = 0\n",
    "    epoch_acc = 0\n",
    "\n",
    "    for x1,x2,x3, y in train_loader:\n",
    "        # reshape the data into [batch_size, 784]\n",
    "        x1,x2,x3,y = x1.to(device),x2.to(device),x3.to(device), y.to(device)\n",
    "\n",
    "        # update the gradients to zero\n",
    "        optimizer.zero_grad()\n",
    "\n",
    "        # forward pass\n",
    "        y_pred = model(x1,x2,x3)\n",
    "\n",
    "        # reconstruction loss\n",
    "        #recon_loss = F.binary_cross_entropy(x_sample, x, size_average=False)\n",
    "\n",
    "        # kl divergence loss\n",
    "        #kl_loss = 0.5 * torch.sum(torch.exp(z_var) + z_mu**2 - 1.0 - z_var)\n",
    "\n",
    "        # total loss\n",
    "        #loss = recon_loss + kl_loss\n",
    "\n",
    "        #BCE loss\n",
    "        loss = criterion(y_pred, y.unsqueeze(1))\n",
    "        \n",
    "        # backward pass\n",
    "        loss.backward()\n",
    "        epoch_loss += loss.item()\n",
    "\n",
    "        # update the weights\n",
    "        optimizer.step()\n",
    "\n",
    "    return epoch_loss"
   ]
  },
  {
   "cell_type": "code",
   "execution_count": 69,
   "metadata": {},
   "outputs": [],
   "source": [
    "def test():\n",
    "    # set the evaluation mode\n",
    "    model.eval()\n",
    "\n",
    "    # test loss for the data\n",
    "    test_loss = 0\n",
    "\n",
    "    # we don't need to track the gradients, since we are not updating the parameters during evaluation / testing\n",
    "    with torch.no_grad():\n",
    "        for x1,x2,x3, y in val_loader:\n",
    "            # reshape the data\n",
    "            #x = x.view(-1, 28 * 28)\n",
    "            x1,x2,x3,y = x1.to(device),x2.to(device),x3.to(device), y.to(device)\n",
    "            # forward pass\n",
    "            y_pred = model(x1,x2,x3)\n",
    "\n",
    "            loss = criterion(y_pred, y.unsqueeze(1))\n",
    "            # total loss\n",
    "            \n",
    "            test_loss += loss.item()\n",
    "\n",
    "    return test_loss\n"
   ]
  },
  {
   "cell_type": "code",
   "execution_count": 70,
   "metadata": {},
   "outputs": [
    {
     "data": {
      "text/plain": [
       "3"
      ]
     },
     "execution_count": 70,
     "metadata": {},
     "output_type": "execute_result"
    }
   ],
   "source": [
    "mixratio"
   ]
  },
  {
   "cell_type": "code",
   "execution_count": 74,
   "metadata": {},
   "outputs": [
    {
     "data": {
      "text/plain": [
       "<All keys matched successfully>"
      ]
     },
     "execution_count": 74,
     "metadata": {},
     "output_type": "execute_result"
    }
   ],
   "source": [
    "model.load_state_dict(torch.load(f\"/data/t3home000/spark/MassRegression/weights/supervised_gru_allinput_{mixratio}_v0.h5\"))"
   ]
  },
  {
   "cell_type": "code",
   "execution_count": 75,
   "metadata": {},
   "outputs": [
    {
     "name": "stdout",
     "output_type": "stream",
     "text": [
      "Epoch 0, Train Loss: 0.0001659, Test Loss: 0.0002834\n",
      "saving model\n",
      "Epoch 1, Train Loss: 0.0001641, Test Loss: 0.0004345\n",
      "NOT SAVING\n",
      "Epoch 2, Train Loss: 0.0001627, Test Loss: 0.0003051\n",
      "NOT SAVING\n",
      "Epoch 3, Train Loss: 0.0001622, Test Loss: 0.0002499\n",
      "saving model\n",
      "Epoch 4, Train Loss: 0.0001608, Test Loss: 0.0003811\n",
      "NOT SAVING\n",
      "Epoch 5, Train Loss: 0.0001602, Test Loss: 0.0003096\n",
      "NOT SAVING\n",
      "Epoch 6, Train Loss: 0.0001598, Test Loss: 0.0004731\n",
      "NOT SAVING\n",
      "Epoch 7, Train Loss: 0.0001585, Test Loss: 0.0002557\n",
      "NOT SAVING\n",
      "Epoch 8, Train Loss: 0.0001608, Test Loss: 0.0002906\n",
      "NOT SAVING\n",
      "Epoch 9, Train Loss: 0.0001581, Test Loss: 0.0002969\n",
      "NOT SAVING\n"
     ]
    },
    {
     "ename": "KeyboardInterrupt",
     "evalue": "",
     "output_type": "error",
     "traceback": [
      "\u001b[0;31m---------------------------------------------------------------------------\u001b[0m",
      "\u001b[0;31mKeyboardInterrupt\u001b[0m                         Traceback (most recent call last)",
      "\u001b[0;32m<ipython-input-75-27c25a7d346b>\u001b[0m in \u001b[0;36m<module>\u001b[0;34m\u001b[0m\n\u001b[1;32m      3\u001b[0m \u001b[0;32mfor\u001b[0m \u001b[0me\u001b[0m \u001b[0;32min\u001b[0m \u001b[0mrange\u001b[0m\u001b[0;34m(\u001b[0m\u001b[0;36m500\u001b[0m\u001b[0;34m)\u001b[0m\u001b[0;34m:\u001b[0m\u001b[0;34m\u001b[0m\u001b[0;34m\u001b[0m\u001b[0m\n\u001b[1;32m      4\u001b[0m \u001b[0;34m\u001b[0m\u001b[0m\n\u001b[0;32m----> 5\u001b[0;31m     \u001b[0mtrain_loss\u001b[0m \u001b[0;34m=\u001b[0m \u001b[0mtrain\u001b[0m\u001b[0;34m(\u001b[0m\u001b[0;34m)\u001b[0m\u001b[0;34m\u001b[0m\u001b[0;34m\u001b[0m\u001b[0m\n\u001b[0m\u001b[1;32m      6\u001b[0m     \u001b[0mtest_loss\u001b[0m \u001b[0;34m=\u001b[0m \u001b[0mtest\u001b[0m\u001b[0;34m(\u001b[0m\u001b[0;34m)\u001b[0m\u001b[0;34m\u001b[0m\u001b[0;34m\u001b[0m\u001b[0m\n\u001b[1;32m      7\u001b[0m \u001b[0;34m\u001b[0m\u001b[0m\n",
      "\u001b[0;32m<ipython-input-68-9b048b166e18>\u001b[0m in \u001b[0;36mtrain\u001b[0;34m()\u001b[0m\n\u001b[1;32m     31\u001b[0m         \u001b[0;31m# backward pass\u001b[0m\u001b[0;34m\u001b[0m\u001b[0;34m\u001b[0m\u001b[0;34m\u001b[0m\u001b[0m\n\u001b[1;32m     32\u001b[0m         \u001b[0mloss\u001b[0m\u001b[0;34m.\u001b[0m\u001b[0mbackward\u001b[0m\u001b[0;34m(\u001b[0m\u001b[0;34m)\u001b[0m\u001b[0;34m\u001b[0m\u001b[0;34m\u001b[0m\u001b[0m\n\u001b[0;32m---> 33\u001b[0;31m         \u001b[0mepoch_loss\u001b[0m \u001b[0;34m+=\u001b[0m \u001b[0mloss\u001b[0m\u001b[0;34m.\u001b[0m\u001b[0mitem\u001b[0m\u001b[0;34m(\u001b[0m\u001b[0;34m)\u001b[0m\u001b[0;34m\u001b[0m\u001b[0;34m\u001b[0m\u001b[0m\n\u001b[0m\u001b[1;32m     34\u001b[0m \u001b[0;34m\u001b[0m\u001b[0m\n\u001b[1;32m     35\u001b[0m         \u001b[0;31m# update the weights\u001b[0m\u001b[0;34m\u001b[0m\u001b[0;34m\u001b[0m\u001b[0;34m\u001b[0m\u001b[0m\n",
      "\u001b[0;31mKeyboardInterrupt\u001b[0m: "
     ]
    }
   ],
   "source": [
    "best_test_loss = 9\n",
    "patience_counter = 0\n",
    "for e in range(500):\n",
    "\n",
    "    train_loss = train()\n",
    "    test_loss = test()\n",
    "\n",
    "    train_loss /= len(train_data)\n",
    "    test_loss /= len(val_data)\n",
    "\n",
    "    print(f'Epoch {e}, Train Loss: {train_loss:.7f}, Test Loss: {test_loss:.7f}')\n",
    "\n",
    "    if best_test_loss > test_loss:\n",
    "        best_test_loss = test_loss\n",
    "        torch.save(model.state_dict(), f\"/data/t3home000/spark/MassRegression/weights/supervised_gru_allinput_{mixratio}_v0.h5\")\n",
    "        patience_counter = 1\n",
    "        print('saving model')\n",
    "    else:\n",
    "        print('NOT SAVING')\n",
    "        patience_counter += 1\n",
    "\n",
    "    if patience_counter > 10:\n",
    "        print('patience limit reached')\n",
    "        break"
   ]
  },
  {
   "cell_type": "code",
   "execution_count": 76,
   "metadata": {},
   "outputs": [],
   "source": [
    "model.eval()\n",
    "y_pred_list = np.array([],dtype=np.float)\n",
    "with torch.no_grad():\n",
    "    for batch_idx, (x1,x2,x3) in enumerate(test_loader):\n",
    "        x1 = x1.to(device)\n",
    "        x2 = x2.to(device)\n",
    "        x3 = x3.to(device)\n",
    "        y_test_pred = model(x1,x2,x3)\n",
    "        #y_test_pred = torch.sigmoid(y_test_pred)\n",
    "        #y_pred_tag = torch.round(y_test_pred)\n",
    "        y_pred_list = np.append(y_pred_list,y_test_pred.cpu().numpy())"
   ]
  },
  {
   "cell_type": "code",
   "execution_count": 77,
   "metadata": {},
   "outputs": [],
   "source": [
    "predicted_mass = (y_pred_list * std_Y) + mean_Y"
   ]
  },
  {
   "cell_type": "code",
   "execution_count": 78,
   "metadata": {},
   "outputs": [],
   "source": [
    "%matplotlib inline\n"
   ]
  },
  {
   "cell_type": "code",
   "execution_count": 79,
   "metadata": {},
   "outputs": [
    {
     "data": {
      "text/plain": [
       "3"
      ]
     },
     "execution_count": 79,
     "metadata": {},
     "output_type": "execute_result"
    }
   ],
   "source": [
    "mixratio"
   ]
  },
  {
   "cell_type": "code",
   "execution_count": 86,
   "metadata": {},
   "outputs": [
    {
     "data": {
      "image/png": "[encoded data removed]",
      "text/plain": [
       "<Figure size 432x288 with 1 Axes>"
      ]
     },
     "metadata": {
      "needs_background": "light"
     },
     "output_type": "display_data"
    }
   ],
   "source": [
    "n,b,patches = plt.hist(predicted_mass,np.arange(60,300,3))\n",
    "plt.text(200, 1000, f'mean: {np.mean(predicted_mass):.2f}', fontsize=15)\n",
    "plt.text(200, 800, f'std: {np.std(predicted_mass):.2f}', fontsize=15)\n",
    "\n",
    "plt.text(200, 600, f'mixratio: {mixratio}%', fontsize=15)\n",
    "\n",
    "plt.text(65, 1200, f'm={b[bin_max][0]}', fontsize=13)\n",
    "\n",
    "plt.axvline(x=b[bin_max][0],color='r')\n",
    "plt.savefig('hadhad_mixratio_11')"
   ]
  },
  {
   "cell_type": "code",
   "execution_count": 84,
   "metadata": {},
   "outputs": [],
   "source": [
    "bin_max = np.where(n == n.max())"
   ]
  },
  {
   "cell_type": "code",
   "execution_count": 85,
   "metadata": {},
   "outputs": [
    {
     "data": {
      "text/plain": [
       "141"
      ]
     },
     "execution_count": 85,
     "metadata": {},
     "output_type": "execute_result"
    }
   ],
   "source": [
    "b[bin_max][0]"
   ]
  },
  {
   "cell_type": "code",
   "execution_count": 30,
   "metadata": {},
   "outputs": [],
   "source": [
    "relerr = (predicted_mass - 125) /125"
   ]
  },
  {
   "cell_type": "code",
   "execution_count": 31,
   "metadata": {},
   "outputs": [
    {
     "data": {
      "image/png": "[encoded data removed]",
      "text/plain": [
       "<Figure size 432x288 with 1 Axes>"
      ]
     },
     "metadata": {
      "needs_background": "light"
     },
     "output_type": "display_data"
    }
   ],
   "source": [
    "plt.hist(relerr,np.arange(-1.5,1.5,0.05));"
   ]
  },
  {
   "cell_type": "code",
   "execution_count": null,
   "metadata": {},
   "outputs": [],
   "source": []
  }
 ],
 "metadata": {
  "kernelspec": {
   "display_name": "IN_tf",
   "language": "python",
   "name": "in_tf"
  },
  "language_info": {
   "codemirror_mode": {
    "name": "ipython",
    "version": 3
   },
   "file_extension": ".py",
   "mimetype": "text/x-python",
   "name": "python",
   "nbconvert_exporter": "python",
   "pygments_lexer": "ipython3",
   "version": "3.9.15"
  }
 },
 "nbformat": 4,
 "nbformat_minor": 4
}
