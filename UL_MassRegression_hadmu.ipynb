{
 "cells": [
  {
   "cell_type": "code",
   "execution_count": 1,
   "metadata": {},
   "outputs": [],
   "source": [
    "%load_ext autoreload"
   ]
  },
  {
   "cell_type": "code",
   "execution_count": 2,
   "metadata": {},
   "outputs": [],
   "source": [
    "%autoreload 2"
   ]
  },
  {
   "cell_type": "code",
   "execution_count": 3,
   "metadata": {},
   "outputs": [
    {
     "name": "stdout",
     "output_type": "stream",
     "text": [
      "3.8.12 (default, Oct 12 2021, 13:02:29) \n",
      "[GCC 7.3.0]\n"
     ]
    }
   ],
   "source": [
    "import sys\n",
    "print(sys.version)"
   ]
  },
  {
   "cell_type": "code",
   "execution_count": 4,
   "metadata": {},
   "outputs": [],
   "source": [
    "%matplotlib inline\n",
    "import matplotlib.pyplot as plt\n",
    "plt.rcParams[\"figure.figsize\"] = (6,6)\n",
    "plt.rcParams.update({'font.size': 14})"
   ]
  },
  {
   "cell_type": "code",
   "execution_count": 5,
   "metadata": {},
   "outputs": [
    {
     "name": "stderr",
     "output_type": "stream",
     "text": [
      "2022-05-31 12:05:48.097192: I tensorflow/stream_executor/platform/default/dso_loader.cc:49] Successfully opened dynamic library libcudart.so.10.2\n"
     ]
    }
   ],
   "source": [
    "import numpy as np\n",
    "import math\n",
    "import random\n",
    "import matplotlib.pyplot as plt\n",
    "import h5py\n",
    "import sklearn\n",
    "import tensorflow as tf\n",
    "import tensorflow.keras.backend as K\n",
    "import scipy as sc\n",
    "from scipy.optimize import curve_fit\n",
    "from sklearn.model_selection import train_test_split\n",
    "import pandas as pd"
   ]
  },
  {
   "cell_type": "code",
   "execution_count": 6,
   "metadata": {},
   "outputs": [
    {
     "name": "stdout",
     "output_type": "stream",
     "text": [
      "The autoreload extension is already loaded. To reload it, use:\n",
      "  %reload_ext autoreload\n"
     ]
    }
   ],
   "source": [
    "%matplotlib inline\n",
    "%load_ext autoreload\n",
    "%autoreload 2"
   ]
  },
  {
   "cell_type": "code",
   "execution_count": 7,
   "metadata": {},
   "outputs": [],
   "source": [
    "from tensorflow import keras\n",
    "from tensorflow.keras import models\n",
    "from tensorflow.keras import layers\n",
    "from tensorflow.keras import optimizers\n",
    "from tensorflow.keras import losses\n",
    "from tensorflow.keras import metrics\n",
    "from tensorflow.keras.callbacks import EarlyStopping, ModelCheckpoint\n",
    "from tensorflow.keras.utils import to_categorical\n",
    "from tensorflow.keras.models import Sequential\n",
    "from tensorflow.keras.layers import Dense\n",
    "from tensorflow.keras.layers import Input, Dense, GRU, Add, Concatenate, BatchNormalization, Conv1D, Lambda, Dot, Dropout\n",
    "from tensorflow.keras.models import Model\n",
    "from tensorflow.keras.utils import plot_model\n",
    "from tensorflow.keras.models import load_model\n",
    "from tensorflow.keras.optimizers import Adam\n"
   ]
  },
  {
   "cell_type": "code",
   "execution_count": 8,
   "metadata": {},
   "outputs": [],
   "source": [
    "from preprocessor import load, load_flat"
   ]
  },
  {
   "cell_type": "code",
   "execution_count": 9,
   "metadata": {},
   "outputs": [],
   "source": [
    "%matplotlib inline\n",
    "import matplotlib.pyplot as plt\n",
    "plt.rcParams[\"figure.figsize\"] = (6,6)\n",
    "plt.rcParams.update({'font.size': 14})"
   ]
  },
  {
   "cell_type": "code",
   "execution_count": 10,
   "metadata": {},
   "outputs": [],
   "source": [
    "#X_train_htt,X_test_htt,Xalt_train_htt,Xalt_test_htt,Xevt_train_htt,Xevt_test_htt,Y_train_htt,Y_test_htt,feat_train_htt,feat_test_htt = load('/nobackup/users/sangeon/GluGluHToTauTau_user.z');\n",
    "#X_train_flat,X_test_flat,Xalt_train_flat,Xalt_test_flat,Xevt_train_flat,Xevt_test_flat,Y_train_flat,Y_test_flat,feat_train_flat,feat_test_flat = load('/nobackup/users/sangeon/FlatTauTau_user.z',maxevts=0);\n",
    "#X_train_z,X_test_z,Xalt_train_z,Xalt_test_z,Xevt_train_z,Xevt_test_z,Y_train_z,Y_test_z,feat_train_z,feat_test_z = load('/nobackup/users/sangeon/DYJetsToLL.z');"
   ]
  },
  {
   "cell_type": "code",
   "execution_count": 11,
   "metadata": {},
   "outputs": [],
   "source": [
    "#feat_selection = np.r_[np.array([0,1,2,3,4]), np.array([6,7,8,9,10])]"
   ]
  },
  {
   "cell_type": "code",
   "execution_count": 13,
   "metadata": {},
   "outputs": [],
   "source": [
    "import os"
   ]
  },
  {
   "cell_type": "code",
   "execution_count": 14,
   "metadata": {},
   "outputs": [
    {
     "data": {
      "text/plain": [
       "['tt-DYJetsToLL_mu.z']"
      ]
     },
     "execution_count": 14,
     "metadata": {},
     "output_type": "execute_result"
    }
   ],
   "source": [
    "os.listdir('/nobackup/users/sangeon/phitautau_UL/May2022/')"
   ]
  },
  {
   "cell_type": "code",
   "execution_count": 15,
   "metadata": {},
   "outputs": [
    {
     "name": "stderr",
     "output_type": "stream",
     "text": [
      "/tmp/ipykernel_561431/2227920435.py:1: H5pyDeprecationWarning: The default file mode will change to 'r' (read-only) in h5py 3.0. To suppress this warning, pass the mode you need to h5py.File(), or set the global default h5.get_config().default_file_mode, or set the environment variable H5PY_DEFAULT_READONLY=1. Available modes are: 'r', 'r+', 'w', 'w-'/'x', 'a'. See the docs for details.\n",
      "  h5File = h5py.File('/nobackup/users/sangeon/phitautau_UL/May2022/tt-DYJetsToLL_mu.z')\n"
     ]
    }
   ],
   "source": [
    "h5File = h5py.File('/nobackup/users/sangeon/phitautau_UL/May2022/tt-DYJetsToLL_mu.z')"
   ]
  },
  {
   "cell_type": "code",
   "execution_count": 16,
   "metadata": {},
   "outputs": [
    {
     "data": {
      "text/plain": [
       "<HDF5 file \"tt-DYJetsToLL_mu.z\" (mode r+)>"
      ]
     },
     "execution_count": 16,
     "metadata": {},
     "output_type": "execute_result"
    }
   ],
   "source": [
    "h5File"
   ]
  },
  {
   "cell_type": "code",
   "execution_count": null,
   "metadata": {},
   "outputs": [],
   "source": []
  },
  {
   "cell_type": "code",
   "execution_count": null,
   "metadata": {},
   "outputs": [],
   "source": []
  },
  {
   "cell_type": "code",
   "execution_count": 12,
   "metadata": {},
   "outputs": [
    {
     "name": "stderr",
     "output_type": "stream",
     "text": [
      "/home/sangeon/MassRegression/preprocessor.py:137: H5pyDeprecationWarning: The default file mode will change to 'r' (read-only) in h5py 3.0. To suppress this warning, pass the mode you need to h5py.File(), or set the global default h5.get_config().default_file_mode, or set the environment variable H5PY_DEFAULT_READONLY=1. Available modes are: 'r', 'r+', 'w', 'w-'/'x', 'a'. See the docs for details.\n",
      "  h5File = h5py.File(iFile)\n"
     ]
    },
    {
     "name": "stdout",
     "output_type": "stream",
     "text": [
      "<HDF5 file \"FlatTauTau_user_mu.z\" (mode r+)>\n",
      "(562250, 599)\n",
      "599\n",
      "PF_dzerr0 found nan!!\n",
      "PF_dzerr1 found nan!!\n",
      "PF_dxyerr1 found nan!!\n",
      "PF_dzerr2 found nan!!\n",
      "PF_dzerr3 found nan!!\n",
      "PF_dxyerr3 found nan!!\n",
      "PF_dzerr4 found nan!!\n",
      "PF_dxyerr4 found nan!!\n",
      "PF_dzerr5 found nan!!\n",
      "PF_dxyerr5 found nan!!\n",
      "PF_dzerr6 found nan!!\n",
      "PF_dzerr7 found nan!!\n",
      "(561691, 390)\n",
      "(561691, 30, 13)\n",
      "(561691, 65)\n",
      "(561691, 5, 13)\n",
      "(561691, 12)\n"
     ]
    },
    {
     "name": "stderr",
     "output_type": "stream",
     "text": [
      "/home/sangeon/MassRegression/preprocessor.py:137: H5pyDeprecationWarning: The default file mode will change to 'r' (read-only) in h5py 3.0. To suppress this warning, pass the mode you need to h5py.File(), or set the global default h5.get_config().default_file_mode, or set the environment variable H5PY_DEFAULT_READONLY=1. Available modes are: 'r', 'r+', 'w', 'w-'/'x', 'a'. See the docs for details.\n",
      "  h5File = h5py.File(iFile)\n"
     ]
    },
    {
     "name": "stdout",
     "output_type": "stream",
     "text": [
      "<HDF5 file \"GluGluHToTauTau_user_mu.z\" (mode r+)>\n",
      "(2489, 599)\n",
      "599\n",
      "(2489, 390)\n",
      "(2489, 30, 13)\n",
      "(2489, 65)\n",
      "(2489, 5, 13)\n",
      "(2489, 12)\n",
      "<HDF5 file \"tt-DYJetsToLL_mu.z\" (mode r+)>\n"
     ]
    },
    {
     "name": "stderr",
     "output_type": "stream",
     "text": [
      "/home/sangeon/MassRegression/preprocessor.py:137: H5pyDeprecationWarning: The default file mode will change to 'r' (read-only) in h5py 3.0. To suppress this warning, pass the mode you need to h5py.File(), or set the global default h5.get_config().default_file_mode, or set the environment variable H5PY_DEFAULT_READONLY=1. Available modes are: 'r', 'r+', 'w', 'w-'/'x', 'a'. See the docs for details.\n",
      "  h5File = h5py.File(iFile)\n"
     ]
    },
    {
     "name": "stdout",
     "output_type": "stream",
     "text": [
      "(44534, 599)\n",
      "599\n",
      "PF_dzerr0 found nan!!\n",
      "PF_dzerr2 found nan!!\n",
      "PF_dzerr3 found nan!!\n",
      "PF_dzerr4 found nan!!\n",
      "(44524, 390)\n",
      "(44524, 30, 13)\n",
      "(44524, 65)\n",
      "(44524, 5, 13)\n",
      "(44524, 12)\n"
     ]
    }
   ],
   "source": [
    "X_flat,Xalt_flat,Xevt_flat,y_flat,feat_flat = load_flat('/nobackup/users/sangeon/phitautau_UL/Apr2022/FlatTauTau_user_mu.z',maxevts=0);\n",
    "#X_htt1,Xalt_htt1,Xevt_htt1,y_htt1,feat_htt1 = load_flat('/nobackup/users/sangeon/phitautau_UL/GluGluHToTauTau_user_noLep.z');\n",
    "X_htt2,Xalt_htt2,Xevt_htt2,y_htt2,feat_htt2 = load_flat('/nobackup/users/sangeon/phitautau_UL/Apr2022/GluGluHToTauTau_user_mu.z');\n",
    "X_z,Xalt_z, Xevt_z, y_z, feat_z = load_flat('/nobackup/users/sangeon/phitautau_UL/tt-DYJetsToLL_mu.z');"
   ]
  },
  {
   "cell_type": "code",
   "execution_count": 13,
   "metadata": {},
   "outputs": [],
   "source": [
    "X_htt = np.vstack([X_htt2])\n",
    "\n",
    "Xalt_htt = np.vstack([Xalt_htt2])\n",
    "\n",
    "Xevt_htt = np.vstack([Xevt_htt2])\n",
    "\n",
    "y_htt = np.vstack([y_htt2])\n",
    "\n",
    "feat_htt = np.vstack([feat_htt2])"
   ]
  },
  {
   "cell_type": "code",
   "execution_count": 14,
   "metadata": {},
   "outputs": [],
   "source": [
    "#X_htt = np.vstack([X_htt1, X_htt2])\n",
    "\n",
    "#Xalt_htt = np.vstack([Xalt_htt1, Xalt_htt2])\n",
    "\n",
    "#Xevt_htt = np.vstack([Xevt_htt1, Xevt_htt2])\n",
    "\n",
    "#y_htt = np.vstack([y_htt1, y_htt2])\n",
    "\n",
    "#feat_htt = np.vstack([feat_htt1, feat_htt2])"
   ]
  },
  {
   "cell_type": "code",
   "execution_count": 15,
   "metadata": {},
   "outputs": [
    {
     "name": "stdout",
     "output_type": "stream",
     "text": [
      "(2489, 30, 13) (44524, 30, 13) (561691, 30, 13)\n"
     ]
    }
   ],
   "source": [
    "print(X_htt.shape, X_z.shape, X_flat.shape)"
   ]
  },
  {
   "cell_type": "code",
   "execution_count": 16,
   "metadata": {},
   "outputs": [],
   "source": [
    "#met cut > 40 GeV\n",
    "\n",
    "#Z tagger 20 "
   ]
  },
  {
   "cell_type": "code",
   "execution_count": null,
   "metadata": {},
   "outputs": [],
   "source": []
  },
  {
   "cell_type": "code",
   "execution_count": 17,
   "metadata": {},
   "outputs": [],
   "source": [
    "#X_htt = X_htt[:,:,feat_selection]\n",
    "#X_z = X_z[:,:,feat_selection]\n",
    "#X_flat = X_flat[:,:,feat_selection]"
   ]
  },
  {
   "cell_type": "code",
   "execution_count": 18,
   "metadata": {},
   "outputs": [],
   "source": [
    "prefix = \"/nobackup/users/sangeon/phitautau_figures/UL/\""
   ]
  },
  {
   "cell_type": "code",
   "execution_count": 19,
   "metadata": {},
   "outputs": [],
   "source": [
    "%matplotlib inline"
   ]
  },
  {
   "cell_type": "code",
   "execution_count": 20,
   "metadata": {},
   "outputs": [],
   "source": [
    "from matplotlib.offsetbox import AnchoredText\n"
   ]
  },
  {
   "cell_type": "code",
   "execution_count": 21,
   "metadata": {},
   "outputs": [
    {
     "data": {
      "text/plain": [
       "'/nobackup/users/sangeon/phitautau_figures/UL/'"
      ]
     },
     "execution_count": 21,
     "metadata": {},
     "output_type": "execute_result"
    }
   ],
   "source": [
    "prefix"
   ]
  },
  {
   "cell_type": "code",
   "execution_count": 22,
   "metadata": {},
   "outputs": [
    {
     "data": {
      "text/plain": [
       "<matplotlib.offsetbox.AnchoredText at 0x200132fc49a0>"
      ]
     },
     "execution_count": 22,
     "metadata": {},
     "output_type": "execute_result"
    },
    {
     "data": {
      "image/png": "[encoded data removed]",
      "text/plain": [
       "<Figure size 432x288 with 1 Axes>"
      ]
     },
     "metadata": {
      "needs_background": "light"
     },
     "output_type": "display_data"
    }
   ],
   "source": [
    "plt.hist(Xevt_flat[:,-3],bins=np.arange(0,500,1));\n",
    "\n",
    "summary = f'''mean:{np.mean(Xevt_flat[:,-3])}\n",
    "std:{np.std(Xevt_flat[:,-3])}'''\n",
    "\n",
    "anchored_text = AnchoredText(summary, loc=1)\n",
    "#anchored_text2 = AnchoredText(f\"std:{np.std(Xevt_flat[:,-4])}\", loc=4)\n",
    "\n",
    "ax = plt.gca()\n",
    "ax.add_artist(anchored_text)\n",
    "#ax.add_artist(anchored_text2)\n",
    "#plt.savefig(prefix+'flat_msd.pdf')"
   ]
  },
  {
   "cell_type": "code",
   "execution_count": 23,
   "metadata": {},
   "outputs": [
    {
     "data": {
      "image/png": "[encoded data removed]",
      "text/plain": [
       "<Figure size 432x288 with 1 Axes>"
      ]
     },
     "metadata": {
      "needs_background": "light"
     },
     "output_type": "display_data"
    }
   ],
   "source": [
    "plt.hist(y_htt[:,-4],bins=np.arange(0,300,1));\n"
   ]
  },
  {
   "cell_type": "code",
   "execution_count": 24,
   "metadata": {},
   "outputs": [],
   "source": [
    "target = [\"fj_genMass\",\"fj_genPt\",\"fj_genEta\",\"fj_genPhi\"]\n",
    "target_old = \"fj_msd\"\n",
    "#target_norm = \"fj_msd\"\n",
    "target_norm = \"\"\n",
    "evt_feats = [\"MET_covXX\",\"MET_covXY\",\"MET_covYY\",\"MET_phi\",\"MET_pt\",\"MET_significance\",\"PuppiMET_pt\",\"PuppiMET_phi\",\"fj_msd\",\"fj_pt\",\"fj_eta\",\"fj_phi\"]"
   ]
  },
  {
   "cell_type": "code",
   "execution_count": 25,
   "metadata": {},
   "outputs": [
    {
     "data": {
      "text/plain": [
       "'/nobackup/users/sangeon/phitautau_figures/UL/'"
      ]
     },
     "execution_count": 25,
     "metadata": {},
     "output_type": "execute_result"
    }
   ],
   "source": [
    "prefix"
   ]
  },
  {
   "cell_type": "code",
   "execution_count": 26,
   "metadata": {},
   "outputs": [],
   "source": [
    "#target[i]"
   ]
  },
  {
   "cell_type": "code",
   "execution_count": 27,
   "metadata": {},
   "outputs": [
    {
     "name": "stdout",
     "output_type": "stream",
     "text": [
      "/nobackup/users/sangeon/phitautau_figures/UL/fj_genMass.png\n"
     ]
    }
   ],
   "source": [
    "print(prefix+f'{target[0]}.png')"
   ]
  },
  {
   "cell_type": "code",
   "execution_count": 28,
   "metadata": {},
   "outputs": [
    {
     "data": {
      "image/png": "[encoded data removed]",
      "text/plain": [
       "<Figure size 432x288 with 1 Axes>"
      ]
     },
     "metadata": {
      "needs_background": "light"
     },
     "output_type": "display_data"
    }
   ],
   "source": [
    "for i in range(12):\n",
    "    plt.clf()\n",
    "    plt.hist(Xevt_z[:,i])\n",
    "    plt.title(f'Z_{evt_feats[i]}')\n",
    "    plt.savefig(prefix+f'Z_{evt_feats[i]}.png')\n"
   ]
  },
  {
   "cell_type": "code",
   "execution_count": 29,
   "metadata": {},
   "outputs": [
    {
     "data": {
      "image/png": "[encoded data removed]",
      "text/plain": [
       "<Figure size 432x288 with 1 Axes>"
      ]
     },
     "metadata": {
      "needs_background": "light"
     },
     "output_type": "display_data"
    }
   ],
   "source": [
    "for i in range(4):\n",
    "    plt.clf()\n",
    "    plt.hist(y_z[:,i])\n",
    "    plt.title(f'Z_{target[i]}')\n",
    "    plt.savefig(prefix+f'Z_{target[i]}.png')\n"
   ]
  },
  {
   "cell_type": "code",
   "execution_count": 30,
   "metadata": {},
   "outputs": [
    {
     "data": {
      "image/png": "[encoded data removed]",
      "text/plain": [
       "<Figure size 432x288 with 1 Axes>"
      ]
     },
     "metadata": {
      "needs_background": "light"
     },
     "output_type": "display_data"
    }
   ],
   "source": [
    "plt.hist(y_htt[:,-4],bins=np.arange(0,300,1));\n",
    "plt.savefig(prefix+'htt_genm.pdf')"
   ]
  },
  {
   "cell_type": "code",
   "execution_count": 31,
   "metadata": {},
   "outputs": [
    {
     "data": {
      "image/png": "[encoded data removed]",
      "text/plain": [
       "<Figure size 432x288 with 1 Axes>"
      ]
     },
     "metadata": {
      "needs_background": "light"
     },
     "output_type": "display_data"
    }
   ],
   "source": [
    "plt.hist(Xevt_htt[:,-4],bins=np.arange(0,300,1));\n",
    "plt.savefig(prefix+'htt_msd.pdf')"
   ]
  },
  {
   "cell_type": "code",
   "execution_count": 32,
   "metadata": {},
   "outputs": [
    {
     "data": {
      "text/plain": [
       "(2489, 29)"
      ]
     },
     "execution_count": 32,
     "metadata": {},
     "output_type": "execute_result"
    }
   ],
   "source": [
    "feat_htt.shape"
   ]
  },
  {
   "cell_type": "code",
   "execution_count": 33,
   "metadata": {},
   "outputs": [
    {
     "data": {
      "image/png": "[encoded data removed]",
      "text/plain": [
       "<Figure size 432x288 with 1 Axes>"
      ]
     },
     "metadata": {
      "needs_background": "light"
     },
     "output_type": "display_data"
    }
   ],
   "source": [
    "plt.hist(Xevt_htt[:,4],bins=np.arange(0,300,1));\n",
    "plt.savefig(prefix+'htt_met.pdf')"
   ]
  },
  {
   "cell_type": "code",
   "execution_count": 34,
   "metadata": {},
   "outputs": [
    {
     "data": {
      "image/png": "[encoded data removed]",
      "text/plain": [
       "<Figure size 432x288 with 1 Axes>"
      ]
     },
     "metadata": {
      "needs_background": "light"
     },
     "output_type": "display_data"
    }
   ],
   "source": [
    "plt.hist(Xevt_flat[:,4],bins=np.arange(0,300,1));\n",
    "plt.savefig(prefix+'flat_met.pdf')"
   ]
  },
  {
   "cell_type": "code",
   "execution_count": 35,
   "metadata": {},
   "outputs": [
    {
     "data": {
      "image/png": "[encoded data removed]",
      "text/plain": [
       "<Figure size 432x288 with 1 Axes>"
      ]
     },
     "metadata": {
      "needs_background": "light"
     },
     "output_type": "display_data"
    }
   ],
   "source": [
    "plt.hist(Xevt_z[:,4],bins=np.arange(0,300,1));\n",
    "plt.savefig(prefix+'z_met.pdf')"
   ]
  },
  {
   "cell_type": "code",
   "execution_count": 36,
   "metadata": {},
   "outputs": [
    {
     "data": {
      "image/png": "[encoded data removed]",
      "text/plain": [
       "<Figure size 432x288 with 1 Axes>"
      ]
     },
     "metadata": {
      "needs_background": "light"
     },
     "output_type": "display_data"
    }
   ],
   "source": [
    "plt.hist(Xevt_z[:,-4],bins=np.arange(0,300,1));\n",
    "plt.savefig(prefix+'z_msd.pdf')"
   ]
  },
  {
   "cell_type": "code",
   "execution_count": 37,
   "metadata": {},
   "outputs": [],
   "source": [
    "flat_msd_cut = np.where((Xevt_flat[:,-4]>10)&(Xevt_flat[:,-4]<400)&(Xevt_flat[:,4]>40))\n",
    "htt_msd_cut = np.where((Xevt_htt[:,-4]>10)&(Xevt_htt[:,-4]<400)&(Xevt_htt[:,4]>40))\n",
    "z_msd_cut = np.where((Xevt_z[:,-4]>10)&(Xevt_z[:,-4]<400)&(y_z[:,-4]>5)&(Xevt_z[:,4]>40))"
   ]
  },
  {
   "cell_type": "code",
   "execution_count": 38,
   "metadata": {},
   "outputs": [],
   "source": [
    "#flat_msd_cut = np.where((Xevt_flat[:,-4]>20)&(Xevt_flat[:,-3]>200)&(y_flat[:,1]>400))\n",
    "#htt_msd_cut = np.where((Xevt_htt[:,-4]>20)&(Xevt_htt[:,-3]>200)&(y_htt[:,1]>400))\n",
    "#z_msd_cut = np.where((Xevt_z[:,-4]>20)&(Xevt_z[:,-3]>200)&(y_z[:,1]>400))"
   ]
  },
  {
   "cell_type": "code",
   "execution_count": 39,
   "metadata": {},
   "outputs": [],
   "source": [
    "X_flat,Xalt_flat,Xevt_flat,y_flat,feat_flat = X_flat[flat_msd_cut], Xalt_flat[flat_msd_cut], Xevt_flat[flat_msd_cut], y_flat[flat_msd_cut], feat_flat[flat_msd_cut]\n",
    "\n",
    "X_htt,Xalt_htt,Xevt_htt,y_htt,feat_htt = X_htt[htt_msd_cut], Xalt_htt[htt_msd_cut], Xevt_htt[htt_msd_cut], y_htt[htt_msd_cut], feat_htt[htt_msd_cut]\n",
    "\n",
    "X_z,Xalt_z,Xevt_z,y_z,feat_z = X_z[z_msd_cut], Xalt_z[z_msd_cut], Xevt_z[z_msd_cut], y_z[z_msd_cut], feat_z[z_msd_cut]"
   ]
  },
  {
   "cell_type": "code",
   "execution_count": 40,
   "metadata": {},
   "outputs": [
    {
     "name": "stdout",
     "output_type": "stream",
     "text": [
      "(557324, 30, 13) (2378, 30, 13) (41938, 30, 13)\n"
     ]
    }
   ],
   "source": [
    "print(X_flat.shape, X_htt.shape, X_z.shape)"
   ]
  },
  {
   "cell_type": "code",
   "execution_count": 41,
   "metadata": {},
   "outputs": [
    {
     "data": {
      "image/png": "[encoded data removed]",
      "text/plain": [
       "<Figure size 432x288 with 1 Axes>"
      ]
     },
     "metadata": {
      "needs_background": "light"
     },
     "output_type": "display_data"
    }
   ],
   "source": [
    "plt.hist(y_z[:,-4],bins=np.arange(0,1000,2));\n"
   ]
  },
  {
   "cell_type": "code",
   "execution_count": 42,
   "metadata": {},
   "outputs": [
    {
     "data": {
      "image/png": "[encoded data removed]",
      "text/plain": [
       "<Figure size 432x288 with 1 Axes>"
      ]
     },
     "metadata": {
      "needs_background": "light"
     },
     "output_type": "display_data"
    }
   ],
   "source": [
    "plt.hist(Xevt_flat[:,-4],bins=np.arange(0,1000,2));\n",
    "#plt.savefig(prefix+'flat_msd_after_cut.pdf')"
   ]
  },
  {
   "cell_type": "code",
   "execution_count": 43,
   "metadata": {},
   "outputs": [],
   "source": [
    "X_htt, Xalt_htt, Xevt_htt, y_htt = sklearn.utils.shuffle(X_htt, Xalt_htt, Xevt_htt, y_htt)\n",
    "X_z, Xalt_z, Xevt_z, y_z = sklearn.utils.shuffle(X_z, Xalt_z, Xevt_z, y_z)\n",
    "X_flat, Xalt_flat, Xevt_flat, y_flat = sklearn.utils.shuffle(X_flat, Xalt_flat, Xevt_flat, y_flat)"
   ]
  },
  {
   "cell_type": "markdown",
   "metadata": {},
   "source": [
    "## Make Mixture Dataset"
   ]
  },
  {
   "cell_type": "code",
   "execution_count": 44,
   "metadata": {},
   "outputs": [],
   "source": [
    "#wp_list = [0.2, 0.5, 0.8]\n",
    "#wp_choice = 1\n",
    "#wp = wp_list[wp_choice]\n",
    "#print(wp)\n",
    "#X_train_split1_htt, X_train_split2_htt, Xalt_train_split1_htt, Xalt_train_split2_htt, Xevt_train_split1_htt, Xevt_train_split2_htt, y_train_split1_htt, y_train_split2_htt = train_test_split(X_train_htt, Xalt_train_htt, Xevt_train_htt, Y_train_htt, test_size=wp, random_state=42)\n",
    "#X_train_split1_z, X_train_split2_z, Xalt_train_split1_z, Xalt_train_split2_z, Xevt_train_split1_z, Xevt_train_split2_z, y_train_split1_z, y_train_split2_z = train_test_split(X_train_z, Xalt_train_z, Xevt_train_z, Y_train_z, test_size=wp, random_state=42)\n",
    "#mixratio = round(X_train_split1_htt.shape[0]/(X_train_flat.shape[0]+X_train_split1_htt.shape[0])*100)\n",
    "#print(mixratio)\n",
    "#X_train = X_train_flat\n",
    "#Xalt_train = Xalt_train_flat\n",
    "#Xevt_train = Xevt_train_flat\n",
    "#y_train = (Y_train_flat[:,0])"
   ]
  },
  {
   "cell_type": "code",
   "execution_count": 45,
   "metadata": {},
   "outputs": [],
   "source": [
    "#X_train = np.vstack((X_train_split1_htt, X_train_split1_z, X_train_flat))\n",
    "#Xalt_train = np.vstack((Xalt_train_split1_htt, Xalt_train_split1_z, Xalt_train_flat))\n",
    "#Xevt_train = np.vstack((Xevt_train_split1_htt, Xevt_train_split1_z, Xevt_train_flat))\n",
    "#y_train = np.concatenate((y_train_split1_htt[:,0], y_train_split1_z[:,0], Y_train_flat[:,0]))"
   ]
  },
  {
   "cell_type": "code",
   "execution_count": 46,
   "metadata": {},
   "outputs": [],
   "source": [
    "#X_val = np.vstack((X_train_split2_htt, X_train_split2_z,X_test_flat))\n",
    "#Xalt_val = np.vstack((Xalt_train_split2_htt, Xalt_train_split2_z,Xalt_test_flat))\n",
    "#Xevt_val = np.vstack((Xevt_train_split2_htt, Xevt_train_split2_z,Xevt_test_flat))\n",
    "#y_val = np.concatenate((y_train_split2_htt[:,0], y_train_split2_z[:,0], Y_test_flat[:,0]))"
   ]
  },
  {
   "cell_type": "markdown",
   "metadata": {},
   "source": [
    "# Network Parameters"
   ]
  },
  {
   "cell_type": "code",
   "execution_count": 47,
   "metadata": {},
   "outputs": [],
   "source": [
    "particlesConsidered = 30\n",
    "entriesPerParticle = 13\n",
    "\n",
    "svConsidered = 5\n",
    "entriesPerSV = 13\n",
    "\n",
    "eventDataLength = 12\n",
    "\n",
    "#decayTypeColumn = 380\n",
    "#trainingDataLength = 1070000\n",
    "#validationDataLength = 130000\n",
    "\n",
    "numberOfEpochs = 1000\n",
    "batchSize = 500\n",
    "\n"
   ]
  },
  {
   "cell_type": "markdown",
   "metadata": {},
   "source": [
    "# Network Architecture"
   ]
  },
  {
   "cell_type": "code",
   "execution_count": 48,
   "metadata": {},
   "outputs": [],
   "source": [
    "## receiving matrix\n",
    "\n",
    "RR = []\n",
    "for i in range(particlesConsidered):\n",
    "    row = []\n",
    "    for j in range(particlesConsidered * (particlesConsidered - 1)):\n",
    "        if j in range(i * (particlesConsidered - 1), (i + 1) * (particlesConsidered - 1)):\n",
    "            row.append(1.0)\n",
    "        else:\n",
    "            row.append(0.0)\n",
    "    RR.append(row)\n",
    "RR = np.array(RR)\n",
    "RR = np.float32(RR)\n",
    "RRT = np.transpose(RR)\n",
    "\n",
    "## sending matrix\n",
    "\n",
    "RST = []\n",
    "for i in range(particlesConsidered):\n",
    "    for j in range(particlesConsidered):\n",
    "        row = []\n",
    "        for k in range(particlesConsidered):\n",
    "            if k == j:\n",
    "                row.append(1.0)\n",
    "            else:\n",
    "                row.append(0.0)\n",
    "        RST.append(row)\n",
    "rowsToRemove = []\n",
    "for i in range(particlesConsidered):\n",
    "    rowsToRemove.append(i * (particlesConsidered + 1))\n",
    "RST = np.array(RST)\n",
    "RST = np.float32(RST)\n",
    "RST = np.delete(RST, rowsToRemove, 0)\n",
    "RS = np.transpose(RST)\n",
    "\n",
    "## recieving matrix for the bipartite particle and secondary vertex graph\n",
    "\n",
    "RK = []\n",
    "for i in range(particlesConsidered):\n",
    "    row = []\n",
    "    for j in range(particlesConsidered * svConsidered):\n",
    "        if j in range(i * svConsidered, (i + 1) * svConsidered):\n",
    "            row.append(1.0)\n",
    "        else:\n",
    "            row.append(0.0)\n",
    "    RK.append(row)\n",
    "RK = np.array(RK)\n",
    "RK = np.float32(RK)\n",
    "RKT = np.transpose(RK)\n",
    "\n",
    "## defines the sending matrix for the bipartite particle and secondary vertex graph\n",
    "\n",
    "\n",
    "RV = []\n",
    "for i in range(svConsidered):\n",
    "    row = []\n",
    "    for j in range(particlesConsidered * svConsidered):\n",
    "        if j % svConsidered == i:\n",
    "            row.append(1.0)\n",
    "        else:\n",
    "            row.append(0.0)\n",
    "    RV.append(row)\n",
    "RV = np.array(RV)\n",
    "RV = np.float32(RV)\n",
    "RVT = np.transpose(RV)"
   ]
  },
  {
   "cell_type": "code",
   "execution_count": 49,
   "metadata": {},
   "outputs": [
    {
     "name": "stderr",
     "output_type": "stream",
     "text": [
      "2022-05-17 13:52:13.266717: I tensorflow/compiler/jit/xla_cpu_device.cc:41] Not creating XLA devices, tf_xla_enable_xla_devices not set\n",
      "2022-05-17 13:52:13.267838: I tensorflow/stream_executor/platform/default/dso_loader.cc:49] Successfully opened dynamic library libcuda.so.1\n",
      "2022-05-17 13:52:13.310404: I tensorflow/core/common_runtime/gpu/gpu_device.cc:1720] Found device 0 with properties: \n",
      "pciBusID: 0004:05:00.0 name: Tesla V100-SXM2-32GB computeCapability: 7.0\n",
      "coreClock: 1.53GHz coreCount: 80 deviceMemorySize: 31.50GiB deviceMemoryBandwidth: 836.37GiB/s\n",
      "2022-05-17 13:52:13.310439: I tensorflow/stream_executor/platform/default/dso_loader.cc:49] Successfully opened dynamic library libcudart.so.10.2\n",
      "2022-05-17 13:52:13.592019: I tensorflow/stream_executor/platform/default/dso_loader.cc:49] Successfully opened dynamic library libcublas.so.10\n",
      "2022-05-17 13:52:13.592060: I tensorflow/stream_executor/platform/default/dso_loader.cc:49] Successfully opened dynamic library libcublasLt.so.10\n",
      "2022-05-17 13:52:13.651289: I tensorflow/stream_executor/platform/default/dso_loader.cc:49] Successfully opened dynamic library libcufft.so.10\n",
      "2022-05-17 13:52:13.776668: I tensorflow/stream_executor/platform/default/dso_loader.cc:49] Successfully opened dynamic library libcurand.so.10\n",
      "2022-05-17 13:52:13.867330: I tensorflow/stream_executor/platform/default/dso_loader.cc:49] Successfully opened dynamic library libcusolver.so.10\n",
      "2022-05-17 13:52:13.934614: I tensorflow/stream_executor/platform/default/dso_loader.cc:49] Successfully opened dynamic library libcusparse.so.10\n",
      "2022-05-17 13:52:14.156427: I tensorflow/stream_executor/platform/default/dso_loader.cc:49] Successfully opened dynamic library libcudnn.so.7\n",
      "2022-05-17 13:52:14.161155: I tensorflow/core/common_runtime/gpu/gpu_device.cc:1862] Adding visible gpu devices: 0\n",
      "2022-05-17 13:52:14.161710: I tensorflow/compiler/jit/xla_gpu_device.cc:99] Not creating XLA devices, tf_xla_enable_xla_devices not set\n",
      "2022-05-17 13:52:14.164015: I tensorflow/core/common_runtime/gpu/gpu_device.cc:1720] Found device 0 with properties: \n",
      "pciBusID: 0004:05:00.0 name: Tesla V100-SXM2-32GB computeCapability: 7.0\n",
      "coreClock: 1.53GHz coreCount: 80 deviceMemorySize: 31.50GiB deviceMemoryBandwidth: 836.37GiB/s\n",
      "2022-05-17 13:52:14.164046: I tensorflow/stream_executor/platform/default/dso_loader.cc:49] Successfully opened dynamic library libcudart.so.10.2\n",
      "2022-05-17 13:52:14.164066: I tensorflow/stream_executor/platform/default/dso_loader.cc:49] Successfully opened dynamic library libcublas.so.10\n",
      "2022-05-17 13:52:14.164083: I tensorflow/stream_executor/platform/default/dso_loader.cc:49] Successfully opened dynamic library libcublasLt.so.10\n",
      "2022-05-17 13:52:14.164099: I tensorflow/stream_executor/platform/default/dso_loader.cc:49] Successfully opened dynamic library libcufft.so.10\n",
      "2022-05-17 13:52:14.164115: I tensorflow/stream_executor/platform/default/dso_loader.cc:49] Successfully opened dynamic library libcurand.so.10\n",
      "2022-05-17 13:52:14.164131: I tensorflow/stream_executor/platform/default/dso_loader.cc:49] Successfully opened dynamic library libcusolver.so.10\n",
      "2022-05-17 13:52:14.164147: I tensorflow/stream_executor/platform/default/dso_loader.cc:49] Successfully opened dynamic library libcusparse.so.10\n",
      "2022-05-17 13:52:14.164163: I tensorflow/stream_executor/platform/default/dso_loader.cc:49] Successfully opened dynamic library libcudnn.so.7\n",
      "2022-05-17 13:52:14.168654: I tensorflow/core/common_runtime/gpu/gpu_device.cc:1862] Adding visible gpu devices: 0\n",
      "2022-05-17 13:52:14.168706: I tensorflow/stream_executor/platform/default/dso_loader.cc:49] Successfully opened dynamic library libcudart.so.10.2\n",
      "2022-05-17 13:52:15.969677: I tensorflow/core/common_runtime/gpu/gpu_device.cc:1261] Device interconnect StreamExecutor with strength 1 edge matrix:\n",
      "2022-05-17 13:52:15.969711: I tensorflow/core/common_runtime/gpu/gpu_device.cc:1267]      0 \n",
      "2022-05-17 13:52:15.969720: I tensorflow/core/common_runtime/gpu/gpu_device.cc:1280] 0:   N \n",
      "2022-05-17 13:52:15.976649: I tensorflow/core/common_runtime/gpu/gpu_device.cc:1406] Created TensorFlow device (/job:localhost/replica:0/task:0/device:GPU:0 with 30156 MB memory) -> physical GPU (device: 0, name: Tesla V100-SXM2-32GB, pci bus id: 0004:05:00.0, compute capability: 7.0)\n"
     ]
    }
   ],
   "source": [
    "inputParticle = Input(shape=(particlesConsidered, entriesPerParticle), name=\"inputParticle\")\n",
    "\n",
    "XdotRR = Lambda(lambda tensor: tf.transpose(tf.tensordot(tf.transpose(tensor, perm=(0, 2, 1)), RR, axes=[[2], [0]]),\n",
    "                                            perm=(0, 2, 1)), name=\"XdotRR\")(inputParticle)\n",
    "XdotRS = Lambda(lambda tensor: tf.transpose(tf.tensordot(tf.transpose(tensor, perm=(0, 2, 1)), RS, axes=[[2], [0]]),\n",
    "                                            perm=(0, 2, 1)), name=\"XdotRS\")(inputParticle)\n",
    "Bpp = Lambda(lambda tensorList: tf.concat((tensorList[0], tensorList[1]), axis=2), name=\"Bpp\")([XdotRR, XdotRS])\n",
    "\n",
    "convOneParticle = Conv1D(60, kernel_size=1, activation=\"relu\", name=\"convOneParticle\")(Bpp)\n",
    "convTwoParticle = Conv1D(30, kernel_size=1, activation=\"relu\", name=\"convTwoParticle\")(convOneParticle)\n",
    "convThreeParticle = Conv1D(20, kernel_size=1, activation=\"relu\", name=\"convThreeParticle\")(convTwoParticle)\n",
    "\n",
    "Epp = BatchNormalization(momentum=0.6, name=\"Epp\")(convThreeParticle)\n",
    "\n",
    "# Secondary vertex data interaction NN\n",
    "inputSV = Input(shape=(svConsidered, entriesPerSV), name=\"inputSV\")\n",
    "\n",
    "XdotRK = Lambda(lambda tensor: tf.transpose(tf.tensordot(tf.transpose(tensor, perm=(0, 2, 1)), RK, axes=[[2], [0]]),\n",
    "                                            perm=(0, 2, 1)), name=\"XdotRK\")(inputParticle)\n",
    "YdotRV = Lambda(lambda tensor: tf.transpose(tf.tensordot(tf.transpose(tensor, perm=(0, 2, 1)), RV, axes=[[2], [0]]),\n",
    "                                            perm=(0, 2, 1)), name=\"YdotRV\")(inputSV)\n",
    "Bvp = Lambda(lambda tensorList: tf.concat((tensorList[0], tensorList[1]), axis=2), name=\"Bvp\")([XdotRK, YdotRV])\n",
    "\n",
    "convOneSV = Conv1D(60, kernel_size=1, activation=\"relu\", name=\"convOneSV\")(Bvp)\n",
    "convTwoSV = Conv1D(30, kernel_size=1, activation=\"relu\", name=\"convTwoSV\")(convOneSV)\n",
    "convThreeSV = Conv1D(20, kernel_size=1, activation=\"relu\", name=\"convThreeSV\")(convTwoSV)\n",
    "\n",
    "Evp = BatchNormalization(momentum=0.6, name=\"Evp\")(convThreeSV)\n",
    "\n",
    "\n",
    "# Event Level Info\n",
    "\n",
    "inputEvent = Input(shape=(eventDataLength, ), name=\"inputEvent\")\n",
    "\n",
    "\n",
    "# Combined prediction NN\n",
    "EppBar = Lambda(lambda tensor: tf.transpose(tf.tensordot(tf.transpose(tensor, perm=(0, 2, 1)), RRT, axes=[[2], [0]]),\n",
    "                                            perm=(0, 2, 1)), name=\"EppBar\")(Epp)\n",
    "EvpBar = Lambda(lambda tensor: tf.transpose(tf.tensordot(tf.transpose(tensor, perm=(0, 2, 1)), RKT, axes=[[2], [0]]),\n",
    "                                            perm=(0, 2, 1)), name=\"EvpBar\")(Evp)\n",
    "C = Lambda(lambda listOfTensors: tf.concat((listOfTensors[0], listOfTensors[1], listOfTensors[2]), axis=2), name=\"C\")(\n",
    "    [inputParticle, EppBar, EvpBar])\n",
    "\n",
    "convPredictOne = Conv1D(60, kernel_size=1, activation=\"relu\", name=\"convPredictOne\")(C)\n",
    "convPredictTwo = Conv1D(30, kernel_size=1, activation=\"relu\", name=\"convPredictTwo\")(convPredictOne)\n",
    "\n",
    "O = Conv1D(24, kernel_size=1, activation=\"relu\", name=\"O\")(convPredictTwo)\n",
    "\n",
    "# Calculate output\n",
    "OBar = Lambda(lambda tensor: K.sum(tensor, axis=1), name=\"OBar\")(O)\n",
    "\n",
    "Concatted = Concatenate()([OBar, inputEvent])\n",
    "\n",
    "denseEndOne = Dense(50, activation=\"relu\", name=\"denseEndOne\")(Concatted)\n",
    "normEndOne = BatchNormalization(momentum=0.6, name=\"normEndOne\")(denseEndOne)\n",
    "denseEndTwo = Dense(20, activation=\"relu\", name=\"denseEndTwo\")(normEndOne)\n",
    "denseEndThree = Dense(10, activation=\"relu\", name=\"denseEndThree\")(denseEndTwo)\n",
    "output = Dense(2,name=\"output\")(denseEndThree)"
   ]
  },
  {
   "cell_type": "code",
   "execution_count": 50,
   "metadata": {},
   "outputs": [
    {
     "name": "stdout",
     "output_type": "stream",
     "text": [
      "(557324, 30, 13) (2378, 30, 13) (41938, 30, 13)\n"
     ]
    }
   ],
   "source": [
    "print(X_flat.shape, X_htt.shape, X_z.shape)"
   ]
  },
  {
   "cell_type": "code",
   "execution_count": 51,
   "metadata": {},
   "outputs": [],
   "source": [
    "#NUM_H = [12000,15000,20000,25000,30000] #12000 done\n",
    "#NUM_Z = [12000,15000,20000,25000,30000]\n",
    "\n",
    "#NUM_H = [12000] #12000 done\n",
    "#NUM_Z = [20000,25000,30000]\n",
    "\n",
    "#NUM_H = [15000]\n",
    "#NUM_Z = [12000,15000,20000,25000,30000]\n",
    "\n",
    "#NUM_H = [15000]\n",
    "#NUM_Z = [25000,30000]\n",
    "\n",
    "#NUM_H = [20000]\n",
    "#NUM_Z = [12000,15000,20000,25000,30000]\n",
    "\n",
    "#NUM_H = [25000]\n",
    "#NUM_Z = [12000,15000,20000]\n",
    "\n",
    "#NUM_H = [25000,30000]\n",
    "#NUM_Z = [25000,30000]\n",
    "\n",
    "#NUM_H = [30000]\n",
    "#NUM_Z = [25000,30000]\n",
    "\n",
    "NUM_H = [50000]\n",
    "NUM_Z = [50000]\n",
    "\n",
    "#NUM_H = [100000]\n",
    "#NUM_Z = [100000]\n",
    "#NUM_H = [2000,4000]\n",
    "#NUM_Z = [2000,4000]\n",
    "#NUM_H = [6000,7000,8000]\n",
    "#NUM_Z = [6000,7000,8000]\n",
    "HOW_MANY_FLAT_TO_TRAINING = 0\n",
    "#HOW_MANY_H_Z_TO_VALIDATION = 200000\n",
    "#HOW_MANY_FLAT_TO_VALIDATION = 200000\n",
    "#HOW_MANY_H_Z_TO_VALIDATION = 100000\n",
    "#HOW_MANY_FLAT_TO_VALIDATION = 100000\n",
    "TEST_SIZE = 10000\n",
    "#lamb_list = [0.005, 0.01, 0.05, 0.1, 0.5, 1]\n",
    "lamb_list = [0.005, 0.01, 0.05]"
   ]
  },
  {
   "cell_type": "code",
   "execution_count": 52,
   "metadata": {},
   "outputs": [],
   "source": [
    "%matplotlib inline\n",
    "prefix = \"/nobackup/users/sangeon/phitautau_figures/UL/\""
   ]
  },
  {
   "cell_type": "code",
   "execution_count": null,
   "metadata": {},
   "outputs": [],
   "source": []
  },
  {
   "cell_type": "code",
   "execution_count": 53,
   "metadata": {},
   "outputs": [
    {
     "data": {
      "text/plain": [
       "(2378, 4)"
      ]
     },
     "execution_count": 53,
     "metadata": {},
     "output_type": "execute_result"
    }
   ],
   "source": [
    "y_htt.shape"
   ]
  },
  {
   "cell_type": "code",
   "execution_count": 54,
   "metadata": {},
   "outputs": [],
   "source": [
    "from tensorflow.python.ops import math_ops\n",
    "from scipy import stats"
   ]
  },
  {
   "cell_type": "code",
   "execution_count": 55,
   "metadata": {},
   "outputs": [
    {
     "name": "stdout",
     "output_type": "stream",
     "text": [
      "(2, 4)\n",
      "[2.5 6.5]\n"
     ]
    }
   ],
   "source": [
    "a= np.array([[1,2,3,4],[5,6,7,8]])\n",
    "print(a.shape)\n",
    "print(np.mean(a,axis=-1))"
   ]
  },
  {
   "cell_type": "code",
   "execution_count": null,
   "metadata": {},
   "outputs": [],
   "source": []
  },
  {
   "cell_type": "code",
   "execution_count": 56,
   "metadata": {},
   "outputs": [],
   "source": [
    "def mean_sqrt_error(y_true, y_pred):\n",
    "    diff = math_ops.abs((y_true - y_pred) / K.maximum(tf.sqrt(y_true), K.epsilon()))\n",
    "    return diff[...,0]+lamb*diff[...,1]\n",
    "    "
   ]
  },
  {
   "cell_type": "code",
   "execution_count": 57,
   "metadata": {},
   "outputs": [],
   "source": [
    "plt.rcParams[\"figure.figsize\"] = (8,8)\n",
    "\n",
    "font = {'family' : 'DejaVu Sans',\n",
    "        'weight' : 'normal',\n",
    "        'size'   : 14}\n",
    "\n",
    "plt.rc('font', **font)"
   ]
  },
  {
   "cell_type": "code",
   "execution_count": 58,
   "metadata": {},
   "outputs": [],
   "source": [
    "from scipy import stats"
   ]
  },
  {
   "cell_type": "code",
   "execution_count": 59,
   "metadata": {},
   "outputs": [
    {
     "name": "stderr",
     "output_type": "stream",
     "text": [
      "/home/sangeon/MassRegression/preprocessor.py:137: H5pyDeprecationWarning: The default file mode will change to 'r' (read-only) in h5py 3.0. To suppress this warning, pass the mode you need to h5py.File(), or set the global default h5.get_config().default_file_mode, or set the environment variable H5PY_DEFAULT_READONLY=1. Available modes are: 'r', 'r+', 'w', 'w-'/'x', 'a'. See the docs for details.\n",
      "  h5File = h5py.File(iFile)\n"
     ]
    },
    {
     "name": "stdout",
     "output_type": "stream",
     "text": [
      "<HDF5 file \"WJetsToLNu_mu.z\" (mode r+)>\n",
      "(636796, 599)\n",
      "599\n",
      "(10000, 390)\n",
      "(10000, 30, 13)\n",
      "(10000, 65)\n",
      "(10000, 5, 13)\n",
      "(10000, 12)\n"
     ]
    }
   ],
   "source": [
    "X_qcd,Xalt_qcd,Xevt_qcd,y_qcd,feat_qcd = load_flat('/nobackup/users/sangeon/phitautau_UL/Apr2022/WJetsToLNu_mu.z',maxevts=10000);\n"
   ]
  },
  {
   "cell_type": "code",
   "execution_count": 60,
   "metadata": {},
   "outputs": [],
   "source": [
    "qcd_msd_cut = np.where((Xevt_qcd[:,-4]>10)&(Xevt_qcd[:,-4]<400))\n"
   ]
  },
  {
   "cell_type": "code",
   "execution_count": 61,
   "metadata": {},
   "outputs": [],
   "source": [
    "X_qcd,Xalt_qcd,Xevt_qcd,y_qcd,feat_qcd = X_qcd[qcd_msd_cut], Xalt_qcd[qcd_msd_cut], Xevt_qcd[qcd_msd_cut], y_qcd[qcd_msd_cut], feat_qcd[qcd_msd_cut]\n"
   ]
  },
  {
   "cell_type": "code",
   "execution_count": 62,
   "metadata": {},
   "outputs": [],
   "source": [
    "#X_qcd = X_qcd[:,:,feat_selection]"
   ]
  },
  {
   "cell_type": "code",
   "execution_count": 63,
   "metadata": {},
   "outputs": [],
   "source": [
    "#%matplotlib inline\n",
    "#prefix='/nobackup/users/sangeon/figures/finalPlots/'"
   ]
  },
  {
   "cell_type": "code",
   "execution_count": 64,
   "metadata": {},
   "outputs": [],
   "source": [
    "#wps = [(15000,20000,0.1)]\n",
    "wps = [(20000,25000,0.01)]\n",
    "#wps = [(0,30000,0.01)]\n",
    "#wps = [(10000,10000,0.01)]"
   ]
  },
  {
   "cell_type": "code",
   "execution_count": 65,
   "metadata": {},
   "outputs": [],
   "source": [
    "wps = [(10000,10000,0.1)]"
   ]
  },
  {
   "cell_type": "code",
   "execution_count": 66,
   "metadata": {},
   "outputs": [],
   "source": [
    "wps = [(5000,5000,0.1)]"
   ]
  },
  {
   "cell_type": "code",
   "execution_count": 67,
   "metadata": {},
   "outputs": [],
   "source": [
    "wps = [(7000,7000,0.01)]"
   ]
  },
  {
   "cell_type": "code",
   "execution_count": 68,
   "metadata": {},
   "outputs": [],
   "source": [
    "wps = [(9000,16000,0.01)]"
   ]
  },
  {
   "cell_type": "code",
   "execution_count": 69,
   "metadata": {},
   "outputs": [],
   "source": [
    "wps = [(2300,4000,0.01)]"
   ]
  },
  {
   "cell_type": "code",
   "execution_count": 70,
   "metadata": {},
   "outputs": [],
   "source": [
    "TEST_SIZE = 10000\n",
    "lamb_list = [0.005, 0.01, 0.05]\n",
    "HOW_MANY_FLAT_TO_TRAINING = 500000"
   ]
  },
  {
   "cell_type": "code",
   "execution_count": 71,
   "metadata": {},
   "outputs": [
    {
     "data": {
      "text/plain": [
       "'/nobackup/users/sangeon/phitautau_figures/UL/'"
      ]
     },
     "execution_count": 71,
     "metadata": {},
     "output_type": "execute_result"
    }
   ],
   "source": [
    "prefix"
   ]
  },
  {
   "cell_type": "code",
   "execution_count": 72,
   "metadata": {},
   "outputs": [
    {
     "data": {
      "text/plain": [
       "(2378, 30, 13)"
      ]
     },
     "execution_count": 72,
     "metadata": {},
     "output_type": "execute_result"
    }
   ],
   "source": [
    "X_htt.shape"
   ]
  },
  {
   "cell_type": "code",
   "execution_count": 73,
   "metadata": {},
   "outputs": [
    {
     "data": {
      "text/plain": [
       "(557324, 30, 13)"
      ]
     },
     "execution_count": 73,
     "metadata": {},
     "output_type": "execute_result"
    }
   ],
   "source": [
    "X_flat.shape"
   ]
  },
  {
   "cell_type": "code",
   "execution_count": 74,
   "metadata": {},
   "outputs": [
    {
     "data": {
      "text/plain": [
       "(41938, 30, 13)"
      ]
     },
     "execution_count": 74,
     "metadata": {},
     "output_type": "execute_result"
    }
   ],
   "source": [
    "X_z.shape"
   ]
  },
  {
   "cell_type": "code",
   "execution_count": 75,
   "metadata": {},
   "outputs": [],
   "source": [
    "wps = [(2000,6000,0.01),(2000,8000,0.01),(2000,10000,0.01)]"
   ]
  },
  {
   "cell_type": "code",
   "execution_count": 76,
   "metadata": {},
   "outputs": [],
   "source": [
    "wps = [(2000,6000,0.01)]"
   ]
  },
  {
   "cell_type": "code",
   "execution_count": null,
   "metadata": {},
   "outputs": [],
   "source": []
  },
  {
   "cell_type": "code",
   "execution_count": 77,
   "metadata": {},
   "outputs": [],
   "source": [
    "class PredictionCallback(tf.keras.callbacks.Callback):\n",
    "    def __init__(self, model, x_test, y_test):\n",
    "        self.model  = model\n",
    "        self.x_test = x_test\n",
    "        self.y_test = y_test\n",
    "        \n",
    "    def on_epoch_end(self, epoch, logs={}):\n",
    "        #print(type(self.validation_data))\n",
    "        y_pred = self.model.predict(self.x_test)\n",
    "        print('prediction: {} at epoch: {}'.format(y_pred, epoch))\n",
    "        print('prediction Truth: {} at epoch: {}'.format(self.y_test, epoch))"
   ]
  },
  {
   "cell_type": "code",
   "execution_count": 78,
   "metadata": {},
   "outputs": [],
   "source": [
    "K.clear_session()"
   ]
  },
  {
   "cell_type": "code",
   "execution_count": 79,
   "metadata": {},
   "outputs": [],
   "source": [
    "prefix = './figs/hadmu/'"
   ]
  },
  {
   "cell_type": "code",
   "execution_count": 97,
   "metadata": {},
   "outputs": [
    {
     "name": "stdout",
     "output_type": "stream",
     "text": [
      "[[ 94.538795 784.8232  ]]\n",
      "-0.01999999999999935\n"
     ]
    },
    {
     "data": {
      "image/png": "[encoded data removed]",
      "text/plain": [
       "<Figure size 576x576 with 1 Axes>"
      ]
     },
     "metadata": {
      "needs_background": "light"
     },
     "output_type": "display_data"
    }
   ],
   "source": [
    "for HOW_MANY_H_TO_TRAINING, HOW_MANY_Z_TO_TRAINING, lamb in wps:\n",
    "\n",
    "            modelName=f\"NEW_UL_NoFeatSel_H{HOW_MANY_H_TO_TRAINING}_Z{HOW_MANY_Z_TO_TRAINING}_FLAT{HOW_MANY_FLAT_TO_TRAINING}_Lambda{lamb}_hadmu\"\n",
    "            #modelName=f\"Mass_and_Pt_IN_H{HOW_MANY_H_TO_TRAINING}_Z{HOW_MANY_Z_TO_TRAINING}_Lambda{lamb}_FLAT500k_genPtCut400_msd5_met50\"\n",
    "            inputParticle = Input(shape=(particlesConsidered, entriesPerParticle), name=\"inputParticle\")\n",
    "\n",
    "            XdotRR = Lambda(lambda tensor: tf.transpose(tf.tensordot(tf.transpose(tensor, perm=(0, 2, 1)), RR, axes=[[2], [0]]),\n",
    "                                                        perm=(0, 2, 1)), name=\"XdotRR\")(inputParticle)\n",
    "            XdotRS = Lambda(lambda tensor: tf.transpose(tf.tensordot(tf.transpose(tensor, perm=(0, 2, 1)), RS, axes=[[2], [0]]),\n",
    "                                                        perm=(0, 2, 1)), name=\"XdotRS\")(inputParticle)\n",
    "            Bpp = Lambda(lambda tensorList: tf.concat((tensorList[0], tensorList[1]), axis=2), name=\"Bpp\")([XdotRR, XdotRS])\n",
    "\n",
    "            convOneParticle = Conv1D(60, kernel_size=1, activation=\"relu\", name=\"convOneParticle\")(Bpp)\n",
    "            convTwoParticle = Conv1D(30, kernel_size=1, activation=\"relu\", name=\"convTwoParticle\")(convOneParticle)\n",
    "            convThreeParticle = Conv1D(20, kernel_size=1, activation=\"relu\", name=\"convThreeParticle\")(convTwoParticle)\n",
    "\n",
    "            Epp = BatchNormalization(momentum=0.6, name=\"Epp\")(convThreeParticle)\n",
    "\n",
    "            # Secondary vertex data interaction NN\n",
    "            inputSV = Input(shape=(svConsidered, entriesPerSV), name=\"inputSV\")\n",
    "\n",
    "            XdotRK = Lambda(lambda tensor: tf.transpose(tf.tensordot(tf.transpose(tensor, perm=(0, 2, 1)), RK, axes=[[2], [0]]),\n",
    "                                                        perm=(0, 2, 1)), name=\"XdotRK\")(inputParticle)\n",
    "            YdotRV = Lambda(lambda tensor: tf.transpose(tf.tensordot(tf.transpose(tensor, perm=(0, 2, 1)), RV, axes=[[2], [0]]),\n",
    "                                                        perm=(0, 2, 1)), name=\"YdotRV\")(inputSV)\n",
    "            Bvp = Lambda(lambda tensorList: tf.concat((tensorList[0], tensorList[1]), axis=2), name=\"Bvp\")([XdotRK, YdotRV])\n",
    "\n",
    "            convOneSV = Conv1D(60, kernel_size=1, activation=\"relu\", name=\"convOneSV\")(Bvp)\n",
    "            convTwoSV = Conv1D(30, kernel_size=1, activation=\"relu\", name=\"convTwoSV\")(convOneSV)\n",
    "            convThreeSV = Conv1D(20, kernel_size=1, activation=\"relu\", name=\"convThreeSV\")(convTwoSV)\n",
    "\n",
    "            Evp = BatchNormalization(momentum=0.6, name=\"Evp\")(convThreeSV)\n",
    "\n",
    "\n",
    "            # Event Level Info\n",
    "\n",
    "            inputEvent = Input(shape=(eventDataLength, ), name=\"inputEvent\")\n",
    "\n",
    "\n",
    "            # Combined prediction NN\n",
    "            EppBar = Lambda(lambda tensor: tf.transpose(tf.tensordot(tf.transpose(tensor, perm=(0, 2, 1)), RRT, axes=[[2], [0]]),\n",
    "                                                        perm=(0, 2, 1)), name=\"EppBar\")(Epp)\n",
    "            EvpBar = Lambda(lambda tensor: tf.transpose(tf.tensordot(tf.transpose(tensor, perm=(0, 2, 1)), RKT, axes=[[2], [0]]),\n",
    "                                                        perm=(0, 2, 1)), name=\"EvpBar\")(Evp)\n",
    "            C = Lambda(lambda listOfTensors: tf.concat((listOfTensors[0], listOfTensors[1], listOfTensors[2]), axis=2), name=\"C\")(\n",
    "                [inputParticle, EppBar, EvpBar])\n",
    "\n",
    "            convPredictOne = Conv1D(60, kernel_size=1, activation=\"relu\", name=\"convPredictOne\")(C)\n",
    "            convPredictTwo = Conv1D(30, kernel_size=1, activation=\"relu\", name=\"convPredictTwo\")(convPredictOne)\n",
    "\n",
    "            O = Conv1D(24, kernel_size=1, activation=\"relu\", name=\"O\")(convPredictTwo)\n",
    "\n",
    "            # Calculate output\n",
    "            OBar = Lambda(lambda tensor: K.sum(tensor, axis=1), name=\"OBar\")(O)\n",
    "\n",
    "            Concatted = Concatenate()([OBar, inputEvent])\n",
    "\n",
    "            denseEndOne = Dense(50, activation=\"relu\", name=\"denseEndOne\")(Concatted)\n",
    "            normEndOne = BatchNormalization(momentum=0.6, name=\"normEndOne\")(denseEndOne)\n",
    "            denseEndTwo = Dense(20, activation=\"relu\", name=\"denseEndTwo\")(normEndOne)\n",
    "            denseEndThree = Dense(10, activation=\"relu\", name=\"denseEndThree\")(denseEndTwo)\n",
    "            output = Dense(2,name=\"output\")(denseEndThree)\n",
    "\n",
    "            X_train = np.vstack((X_htt[:HOW_MANY_H_TO_TRAINING], X_z[:HOW_MANY_Z_TO_TRAINING], X_flat[:HOW_MANY_FLAT_TO_TRAINING]))\n",
    "            Xalt_train = np.vstack((Xalt_htt[:HOW_MANY_H_TO_TRAINING], Xalt_z[:HOW_MANY_Z_TO_TRAINING], Xalt_flat[:HOW_MANY_FLAT_TO_TRAINING]))\n",
    "            Xevt_train = np.vstack((Xevt_htt[:HOW_MANY_H_TO_TRAINING], Xevt_z[:HOW_MANY_Z_TO_TRAINING], Xevt_flat[:HOW_MANY_FLAT_TO_TRAINING]))\n",
    "            y_train = np.concatenate((y_htt[:HOW_MANY_H_TO_TRAINING,0:2], y_z[:HOW_MANY_Z_TO_TRAINING,0:2], y_flat[:HOW_MANY_FLAT_TO_TRAINING,0:2]))\n",
    "            #plt.hist(y_train[:,0])\n",
    "            #plt.hist(y_train[:,1])\n",
    "            #plt.show()\n",
    "            X_test_htt = X_htt[HOW_MANY_H_TO_TRAINING :HOW_MANY_H_TO_TRAINING +TEST_SIZE]\n",
    "            X_test_z   = X_z[HOW_MANY_Z_TO_TRAINING :HOW_MANY_Z_TO_TRAINING +TEST_SIZE]\n",
    "\n",
    "            Xalt_test_htt = Xalt_htt[HOW_MANY_H_TO_TRAINING :HOW_MANY_H_TO_TRAINING +TEST_SIZE]\n",
    "            Xalt_test_z   = Xalt_z[HOW_MANY_Z_TO_TRAINING :HOW_MANY_Z_TO_TRAINING +TEST_SIZE]\n",
    "\n",
    "            Xevt_test_htt = Xevt_htt[HOW_MANY_H_TO_TRAINING :HOW_MANY_H_TO_TRAINING +TEST_SIZE]\n",
    "            Xevt_test_z = Xevt_z[HOW_MANY_Z_TO_TRAINING :HOW_MANY_Z_TO_TRAINING +TEST_SIZE]\n",
    "\n",
    "            y_test_htt = y_htt[HOW_MANY_H_TO_TRAINING :HOW_MANY_H_TO_TRAINING +TEST_SIZE,0:2]\n",
    "            y_test_z  = y_z[HOW_MANY_Z_TO_TRAINING :HOW_MANY_Z_TO_TRAINING +TEST_SIZE,0:2]\n",
    "\n",
    "            X_test_flat   = X_flat[HOW_MANY_FLAT_TO_TRAINING :HOW_MANY_FLAT_TO_TRAINING +TEST_SIZE]\n",
    "            Xalt_test_flat   = Xalt_flat[HOW_MANY_FLAT_TO_TRAINING :HOW_MANY_FLAT_TO_TRAINING +TEST_SIZE]\n",
    "            Xevt_test_flat = Xevt_flat[HOW_MANY_FLAT_TO_TRAINING :HOW_MANY_FLAT_TO_TRAINING +TEST_SIZE]\n",
    "            y_test_flat  = y_flat[HOW_MANY_FLAT_TO_TRAINING :HOW_MANY_FLAT_TO_TRAINING +TEST_SIZE,0:2]\n",
    "\n",
    "            X_train, Xalt_train, Xevt_train, y_train = sklearn.utils.shuffle(X_train, Xalt_train, Xevt_train, y_train)\n",
    "            X_train, X_val, Xalt_train, Xalt_val, Xevt_train, Xevt_val, y_train, y_val = train_test_split(X_train, Xalt_train, Xevt_train, y_train, test_size=0.2, random_state=42)\n",
    "\n",
    "\n",
    "            #print(X_train[0] )\n",
    "            #print(X_test_htt[0])\n",
    "            \n",
    "\n",
    "            model = Model(inputs=[inputParticle, inputSV, inputEvent], outputs=[output])\n",
    "            opt = Adam(lr=0.001)\n",
    "            model.compile(optimizer=opt, loss=mean_sqrt_error, metrics=[mean_sqrt_error])\n",
    "            modelCallbacks = [EarlyStopping(patience=10),ModelCheckpoint(filepath=\"./weights/\"+modelName+\".h5\", save_weights_only=True, save_best_only=True)]\n",
    "            PredictionCallback(model, [X_val, Xalt_val, Xevt_val], y_val )\n",
    "            #history = model.fit([X_train, Xalt_train, Xevt_train], y_train, epochs=numberOfEpochs, batch_size=batchSize,\n",
    "            #                    callbacks=modelCallbacks,\n",
    "            #                    validation_data=([X_val, Xalt_val, Xevt_val], y_val))\n",
    "\n",
    "\n",
    "            #model.save(\"./saved_model/\"+modelName)\n",
    "            model.load_weights(\"./weights/\"+modelName+\".h5\")\n",
    "            predictions_htt = model.predict([X_test_htt, Xalt_test_htt, Xevt_test_htt])\n",
    "            predictions_z = model.predict([X_test_z, Xalt_test_z, Xevt_test_z])\n",
    "            \n",
    "            \n",
    "            #print(X_test_z[:1])\n",
    "            #print(Xalt_test_z[:1])\n",
    "            #print(Xevt_test_z[:1])\n",
    "            \n",
    "            #print(predictions_z[0,:])\n",
    "            \n",
    "            predict_one = model.predict([X_one, Xalt_one, Xevt_one])\n",
    "            print(predict_one)\n",
    "\n",
    "            #_, bins_z, patches_z = plt.hist(predictions_z[:,0],bins=np.arange(50,200,0.5),linewidth=1.5,density=True,facecolor=\"None\");\n",
    "            #_, bins_h, patches_h = plt.hist(predictions_htt[:,0],bins=np.arange(50,200,0.5),linewidth=1.5,density=True,facecolor=\"None\");\n",
    "            #plt.hist(predictions_z[:,0],bins=np.arange(50,200,1),linewidth=2,density=True,histtype=\"step\",color=\"C0\",label=\"Z\");\n",
    "            #plt.hist(predictions_htt[:,0],bins=np.arange(50,200,1),linewidth=2,density=True,histtype=\"step\",color=\"C1\",label=\"Higgs\");\n",
    "            #plt.axvline(x=np.quantile(predictions_htt[:,0],0.1),color='C1',linewidth=2)\n",
    "            #for i in range(len(bins_z)-1):\n",
    "            #    #print(bins_h[i])\n",
    "            #    if bins_z[i] > np.quantile(predictions_htt[:,0],0.1):\n",
    "            #        plt.setp(patches_z[i], facecolor=\"C0\",alpha=0.3)\n",
    "\n",
    "\n",
    "            #for i in range(len(bins_h)-1):\n",
    "            #    #print(bins_h[i])\n",
    "            #    if bins_h[i] > np.quantile(predictions_htt[:,0],0.1):\n",
    "            #        plt.setp(patches_h[i], facecolor=\"C1\",alpha=0.3)\n",
    "\n",
    "            #plt.legend(loc='upper left')    \n",
    "            #plt.text(np.quantile(predictions_htt[:,0],0.1),0.015,'90% of Higgs to the Right',ha='center', va='center',rotation='vertical', backgroundcolor='None')\n",
    "            #score_complement=stats.percentileofscore(predictions_z[:,0],np.quantile(predictions_htt[:,0],0.1))/100\n",
    "            #score = 1.-score_complement\n",
    "            #summary = r'$P(m_{Z,reg} > cutoff)=$'f'{score:.3f}''\\n'r'$1 / \\sqrt{P} = $'f'{1/np.sqrt(score):.3f}'\n",
    "            #anchored_text = AnchoredText(summary, loc=1)\n",
    "\n",
    "            #ax = plt.gca()\n",
    "            #ax.add_artist(anchored_text)\n",
    "            #plt.title(f'{HOW_MANY_H_TO_TRAINING}H and {HOW_MANY_Z_TO_TRAINING}Z mixed, Lambda={lamb}')\n",
    "\n",
    "            #plt.savefig(prefix+f'summaryscore-{1/np.sqrt(score):.4f}'+modelName+f'.png')\n",
    "            #plt.show()\n",
    "\n",
    "            #count_z, bins_z, patches_z = plt.hist(predictions_z[:,0],bins=np.arange(50,210,10),linewidth=1.5,density=True,facecolor=\"None\");\n",
    "            #count_h, bins_h, patches_h = plt.hist(predictions_htt[:,0],bins=np.arange(50,210,10),linewidth=1.5,density=True,facecolor=\"None\");\n",
    "            #plt.hist(predictions_z[:,0],bins=np.arange(50,210,10),linewidth=2,density=True,histtype=\"step\",color=\"C0\",label=\"Z\");\n",
    "            #plt.hist(predictions_htt[:,0],bins=np.arange(50,210,10),linewidth=2,density=True,histtype=\"step\",color=\"C1\",label=\"Higgs\");\n",
    "            #plt.axvline(x=110,color='r',linewidth=2,alpha=0.4)\n",
    "            #plt.axvline(x=140,color='r',linewidth=2,alpha=0.4)\n",
    "            #S = 0.\n",
    "            #B = 0.\n",
    "            #for i in range(len(bins_z)-1):\n",
    "            #    #print(bins_h[i])\n",
    "            #    if bins_z[i] in [110,120,130]:\n",
    "            #        plt.setp(patches_z[i], facecolor=\"C0\",alpha=0.2)\n",
    "            #        plt.setp(patches_h[i], facecolor=\"C1\",alpha=0.2)\n",
    "            #        S += count_h[i]\n",
    "            #        B += count_z[i]\n",
    "\n",
    "            #significance = S/math.sqrt(B)\n",
    "            #summary = r'$\\frac{P(m_{H,reg} \\in [110,140])}{\\sqrt{P(m_{Z,reg} \\in [110,140])}}=$'f'{significance:.3f}'\n",
    "            #anchored_text = AnchoredText(summary, loc=1,prop=dict(fontsize=15))\n",
    "            #plt.legend(loc='upper left')    \n",
    "\n",
    "            #ax = plt.gca()\n",
    "            #ax.add_artist(anchored_text)\n",
    "            #plt.title(f'{HOW_MANY_H_TO_TRAINING}H and {HOW_MANY_Z_TO_TRAINING}Z mixed, Lambda={lamb}')\n",
    "\n",
    "            #plt.savefig(prefix+f'significance-{np.sqrt(significance):.4f}'+modelName+f'.png')\n",
    "\n",
    "            #plt.show()\n",
    "            \n",
    "            \n",
    "            #predictions_qcd = model.predict([X_qcd, Xalt_qcd, Xevt_qcd])\n",
    "            #mass_qcd = predictions_qcd[:,0]\n",
    "    \n",
    "            #H_rec = (mass_qcd.flatten()-y_test_htt[:,0])/y_test_htt[:,0]\n",
    "\n",
    "            #plt.hist(mass_qcd,bins=np.arange(0,300,1),color='C0',label='Reconstructed Mass',alpha=0.2,density=True);\n",
    "            #plt.hist(y_qcd[:10000,0],bins=np.arange(0,300,10),color='C1',label='gen Mass',alpha=0.2,density=True)\n",
    "            #plt.axvline(x=125,color='r')\n",
    "            #plt.text(110,500,'m=125',rotation=90,fontsize=15)\n",
    "            #plt.title(f'QCD, {HOW_MANY_H_TO_TRAINING}H and {HOW_MANY_Z_TO_TRAINING}Z mixed')\n",
    "            #plt.legend()\n",
    "            #plt.xlabel('M (GeV)')\n",
    "            #plt.ylabel('Density')\n",
    "\n",
    "            #summary = f'''mean:{np.mean(mass_qcd)}\n",
    "            #std:{np.std(mass_qcd)}'''\n",
    "\n",
    "            #anchored_text = AnchoredText(summary, loc=1)\n",
    "            #ax = plt.gca()\n",
    "            #ax.add_artist(anchored_text)\n",
    "            #plt.savefig(prefix+modelName+f'-QCD-hadhad-mass.png')\n",
    "            #plt.show()\n",
    "\n",
    "            #plt.hist(predictions_qcd[:,1],bins=np.arange(0,1000,10),color='r',label='Reconstructed Pt',alpha=0.2,density=True);\n",
    "            #plt.hist(y_qcd[:10000,1],bins=np.arange(0,1000,10),color='b',label='gen Pt',alpha=0.2,density=True)\n",
    "            #plt.title(f'QCD, {HOW_MANY_H_TO_TRAINING}H and {HOW_MANY_Z_TO_TRAINING}Z mixed')\n",
    "            #plt.xlabel('pT (GeV)')\n",
    "            #plt.legend()\n",
    "            #plt.ylabel('Density')\n",
    "            #plt.savefig(prefix+modelName+f'-QCD-hadhad-pT.png')\n",
    "            #plt.show()\n",
    "            \n",
    "            #pt_response = (predictions_htt[:,1]-y_test_htt[:,1])/y_test_htt[:,1]\n",
    "\n",
    "            #plt.hist(pt_response,bins=np.arange(-0.5,0.5,.02),color='r',label=r'$p_{T}$ Response',alpha=0.2, density=True);\n",
    "            #plt.hist(y_htt[:,1],bins=np.arange(0,1000,10),color='b',label='gen Pt',alpha=0.2)\n",
    "            #plt.title(f'Htt, {HOW_MANY_H_TO_TRAINING}H and {HOW_MANY_Z_TO_TRAINING}Z mixed')\n",
    "            #plt.xlabel(r'$(p_{T,reg}-p_{T,gen})/p_{T,gen}$')\n",
    "            #plt.ylabel('Density')\n",
    "            #plt.legend(loc='upper left')\n",
    "\n",
    "            #summary = f'''mean: {np.mean(pt_response):.3f}\\nstd:   {np.std(pt_response):.3f}'''\n",
    "\n",
    "            #anchored_text = AnchoredText(summary, loc=1)\n",
    "            #ax = plt.gca()\n",
    "            #ax.add_artist(anchored_text)\n",
    "\n",
    "\n",
    "            #plt.savefig(prefix+modelName+f'-Higgs-hadhad-pT-Response-summary.png')\n",
    "            #plt.show()\n",
    "            \n",
    "            massH = predictions_htt[:,0]\n",
    "            H_rec = (massH.flatten()-y_test_htt[:,0])/y_test_htt[:,0]\n",
    "            \n",
    "            massZ = predictions_z[:,0]\n",
    "            Z_rec = (massZ.flatten()-y_test_z[:,0])/y_test_z[:,0]\n",
    "\n",
    "            predictions_flat = model.predict([X_test_flat, Xalt_test_flat, Xevt_test_flat])\n",
    "            massFlat = predictions_flat[:,0]\n",
    "            Flat_rec = (massFlat.flatten()-y_test_flat[:,0])/y_test_flat[:,0]            \n",
    "            \n",
    "            n, b, patches = plt.hist(H_rec,bins=np.arange(-0.75,0.75,0.01),alpha=.9,histtype='step',density=True,color='r',label='H');\n",
    "            H_mode = b[np.argmax(n)]\n",
    "\n",
    "            n, b, patches = plt.hist(Z_rec,bins=np.arange(-0.75,0.75,0.01),alpha=.9,histtype='step',density=True,color='g',label='Z');\n",
    "            Z_mode = b[np.argmax(n)]\n",
    "            n, b, patches = plt.hist(Flat_rec,bins=np.arange(-0.75,0.75,0.01),alpha=.9,histtype='step',density=True,color='b',label='Flat');\n",
    "            Flat_mode = b[np.argmax(n)]\n",
    "            plt.xlim([-1.2, 1.2])\n",
    "            print(Z_mode)\n",
    "            plt.text(0.75,1.3,f'Flat Mean: {np.mean(Flat_rec):.3f}, Mode:{Flat_mode:.3f}',fontsize=12,transform=ax.transAxes)\n",
    "            plt.text(0.75,1.4,f'H Mean: {np.mean(H_rec):.3f}, Mode:{H_mode:.3f}',fontsize=12,transform=ax.transAxes)\n",
    "            plt.text(0.75,1.5,f'Z Mean: {np.mean(Z_rec):.3f}, Mode:{Z_mode:.3f}',fontsize=12,transform=ax.transAxes)\n",
    "            \n",
    "            \n",
    "\n",
    "            plt.xlabel(r'$(m_{reg}-m_{gen})/m_{gen}$',fontsize=15)\n",
    "            plt.ylabel(r'$density$',fontsize=15)\n",
    "            plt.legend(loc='upper right')\n",
    "            plt.savefig(prefix+f'Zmode:{Z_mode:.3f}-'+modelName+'-mass-response.png')\n",
    "            plt.show()\n",
    "\n",
    "\n",
    "            K.clear_session() \n",
    "        \n",
    "      "
   ]
  },
  {
   "cell_type": "code",
   "execution_count": 81,
   "metadata": {},
   "outputs": [
    {
     "name": "stdout",
     "output_type": "stream",
     "text": [
      "2.4.1\n"
     ]
    }
   ],
   "source": [
    "print(tf.__version__)"
   ]
  },
  {
   "cell_type": "code",
   "execution_count": 93,
   "metadata": {},
   "outputs": [],
   "source": [
    "X_one = np.array([[[ 1.86279297e-01, -7.81250000e-02, -5.63964844e-02,  1.00000000e+00,\n",
    "    2.13623047e-03,  1.70326233e-03,  8.27789307e-04,  9.55581665e-04,\n",
    "    1.00000000e+00,  1.00000000e+00,  2.00000000e+00,  2.00000000e+00,\n",
    "    0.00000000e+00],\n",
    "  [ 6.35528564e-03,  1.18408203e-01,  1.26464844e-01,  1.00000000e+00,\n",
    "   -1.04751587e-02,  1.41716003e-03,  1.76525116e-03,  1.03092194e-03,\n",
    "    1.00000000e+00,  1.00000000e+00,  1.00000000e+00,  1.00000000e+00,\n",
    "    0.00000000e+00],\n",
    "  [ 5.60379028e-03,  1.14746094e-01,  1.20117188e-01, -1.00000000e+00,\n",
    "    7.11059570e-03,  1.58882141e-03,  6.83593750e-03,  1.50966644e-03,\n",
    "    1.00000000e+00,  1.00000000e+00,  1.00000000e+00,  1.00000000e+00,\n",
    "    0.00000000e+00],\n",
    "  [ 2.88391113e-03,  1.12792969e-01,  1.24023438e-01, -1.00000000e+00,\n",
    "    1.06353760e-02,  1.68228149e-03,  1.55687332e-04,  1.64604187e-03,\n",
    "    1.00000000e+00,  1.00000000e+00,  1.00000000e+00,  1.00000000e+00,\n",
    "    0.00000000e+00],\n",
    "  [ 7.59124756e-03, -1.25488281e-01, -1.95312500e-02,  0.00000000e+00,\n",
    "    0.00000000e+00,  0.00000000e+00,  0.00000000e+00,  0.00000000e+00,\n",
    "    1.00000000e+00,  1.00000000e+00,  5.00000000e+00, -1.00000000e+00,\n",
    "   -1.00000000e+00],\n",
    "  [ 2.23350525e-03, -9.93652344e-02,  2.16308594e-01,  0.00000000e+00,\n",
    "    0.00000000e+00,  0.00000000e+00,  0.00000000e+00,  0.00000000e+00,\n",
    "    1.00000000e+00,  1.00000000e+00,  5.00000000e+00, -1.00000000e+00,\n",
    "   -1.00000000e+00],\n",
    "  [ 2.65693665e-03,  9.17968750e-02,  7.20214844e-02,  0.00000000e+00,\n",
    "    0.00000000e+00,  0.00000000e+00,  0.00000000e+00,  0.00000000e+00,\n",
    "    1.00000000e+00,  1.00000000e+00,  3.00000000e+00, -1.00000000e+00,\n",
    "   -1.00000000e+00],\n",
    "  [ 1.69944763e-03,  3.68652344e-01, -3.37646484e-01, -1.00000000e+00,\n",
    "    2.18750000e+00,  4.71115112e-03, -2.67982483e-03,  7.06863403e-03,\n",
    "    6.98242188e-01,  7.13867188e-01,  1.00000000e+00,  1.00000000e+00,\n",
    "    0.00000000e+00],\n",
    "  [ 5.27954102e-02, -1.32324219e-01, -1.25000000e-01,  1.00000000e+00,\n",
    "   -7.43103027e-03,  4.16183472e-03,  4.03976440e-03,  4.07028198e-03,\n",
    "    1.00000000e+00,  1.00000000e+00,  1.00000000e+00,  1.00000000e+00,\n",
    "    0.00000000e+00],\n",
    "  [ 2.17247009e-03,  7.50976562e-01,  2.30957031e-01,  1.00000000e+00,\n",
    "   -2.65502930e-02,  5.38635254e-03, -2.25257874e-03,  5.45501709e-03,\n",
    "    1.00000000e+00,  1.00000000e+00,  1.00000000e+00,  1.00000000e+00,\n",
    "    0.00000000e+00],\n",
    "  [ 1.91974640e-03,  5.65429688e-01, -3.75000000e-01,  1.00000000e+00,\n",
    "   -3.68690491e-03,  6.96182251e-03, -1.60827637e-02,  6.92367554e-03,\n",
    "    1.00000000e+00,  1.00000000e+00,  1.00000000e+00,  0.00000000e+00,\n",
    "    0.00000000e+00],\n",
    "  [ 1.05762482e-03,  2.69775391e-01, -3.95751953e-01, -1.00000000e+00,\n",
    "    7.84375000e+00,  1.62597656e-01, -9.46777344e-01,  1.25732422e-01,\n",
    "    4.70703125e-01,  4.94140625e-01,  1.00000000e+00,  0.00000000e+00,\n",
    "    0.00000000e+00],\n",
    "  [ 1.68991089e-03,  2.47314453e-01,  4.77294922e-01,  0.00000000e+00,\n",
    "    0.00000000e+00,  0.00000000e+00,  0.00000000e+00,  0.00000000e+00,\n",
    "    1.00000000e+00,  1.00000000e+00,  5.00000000e+00, -1.00000000e+00,\n",
    "   -1.00000000e+00],\n",
    "  [ 3.56750488e-02, -1.00830078e-01, -2.66845703e-01,  0.00000000e+00,\n",
    "    0.00000000e+00,  0.00000000e+00,  0.00000000e+00,  0.00000000e+00,\n",
    "    1.00000000e+00,  9.52636719e-01,  5.00000000e+00, -1.00000000e+00,\n",
    "   -1.00000000e+00],\n",
    "  [ 1.27983093e-03, -3.73046875e-01, -7.37304688e-02, -1.00000000e+00,\n",
    "    7.33566284e-03,  5.61904907e-03, -4.44030762e-03,  5.43212891e-03,\n",
    "    1.00000000e+00,  1.00000000e+00,  1.00000000e+00,  2.00000000e+00,\n",
    "    0.00000000e+00],\n",
    "  [ 7.75337219e-04,  1.19140625e-01, -7.13867188e-01, -1.00000000e+00,\n",
    "    2.14687500e+01,  5.58593750e-01,  8.07812500e+00,  5.25878906e-01,\n",
    "    5.29296875e-01,  5.53222656e-01,  1.00000000e+00,  0.00000000e+00,\n",
    "    0.00000000e+00],\n",
    "  [ 1.24645233e-03,  2.17773438e-01, -6.31835938e-01, -1.00000000e+00,\n",
    "    4.39147949e-02,  1.04522705e-02, -6.57272339e-03,  1.09939575e-02,\n",
    "    1.00000000e+00,  1.00000000e+00,  1.00000000e+00,  1.00000000e+00,\n",
    "    0.00000000e+00],\n",
    "  [ 1.15013123e-03, -3.74023438e-01, -5.99609375e-01, -1.00000000e+00,\n",
    "    1.24588013e-02,  9.19342041e-03, -2.65693665e-03,  9.18579102e-03,\n",
    "    1.00000000e+00,  1.00000000e+00,  1.00000000e+00,  0.00000000e+00,\n",
    "    0.00000000e+00],\n",
    "  [ 1.04522705e-03, -4.39453125e-01, -6.06445312e-01,  1.00000000e+00,\n",
    "   -5.27832031e-01,  8.94927979e-03, -2.72460938e-01,  8.10241699e-03,\n",
    "    9.01855469e-01,  9.09667969e-01,  1.00000000e+00,  0.00000000e+00,\n",
    "    0.00000000e+00],\n",
    "  [ 2.84385681e-03,  1.73339844e-01,  1.19140625e-01,  0.00000000e+00,\n",
    "    0.00000000e+00,  0.00000000e+00,  0.00000000e+00,  0.00000000e+00,\n",
    "    1.00000000e+00,  1.00000000e+00,  3.00000000e+00, -1.00000000e+00,\n",
    "   -1.00000000e+00],\n",
    "  [ 5.60546875e-01, -1.08398438e-01, -2.80517578e-01, -1.00000000e+00,\n",
    "   -9.16290283e-03,  1.47323608e-02,  2.47192383e-02,  1.72576904e-02,\n",
    "    1.00000000e+00,  9.37011719e-01,  1.00000000e+00,  1.00000000e+00,\n",
    "    0.00000000e+00],\n",
    "  [ 6.51836395e-04,  3.33740234e-01, -1.16455078e-01,  0.00000000e+00,\n",
    "    0.00000000e+00,  0.00000000e+00,  0.00000000e+00,  0.00000000e+00,\n",
    "    1.00000000e+00,  1.00000000e+00,  5.00000000e+00, -1.00000000e+00,\n",
    "   -1.00000000e+00],\n",
    "  [ 6.51359558e-04, -3.38623047e-01, -6.35742188e-01, -1.00000000e+00,\n",
    "   -1.00000000e+00, -1.00000000e+00, -1.00000000e+00, -1.00000000e+00,\n",
    "    9.60937500e-01,  9.60937500e-01,  1.00000000e+00, -1.00000000e+00,\n",
    "   -1.00000000e+00],\n",
    "  [ 2.02775002e-04,  6.44531250e-01, -1.72363281e-01,  1.00000000e+00,\n",
    "   -1.00000000e+00, -1.00000000e+00, -1.00000000e+00, -1.00000000e+00,\n",
    "    1.00000000e+00,  1.00000000e+00,  1.00000000e+00, -1.00000000e+00,\n",
    "   -1.00000000e+00],\n",
    "  [ 0.00000000e+00,  0.00000000e+00,  0.00000000e+00,  0.00000000e+00,\n",
    "    0.00000000e+00,  0.00000000e+00,  0.00000000e+00,  0.00000000e+00,\n",
    "    0.00000000e+00,  0.00000000e+00,  0.00000000e+00,  0.00000000e+00,\n",
    "    0.00000000e+00],\n",
    "  [ 0.00000000e+00,  0.00000000e+00,  0.00000000e+00,  0.00000000e+00,\n",
    "    0.00000000e+00,  0.00000000e+00,  0.00000000e+00,  0.00000000e+00,\n",
    "    0.00000000e+00,  0.00000000e+00,  0.00000000e+00,  0.00000000e+00,\n",
    "    0.00000000e+00],\n",
    "  [ 0.00000000e+00,  0.00000000e+00,  0.00000000e+00,  0.00000000e+00,\n",
    "    0.00000000e+00,  0.00000000e+00,  0.00000000e+00,  0.00000000e+00,\n",
    "    0.00000000e+00,  0.00000000e+00,  0.00000000e+00,  0.00000000e+00,\n",
    "    0.00000000e+00],\n",
    "  [ 0.00000000e+00,  0.00000000e+00,  0.00000000e+00,  0.00000000e+00,\n",
    "    0.00000000e+00,  0.00000000e+00,  0.00000000e+00,  0.00000000e+00,\n",
    "    0.00000000e+00,  0.00000000e+00,  0.00000000e+00,  0.00000000e+00,\n",
    "    0.00000000e+00],\n",
    "  [ 0.00000000e+00,  0.00000000e+00,  0.00000000e+00,  0.00000000e+00,\n",
    "    0.00000000e+00,  0.00000000e+00,  0.00000000e+00,  0.00000000e+00,\n",
    "    0.00000000e+00,  0.00000000e+00,  0.00000000e+00,  0.00000000e+00,\n",
    "    0.00000000e+00],\n",
    "  [ 0.00000000e+00,  0.00000000e+00,  0.00000000e+00,  0.00000000e+00,\n",
    "    0.00000000e+00,  0.00000000e+00,  0.00000000e+00,  0.00000000e+00,\n",
    "    0.00000000e+00,  0.00000000e+00,  0.00000000e+00,  0.00000000e+00,\n",
    "    0.00000000e+00]]])"
   ]
  },
  {
   "cell_type": "code",
   "execution_count": 94,
   "metadata": {},
   "outputs": [],
   "source": [
    "Xalt_one = np.array([[[0., 0., 0., 0., 0., 0., 0., 0., 0., 0., 0., 0., 0.],\n",
    "  [0., 0., 0., 0., 0., 0., 0., 0., 0., 0., 0., 0., 0.],\n",
    "  [0., 0., 0., 0., 0., 0., 0., 0., 0., 0., 0., 0., 0.],\n",
    "  [0., 0., 0., 0., 0., 0., 0., 0., 0., 0., 0., 0., 0.],\n",
    "  [0., 0., 0., 0., 0., 0., 0., 0., 0., 0., 0., 0., 0.]]])"
   ]
  },
  {
   "cell_type": "code",
   "execution_count": 95,
   "metadata": {},
   "outputs": [],
   "source": [
    "Xevt_one = np.array([[ 7.14000000e+02, -5.18000000e+02,  3.20800000e+03,  3.30322266e-01,\n",
    "   1.16008018e+02,  5.56250000e+00,  1.47752029e+02,  2.81494141e-01,\n",
    "   8.56875000e+01,  6.72500000e+02,  1.36254883e+00,  1.73071289e+00]])"
   ]
  },
  {
   "cell_type": "code",
   "execution_count": null,
   "metadata": {},
   "outputs": [],
   "source": []
  },
  {
   "cell_type": "code",
   "execution_count": 82,
   "metadata": {},
   "outputs": [
    {
     "name": "stdout",
     "output_type": "stream",
     "text": [
      "<HDF5 file \"FlatTauTau_user.z\" (mode r+)>\n"
     ]
    },
    {
     "name": "stderr",
     "output_type": "stream",
     "text": [
      "/home/sangeon/MassRegression/preprocessor.py:137: H5pyDeprecationWarning: The default file mode will change to 'r' (read-only) in h5py 3.0. To suppress this warning, pass the mode you need to h5py.File(), or set the global default h5.get_config().default_file_mode, or set the environment variable H5PY_DEFAULT_READONLY=1. Available modes are: 'r', 'r+', 'w', 'w-'/'x', 'a'. See the docs for details.\n",
      "  h5File = h5py.File(iFile)\n"
     ]
    },
    {
     "name": "stdout",
     "output_type": "stream",
     "text": [
      "(872996, 386)\n",
      "599\n"
     ]
    },
    {
     "ename": "ValueError",
     "evalue": "Shape of passed values is (872996, 386), indices imply (872996, 599)",
     "output_type": "error",
     "traceback": [
      "\u001b[0;31m---------------------------------------------------------------------------\u001b[0m",
      "\u001b[0;31mValueError\u001b[0m                                Traceback (most recent call last)",
      "\u001b[0;32m/tmp/ipykernel_905559/685348873.py\u001b[0m in \u001b[0;36m<module>\u001b[0;34m\u001b[0m\n\u001b[0;32m----> 1\u001b[0;31m \u001b[0mX_flat\u001b[0m\u001b[0;34m,\u001b[0m\u001b[0mXalt_flat\u001b[0m\u001b[0;34m,\u001b[0m\u001b[0mXevt_flat\u001b[0m\u001b[0;34m,\u001b[0m\u001b[0my_flat\u001b[0m\u001b[0;34m,\u001b[0m\u001b[0mfeat_flat\u001b[0m \u001b[0;34m=\u001b[0m \u001b[0mload_flat\u001b[0m\u001b[0;34m(\u001b[0m\u001b[0;34m'/nobackup/users/sangeon/FlatTauTau_user.z'\u001b[0m\u001b[0;34m,\u001b[0m\u001b[0mmaxevts\u001b[0m\u001b[0;34m=\u001b[0m\u001b[0;36m0\u001b[0m\u001b[0;34m)\u001b[0m\u001b[0;34m;\u001b[0m\u001b[0;34m\u001b[0m\u001b[0;34m\u001b[0m\u001b[0m\n\u001b[0m\u001b[1;32m      2\u001b[0m \u001b[0mX_htt\u001b[0m\u001b[0;34m,\u001b[0m\u001b[0mXalt_htt\u001b[0m\u001b[0;34m,\u001b[0m\u001b[0mXevt_htt\u001b[0m\u001b[0;34m,\u001b[0m\u001b[0my_htt\u001b[0m\u001b[0;34m,\u001b[0m\u001b[0mfeat_htt\u001b[0m \u001b[0;34m=\u001b[0m \u001b[0mload_flat\u001b[0m\u001b[0;34m(\u001b[0m\u001b[0;34m'/nobackup/users/sangeon/GluGluHToTauTau_user.z'\u001b[0m\u001b[0;34m)\u001b[0m\u001b[0;34m;\u001b[0m\u001b[0;34m\u001b[0m\u001b[0;34m\u001b[0m\u001b[0m\n\u001b[1;32m      3\u001b[0m \u001b[0mX_z\u001b[0m\u001b[0;34m,\u001b[0m\u001b[0mXalt_z\u001b[0m\u001b[0;34m,\u001b[0m \u001b[0mXevt_z\u001b[0m\u001b[0;34m,\u001b[0m \u001b[0my_z\u001b[0m\u001b[0;34m,\u001b[0m \u001b[0mfeat_z\u001b[0m \u001b[0;34m=\u001b[0m \u001b[0mload_flat\u001b[0m\u001b[0;34m(\u001b[0m\u001b[0;34m'/nobackup/users/sangeon/DYJetsToLL.z'\u001b[0m\u001b[0;34m)\u001b[0m\u001b[0;34m;\u001b[0m\u001b[0;34m\u001b[0m\u001b[0;34m\u001b[0m\u001b[0m\n",
      "\u001b[0;32m~/MassRegression/preprocessor.py\u001b[0m in \u001b[0;36mload_flat\u001b[0;34m(iFile, columns, target_name, test_train_split, doscale, iNparts, iNSVs, fillGenM, maxevts)\u001b[0m\n\u001b[1;32m    141\u001b[0m     \u001b[0mprint\u001b[0m\u001b[0;34m(\u001b[0m\u001b[0mtreeArray\u001b[0m\u001b[0;34m.\u001b[0m\u001b[0mshape\u001b[0m\u001b[0;34m)\u001b[0m\u001b[0;34m\u001b[0m\u001b[0;34m\u001b[0m\u001b[0m\n\u001b[1;32m    142\u001b[0m     \u001b[0mprint\u001b[0m\u001b[0;34m(\u001b[0m\u001b[0mlen\u001b[0m\u001b[0;34m(\u001b[0m\u001b[0mcolumns\u001b[0m\u001b[0;34m)\u001b[0m\u001b[0;34m)\u001b[0m\u001b[0;34m\u001b[0m\u001b[0;34m\u001b[0m\u001b[0m\n\u001b[0;32m--> 143\u001b[0;31m     \u001b[0mfeatures_labels_df\u001b[0m \u001b[0;34m=\u001b[0m \u001b[0mpd\u001b[0m\u001b[0;34m.\u001b[0m\u001b[0mDataFrame\u001b[0m\u001b[0;34m(\u001b[0m\u001b[0mtreeArray\u001b[0m\u001b[0;34m,\u001b[0m\u001b[0mcolumns\u001b[0m\u001b[0;34m=\u001b[0m\u001b[0mcolumns\u001b[0m\u001b[0;34m)\u001b[0m\u001b[0;34m\u001b[0m\u001b[0;34m\u001b[0m\u001b[0m\n\u001b[0m\u001b[1;32m    144\u001b[0m     \u001b[0;32mif\u001b[0m \u001b[0mmaxevts\u001b[0m\u001b[0;34m>\u001b[0m\u001b[0;36m0\u001b[0m\u001b[0;34m:\u001b[0m \u001b[0mfeatures_labels_df\u001b[0m \u001b[0;34m=\u001b[0m \u001b[0mfeatures_labels_df\u001b[0m\u001b[0;34m.\u001b[0m\u001b[0mhead\u001b[0m\u001b[0;34m(\u001b[0m\u001b[0mmaxevts\u001b[0m\u001b[0;34m)\u001b[0m\u001b[0;34m\u001b[0m\u001b[0;34m\u001b[0m\u001b[0m\n\u001b[1;32m    145\u001b[0m \u001b[0;34m\u001b[0m\u001b[0m\n",
      "\u001b[0;32m/nobackup/users/sangeon/condas/anaconda3/envs/tensorflow/lib/python3.8/site-packages/pandas/core/frame.py\u001b[0m in \u001b[0;36m__init__\u001b[0;34m(self, data, index, columns, dtype, copy)\u001b[0m\n\u001b[1;32m    692\u001b[0m                 )\n\u001b[1;32m    693\u001b[0m             \u001b[0;32melse\u001b[0m\u001b[0;34m:\u001b[0m\u001b[0;34m\u001b[0m\u001b[0;34m\u001b[0m\u001b[0m\n\u001b[0;32m--> 694\u001b[0;31m                 mgr = ndarray_to_mgr(\n\u001b[0m\u001b[1;32m    695\u001b[0m                     \u001b[0mdata\u001b[0m\u001b[0;34m,\u001b[0m\u001b[0;34m\u001b[0m\u001b[0;34m\u001b[0m\u001b[0m\n\u001b[1;32m    696\u001b[0m                     \u001b[0mindex\u001b[0m\u001b[0;34m,\u001b[0m\u001b[0;34m\u001b[0m\u001b[0;34m\u001b[0m\u001b[0m\n",
      "\u001b[0;32m/nobackup/users/sangeon/condas/anaconda3/envs/tensorflow/lib/python3.8/site-packages/pandas/core/internals/construction.py\u001b[0m in \u001b[0;36mndarray_to_mgr\u001b[0;34m(values, index, columns, dtype, copy, typ)\u001b[0m\n\u001b[1;32m    349\u001b[0m     )\n\u001b[1;32m    350\u001b[0m \u001b[0;34m\u001b[0m\u001b[0m\n\u001b[0;32m--> 351\u001b[0;31m     \u001b[0m_check_values_indices_shape_match\u001b[0m\u001b[0;34m(\u001b[0m\u001b[0mvalues\u001b[0m\u001b[0;34m,\u001b[0m \u001b[0mindex\u001b[0m\u001b[0;34m,\u001b[0m \u001b[0mcolumns\u001b[0m\u001b[0;34m)\u001b[0m\u001b[0;34m\u001b[0m\u001b[0;34m\u001b[0m\u001b[0m\n\u001b[0m\u001b[1;32m    352\u001b[0m \u001b[0;34m\u001b[0m\u001b[0m\n\u001b[1;32m    353\u001b[0m     \u001b[0;32mif\u001b[0m \u001b[0mtyp\u001b[0m \u001b[0;34m==\u001b[0m \u001b[0;34m\"array\"\u001b[0m\u001b[0;34m:\u001b[0m\u001b[0;34m\u001b[0m\u001b[0;34m\u001b[0m\u001b[0m\n",
      "\u001b[0;32m/nobackup/users/sangeon/condas/anaconda3/envs/tensorflow/lib/python3.8/site-packages/pandas/core/internals/construction.py\u001b[0m in \u001b[0;36m_check_values_indices_shape_match\u001b[0;34m(values, index, columns)\u001b[0m\n\u001b[1;32m    420\u001b[0m         \u001b[0mpassed\u001b[0m \u001b[0;34m=\u001b[0m \u001b[0mvalues\u001b[0m\u001b[0;34m.\u001b[0m\u001b[0mshape\u001b[0m\u001b[0;34m\u001b[0m\u001b[0;34m\u001b[0m\u001b[0m\n\u001b[1;32m    421\u001b[0m         \u001b[0mimplied\u001b[0m \u001b[0;34m=\u001b[0m \u001b[0;34m(\u001b[0m\u001b[0mlen\u001b[0m\u001b[0;34m(\u001b[0m\u001b[0mindex\u001b[0m\u001b[0;34m)\u001b[0m\u001b[0;34m,\u001b[0m \u001b[0mlen\u001b[0m\u001b[0;34m(\u001b[0m\u001b[0mcolumns\u001b[0m\u001b[0;34m)\u001b[0m\u001b[0;34m)\u001b[0m\u001b[0;34m\u001b[0m\u001b[0;34m\u001b[0m\u001b[0m\n\u001b[0;32m--> 422\u001b[0;31m         \u001b[0;32mraise\u001b[0m \u001b[0mValueError\u001b[0m\u001b[0;34m(\u001b[0m\u001b[0;34mf\"Shape of passed values is {passed}, indices imply {implied}\"\u001b[0m\u001b[0;34m)\u001b[0m\u001b[0;34m\u001b[0m\u001b[0;34m\u001b[0m\u001b[0m\n\u001b[0m\u001b[1;32m    423\u001b[0m \u001b[0;34m\u001b[0m\u001b[0m\n\u001b[1;32m    424\u001b[0m \u001b[0;34m\u001b[0m\u001b[0m\n",
      "\u001b[0;31mValueError\u001b[0m: Shape of passed values is (872996, 386), indices imply (872996, 599)"
     ]
    }
   ],
   "source": [
    "X_flat,Xalt_flat,Xevt_flat,y_flat,feat_flat = load_flat('/nobackup/users/sangeon/FlatTauTau_user.z',maxevts=0);\n",
    "X_htt,Xalt_htt,Xevt_htt,y_htt,feat_htt = load_flat('/nobackup/users/sangeon/GluGluHToTauTau_user.z');\n",
    "X_z,Xalt_z, Xevt_z, y_z, feat_z = load_flat('/nobackup/users/sangeon/DYJetsToLL.z');"
   ]
  },
  {
   "cell_type": "code",
   "execution_count": null,
   "metadata": {},
   "outputs": [],
   "source": [
    "flat_msd_cut = np.where((Xevt_flat[:,-4]>20)&(Xevt_flat[:,-3]>200)&(y_flat[:,1]>400))\n",
    "htt_msd_cut = np.where((Xevt_htt[:,-4]>20)&(Xevt_htt[:,-3]>200)&(y_htt[:,1]>400))\n",
    "z_msd_cut = np.where((Xevt_z[:,-4]>20)&(Xevt_z[:,-3]>200)&(y_z[:,1]>400))"
   ]
  },
  {
   "cell_type": "code",
   "execution_count": null,
   "metadata": {},
   "outputs": [],
   "source": [
    "xmin = range(400,900,50)"
   ]
  },
  {
   "cell_type": "code",
   "execution_count": null,
   "metadata": {},
   "outputs": [],
   "source": [
    "xmin"
   ]
  },
  {
   "cell_type": "code",
   "execution_count": null,
   "metadata": {},
   "outputs": [],
   "source": []
  },
  {
   "cell_type": "code",
   "execution_count": null,
   "metadata": {},
   "outputs": [],
   "source": []
  },
  {
   "cell_type": "code",
   "execution_count": null,
   "metadata": {},
   "outputs": [],
   "source": [
    "import pickle\n",
    "f = open(\"dict_mean_std.pkl\",\"wb\")\n",
    "pickle.dump(dict_mean_std,f)\n",
    "f.close()"
   ]
  },
  {
   "cell_type": "code",
   "execution_count": null,
   "metadata": {},
   "outputs": [],
   "source": [
    "K.clear_session()"
   ]
  },
  {
   "cell_type": "code",
   "execution_count": null,
   "metadata": {},
   "outputs": [],
   "source": []
  },
  {
   "cell_type": "code",
   "execution_count": null,
   "metadata": {},
   "outputs": [],
   "source": []
  },
  {
   "cell_type": "code",
   "execution_count": null,
   "metadata": {},
   "outputs": [],
   "source": []
  },
  {
   "cell_type": "code",
   "execution_count": null,
   "metadata": {},
   "outputs": [],
   "source": []
  },
  {
   "cell_type": "code",
   "execution_count": null,
   "metadata": {},
   "outputs": [],
   "source": []
  },
  {
   "cell_type": "code",
   "execution_count": null,
   "metadata": {},
   "outputs": [],
   "source": []
  },
  {
   "cell_type": "code",
   "execution_count": null,
   "metadata": {},
   "outputs": [],
   "source": []
  },
  {
   "cell_type": "code",
   "execution_count": null,
   "metadata": {},
   "outputs": [],
   "source": []
  },
  {
   "cell_type": "code",
   "execution_count": null,
   "metadata": {},
   "outputs": [],
   "source": []
  },
  {
   "cell_type": "code",
   "execution_count": null,
   "metadata": {},
   "outputs": [],
   "source": []
  },
  {
   "cell_type": "code",
   "execution_count": null,
   "metadata": {},
   "outputs": [],
   "source": []
  },
  {
   "cell_type": "code",
   "execution_count": 52,
   "metadata": {},
   "outputs": [],
   "source": [
    "predictions = model.predict([X_test_htt, Xalt_test_htt, Xevt_test_htt])\n",
    "massH = predictions[:,0]\n",
    "H_rec = (massH.flatten()-y_test_htt[:,0])/y_test_htt[:,0]"
   ]
  },
  {
   "cell_type": "code",
   "execution_count": 101,
   "metadata": {},
   "outputs": [
    {
     "data": {
      "image/png": "[encoded data removed]",
      "text/plain": [
       "<Figure size 432x288 with 1 Axes>"
      ]
     },
     "metadata": {
      "needs_background": "light"
     },
     "output_type": "display_data"
    }
   ],
   "source": [
    "plt.hist(massH,bins=np.arange(0,300,1));\n",
    "plt.axvline(x=125,color='r')\n",
    "plt.text(110,500,'m=125',rotation=90,fontsize=15)\n",
    "plt.title('Htt, 100k H Z mix')\n",
    "plt.xlabel('M (GeV)')\n",
    "\n",
    "plt.text(160, 600, f'mean: {np.mean(massH):.2f}', fontsize=15)\n",
    "plt.text(160, 500, f'std: {np.std(massH):.2f}', fontsize=15)\n",
    "plt.savefig(prefix+modelName+'-Higgs-hadhad-100k-mass.pdf')\n"
   ]
  },
  {
   "cell_type": "code",
   "execution_count": 87,
   "metadata": {},
   "outputs": [
    {
     "data": {
      "image/png": "[encoded data removed]",
      "text/plain": [
       "<Figure size 432x288 with 1 Axes>"
      ]
     },
     "metadata": {
      "needs_background": "light"
     },
     "output_type": "display_data"
    }
   ],
   "source": [
    "plt.hist(predictions[:,1],bins=np.arange(0,1000,10),color='r',label='Reconstructed Pt',alpha=0.2);\n",
    "plt.hist(y_test_htt[:,1],bins=np.arange(0,1000,10),color='b',label='gen Pt',alpha=0.2)\n",
    "plt.title('Htt, 100k H Z mix')\n",
    "plt.xlabel('Pt (GeV)')\n",
    "plt.legend()\n",
    "plt.savefig(prefix+modelName+'-Higgs-hadhad-100k-Pt.pdf')\n",
    "\n",
    "#plt.axvline(x=125,color='r')\n",
    "\n"
   ]
  },
  {
   "cell_type": "code",
   "execution_count": 92,
   "metadata": {},
   "outputs": [],
   "source": [
    "predictions = model.predict([X_test_z, Xalt_test_z, Xevt_test_z])\n",
    "massZ = predictions[:,0]\n",
    "Z_rec = (massZ.flatten()-y_test_z[:,0])/y_test_z[:,0]"
   ]
  },
  {
   "cell_type": "code",
   "execution_count": 102,
   "metadata": {},
   "outputs": [
    {
     "data": {
      "image/png": "[encoded data removed]",
      "text/plain": [
       "<Figure size 432x288 with 1 Axes>"
      ]
     },
     "metadata": {
      "needs_background": "light"
     },
     "output_type": "display_data"
    }
   ],
   "source": [
    "plt.hist(massZ,bins=np.arange(0,300,4));\n",
    "plt.axvline(x=91.2,color='r')\n",
    "plt.text(60,2000,'m=91.2',rotation=90,fontsize=15)\n",
    "plt.title('Z, 100k H Z mix')\n",
    "plt.xlabel('M (GeV)')\n",
    "\n",
    "plt.text(160, 2000, f'mean: {np.mean(massZ):.2f}', fontsize=15)\n",
    "plt.text(160, 1400, f'std: {np.std(massZ):.2f}', fontsize=15)\n",
    "#plt.savefig(prefix+modelName+'-Z-hadhad-50000.pdf')\n",
    "plt.savefig(prefix+modelName+'-Z-hadhad-100k-mass.pdf')\n",
    "\n",
    "#plt.text(200, 600, f'mixratio: {mixratio}%', fontsize=15)"
   ]
  },
  {
   "cell_type": "code",
   "execution_count": 103,
   "metadata": {},
   "outputs": [
    {
     "data": {
      "image/png": "[encoded data removed]",
      "text/plain": [
       "<Figure size 432x288 with 1 Axes>"
      ]
     },
     "metadata": {
      "needs_background": "light"
     },
     "output_type": "display_data"
    }
   ],
   "source": [
    "plt.hist(predictions[:,1],bins=np.arange(0,1000,10),color='r',label='Reconstructed Pt',alpha=0.2);\n",
    "plt.hist(y_test_z[:,1],bins=np.arange(0,1000,10),color='b',label='gen Pt',alpha=0.2)\n",
    "plt.title('Z, 100k H Z mix')\n",
    "plt.xlabel('Pt (GeV)')\n",
    "plt.legend()\n",
    "plt.savefig(prefix+modelName+'-Z-hadhad-100k-Pt.pdf')"
   ]
  },
  {
   "cell_type": "code",
   "execution_count": null,
   "metadata": {},
   "outputs": [],
   "source": []
  },
  {
   "cell_type": "code",
   "execution_count": null,
   "metadata": {},
   "outputs": [],
   "source": []
  },
  {
   "cell_type": "code",
   "execution_count": null,
   "metadata": {},
   "outputs": [],
   "source": []
  },
  {
   "cell_type": "code",
   "execution_count": null,
   "metadata": {},
   "outputs": [],
   "source": []
  },
  {
   "cell_type": "code",
   "execution_count": null,
   "metadata": {},
   "outputs": [],
   "source": []
  },
  {
   "cell_type": "code",
   "execution_count": 106,
   "metadata": {},
   "outputs": [],
   "source": [
    "predictions = model.predict([X_test_flat, Xalt_test_flat, Xevt_test_flat])\n",
    "\n",
    "massFlat = predictions[:,0]\n",
    "\n",
    "\n",
    "Flat_rec = (massFlat.flatten()-y_test_flat[:,0])/y_test_flat[:,0]"
   ]
  },
  {
   "cell_type": "code",
   "execution_count": 107,
   "metadata": {},
   "outputs": [
    {
     "data": {
      "image/png": "[encoded data removed]",
      "text/plain": [
       "<Figure size 432x288 with 1 Axes>"
      ]
     },
     "metadata": {
      "needs_background": "light"
     },
     "output_type": "display_data"
    }
   ],
   "source": [
    "plt.hist(H_rec,bins=np.arange(-0.75,0.75,0.02),alpha=.9,histtype='step',density=True,color='r',label='H');\n",
    "plt.hist(Z_rec,bins=np.arange(-0.75,0.75,0.02),alpha=.9,histtype='step',density=True,color='g',label='Z');\n",
    "plt.hist(Flat_rec,bins=np.arange(-0.75,0.75,0.02),alpha=.9,histtype='step',density=True,color='b',label='Flat');\n",
    "plt.xlabel(r'$(m_{reg}-m_{gen})/m_{gen}$',fontsize=15)\n",
    "plt.ylabel(r'$density$',fontsize=15)\n",
    "plt.legend(loc='upper right')\n",
    "plt.savefig(prefix+modelName+'-100k-response.pdf')\n"
   ]
  },
  {
   "cell_type": "code",
   "execution_count": null,
   "metadata": {},
   "outputs": [],
   "source": []
  },
  {
   "cell_type": "code",
   "execution_count": 70,
   "metadata": {},
   "outputs": [
    {
     "name": "stdout",
     "output_type": "stream",
     "text": [
      "126.06927 9.392275\n"
     ]
    }
   ],
   "source": [
    "print(np.mean(mass),np.std(mass))"
   ]
  },
  {
   "cell_type": "code",
   "execution_count": 78,
   "metadata": {},
   "outputs": [],
   "source": [
    "X_train_z,X_test_z,Xalt_train_z,Xalt_test_z,Xevt_train_z,Xevt_test_z,Y_train_z,Y_test_z,feat_train_z,feat_test_z = load('/nobackup/users/sangeon/DYJetsToLL_0.z');\n",
    "\n",
    "y_train_z = Y_train_z[:,0]\n",
    "\n",
    "X_train_z = (X_train_z-part_mean)/part_std\n",
    "Xalt_train_z = (Xalt_train_z-alt_mean)/alt_std\n",
    "Xevt_train_z = (Xevt_train_z-evt_mean)/evt_std\n",
    "\n"
   ]
  },
  {
   "cell_type": "code",
   "execution_count": 79,
   "metadata": {},
   "outputs": [],
   "source": [
    "predictions_z = model.predict([X_train_z, Xalt_train_z, Xevt_train_z])\n"
   ]
  },
  {
   "cell_type": "code",
   "execution_count": 80,
   "metadata": {},
   "outputs": [],
   "source": [
    "regressed_z = (predictions_z * std_Y) + mean_Y"
   ]
  },
  {
   "cell_type": "code",
   "execution_count": 81,
   "metadata": {},
   "outputs": [
    {
     "data": {
      "text/plain": [
       "<matplotlib.lines.Line2D at 0x2000ab28eb10>"
      ]
     },
     "execution_count": 81,
     "metadata": {},
     "output_type": "execute_result"
    },
    {
     "data": {
      "image/png": "[encoded data removed]",
      "text/plain": [
       "<Figure size 432x288 with 1 Axes>"
      ]
     },
     "metadata": {
      "needs_background": "light"
     },
     "output_type": "display_data"
    }
   ],
   "source": [
    "plt.hist(regressed_z,bins=np.arange(70,200,1));\n",
    "plt.axvline(x=91)"
   ]
  },
  {
   "cell_type": "code",
   "execution_count": null,
   "metadata": {},
   "outputs": [],
   "source": []
  },
  {
   "cell_type": "code",
   "execution_count": 56,
   "metadata": {},
   "outputs": [],
   "source": [
    "mean_Y = np.mean(y_train[:])\n",
    "std_Y = np.std(y_train[:])\n",
    "y_train[:] = (y_train[:]-mean_Y)/std_Y"
   ]
  },
  {
   "cell_type": "code",
   "execution_count": 57,
   "metadata": {},
   "outputs": [],
   "source": [
    "%matplotlib inline"
   ]
  },
  {
   "cell_type": "code",
   "execution_count": 58,
   "metadata": {},
   "outputs": [
    {
     "data": {
      "image/png": "[encoded data removed]",
      "text/plain": [
       "<Figure size 432x288 with 1 Axes>"
      ]
     },
     "metadata": {
      "needs_background": "light"
     },
     "output_type": "display_data"
    }
   ],
   "source": [
    "plt.hist(y_train, np.arange(-3,3,0.1));"
   ]
  },
  {
   "cell_type": "code",
   "execution_count": 59,
   "metadata": {},
   "outputs": [],
   "source": [
    "X_val, X_test, Xalt_val, Xalt_test, Xevt_val, Xevt_test, y_val, y_test = train_test_split(X_test_htt, Xalt_test_htt, Xevt_test_htt, Y_test_htt, test_size=0.5, random_state=42)"
   ]
  },
  {
   "cell_type": "code",
   "execution_count": 60,
   "metadata": {},
   "outputs": [],
   "source": [
    "y_val[:] = (y_val[:]-mean_Y)/std_Y\n",
    "y_test[:] = (y_test[:]-mean_Y)/std_Y"
   ]
  },
  {
   "cell_type": "code",
   "execution_count": 61,
   "metadata": {},
   "outputs": [
    {
     "data": {
      "image/png": "[encoded data removed]",
      "text/plain": [
       "<Figure size 432x288 with 1 Axes>"
      ]
     },
     "metadata": {
      "needs_background": "light"
     },
     "output_type": "display_data"
    }
   ],
   "source": [
    "plt.hist(y_val,np.arange(-1,1,0.01));"
   ]
  },
  {
   "cell_type": "code",
   "execution_count": 62,
   "metadata": {},
   "outputs": [
    {
     "name": "stdout",
     "output_type": "stream",
     "text": [
      "cuda:0\n"
     ]
    },
    {
     "data": {
      "text/plain": [
       "'GeForce RTX 2080 Ti'"
      ]
     },
     "execution_count": 62,
     "metadata": {},
     "output_type": "execute_result"
    }
   ],
   "source": [
    "device = torch.device(\"cuda:0\" if torch.cuda.is_available() else \"cpu\")\n",
    "print(device)\n",
    "torch.cuda.get_device_name(0)"
   ]
  },
  {
   "cell_type": "code",
   "execution_count": 63,
   "metadata": {},
   "outputs": [],
   "source": [
    "BATCH_SIZE = 500\n",
    "N_EPOCHS = 80\n",
    "PRINT_INTERVAL = 2000\n",
    "NUM_WORKERS = 4\n",
    "LR = 1e-4"
   ]
  },
  {
   "cell_type": "code",
   "execution_count": 64,
   "metadata": {},
   "outputs": [
    {
     "name": "stdout",
     "output_type": "stream",
     "text": [
      "SimpleGru(\n",
      "  (gru1): GRU(10, 10, num_layers=10, batch_first=True, dropout=0.5)\n",
      "  (gru2): GRU(13, 13, num_layers=10, batch_first=True, dropout=0.5)\n",
      "  (linear1): Linear(in_features=35, out_features=40, bias=True)\n",
      "  (linear2): Linear(in_features=40, out_features=20, bias=True)\n",
      "  (linear3): Linear(in_features=20, out_features=10, bias=True)\n",
      "  (linear4): Linear(in_features=10, out_features=5, bias=True)\n",
      "  (linear5): Linear(in_features=5, out_features=1, bias=True)\n",
      "  (linear6): Linear(in_features=6, out_features=3, bias=True)\n",
      "  (linear7): Linear(in_features=3, out_features=1, bias=True)\n",
      "  (dropout): Dropout(p=0.1, inplace=False)\n",
      "  (batchnorm1): BatchNorm1d(40, eps=1e-05, momentum=0.1, affine=True, track_running_stats=True)\n",
      "  (batchnorm2): BatchNorm1d(20, eps=1e-05, momentum=0.1, affine=True, track_running_stats=True)\n",
      "  (batchnorm3): BatchNorm1d(10, eps=1e-05, momentum=0.1, affine=True, track_running_stats=True)\n",
      "  (batchnorm4): BatchNorm1d(5, eps=1e-05, momentum=0.1, affine=True, track_running_stats=True)\n",
      "  (batchnorm5): BatchNorm1d(6, eps=1e-05, momentum=0.1, affine=True, track_running_stats=True)\n",
      "  (batchnorm6): BatchNorm1d(3, eps=1e-05, momentum=0.1, affine=True, track_running_stats=True)\n",
      ")\n"
     ]
    },
    {
     "data": {
      "text/plain": [
       "SimpleGru(\n",
       "  (gru1): GRU(10, 10, num_layers=10, batch_first=True, dropout=0.5)\n",
       "  (gru2): GRU(13, 13, num_layers=10, batch_first=True, dropout=0.5)\n",
       "  (linear1): Linear(in_features=35, out_features=40, bias=True)\n",
       "  (linear2): Linear(in_features=40, out_features=20, bias=True)\n",
       "  (linear3): Linear(in_features=20, out_features=10, bias=True)\n",
       "  (linear4): Linear(in_features=10, out_features=5, bias=True)\n",
       "  (linear5): Linear(in_features=5, out_features=1, bias=True)\n",
       "  (linear6): Linear(in_features=6, out_features=3, bias=True)\n",
       "  (linear7): Linear(in_features=3, out_features=1, bias=True)\n",
       "  (dropout): Dropout(p=0.1, inplace=False)\n",
       "  (batchnorm1): BatchNorm1d(40, eps=1e-05, momentum=0.1, affine=True, track_running_stats=True)\n",
       "  (batchnorm2): BatchNorm1d(20, eps=1e-05, momentum=0.1, affine=True, track_running_stats=True)\n",
       "  (batchnorm3): BatchNorm1d(10, eps=1e-05, momentum=0.1, affine=True, track_running_stats=True)\n",
       "  (batchnorm4): BatchNorm1d(5, eps=1e-05, momentum=0.1, affine=True, track_running_stats=True)\n",
       "  (batchnorm5): BatchNorm1d(6, eps=1e-05, momentum=0.1, affine=True, track_running_stats=True)\n",
       "  (batchnorm6): BatchNorm1d(3, eps=1e-05, momentum=0.1, affine=True, track_running_stats=True)\n",
       ")"
      ]
     },
     "execution_count": 64,
     "metadata": {},
     "output_type": "execute_result"
    }
   ],
   "source": [
    "model = SimpleGru()\n",
    "\n",
    "print(model)\n",
    "model.to(device)"
   ]
  },
  {
   "cell_type": "code",
   "execution_count": 65,
   "metadata": {},
   "outputs": [],
   "source": [
    "train_data = gruTrainData(torch.FloatTensor(X_train.astype(np.float)),torch.FloatTensor(Xalt_train.astype(np.float)),torch.FloatTensor(Xevt_train.astype(np.float)),torch.FloatTensor(y_train.astype(np.float)))\n",
    "val_data = gruTrainData(torch.FloatTensor(X_val.astype(np.float)),torch.FloatTensor(Xalt_val.astype(np.float)),torch.FloatTensor(Xevt_val.astype(np.float)),torch.FloatTensor(np.array(y_val).astype(np.float)))\n",
    "test_data = gruTestData(torch.FloatTensor(X_test.astype(np.float)),torch.FloatTensor(Xalt_test.astype(np.float)),torch.FloatTensor(Xevt_test.astype(np.float))) "
   ]
  },
  {
   "cell_type": "code",
   "execution_count": 66,
   "metadata": {},
   "outputs": [],
   "source": [
    "train_loader = utils.DataLoader(dataset=train_data, batch_size=BATCH_SIZE, shuffle=True)\n",
    "val_loader = utils.DataLoader(dataset=val_data, batch_size=100)\n",
    "test_loader = utils.DataLoader(dataset=test_data, batch_size=100)"
   ]
  },
  {
   "cell_type": "code",
   "execution_count": 67,
   "metadata": {},
   "outputs": [],
   "source": [
    "optimizer = optim.Adam(model.parameters(), lr=1e-4)\n",
    "criterion = nn.SmoothL1Loss()"
   ]
  },
  {
   "cell_type": "code",
   "execution_count": null,
   "metadata": {},
   "outputs": [],
   "source": []
  },
  {
   "cell_type": "code",
   "execution_count": null,
   "metadata": {},
   "outputs": [],
   "source": []
  },
  {
   "cell_type": "code",
   "execution_count": null,
   "metadata": {},
   "outputs": [],
   "source": []
  },
  {
   "cell_type": "code",
   "execution_count": null,
   "metadata": {},
   "outputs": [],
   "source": []
  },
  {
   "cell_type": "code",
   "execution_count": null,
   "metadata": {},
   "outputs": [],
   "source": []
  },
  {
   "cell_type": "code",
   "execution_count": null,
   "metadata": {},
   "outputs": [],
   "source": []
  },
  {
   "cell_type": "code",
   "execution_count": null,
   "metadata": {},
   "outputs": [],
   "source": []
  },
  {
   "cell_type": "code",
   "execution_count": null,
   "metadata": {},
   "outputs": [],
   "source": []
  },
  {
   "cell_type": "code",
   "execution_count": 68,
   "metadata": {},
   "outputs": [],
   "source": [
    "def train():\n",
    "    # set the train mode\n",
    "    model.train()\n",
    "\n",
    "    # loss of the epoch\n",
    "    epoch_loss = 0\n",
    "    epoch_acc = 0\n",
    "\n",
    "    for x1,x2,x3, y in train_loader:\n",
    "        # reshape the data into [batch_size, 784]\n",
    "        x1,x2,x3,y = x1.to(device),x2.to(device),x3.to(device), y.to(device)\n",
    "\n",
    "        # update the gradients to zero\n",
    "        optimizer.zero_grad()\n",
    "\n",
    "        # forward pass\n",
    "        y_pred = model(x1,x2,x3)\n",
    "\n",
    "        # reconstruction loss\n",
    "        #recon_loss = F.binary_cross_entropy(x_sample, x, size_average=False)\n",
    "\n",
    "        # kl divergence loss\n",
    "        #kl_loss = 0.5 * torch.sum(torch.exp(z_var) + z_mu**2 - 1.0 - z_var)\n",
    "\n",
    "        # total loss\n",
    "        #loss = recon_loss + kl_loss\n",
    "\n",
    "        #BCE loss\n",
    "        loss = criterion(y_pred, y.unsqueeze(1))\n",
    "        \n",
    "        # backward pass\n",
    "        loss.backward()\n",
    "        epoch_loss += loss.item()\n",
    "\n",
    "        # update the weights\n",
    "        optimizer.step()\n",
    "\n",
    "    return epoch_loss"
   ]
  },
  {
   "cell_type": "code",
   "execution_count": 69,
   "metadata": {},
   "outputs": [],
   "source": [
    "def test():\n",
    "    # set the evaluation mode\n",
    "    model.eval()\n",
    "\n",
    "    # test loss for the data\n",
    "    test_loss = 0\n",
    "\n",
    "    # we don't need to track the gradients, since we are not updating the parameters during evaluation / testing\n",
    "    with torch.no_grad():\n",
    "        for x1,x2,x3, y in val_loader:\n",
    "            # reshape the data\n",
    "            #x = x.view(-1, 28 * 28)\n",
    "            x1,x2,x3,y = x1.to(device),x2.to(device),x3.to(device), y.to(device)\n",
    "            # forward pass\n",
    "            y_pred = model(x1,x2,x3)\n",
    "\n",
    "            loss = criterion(y_pred, y.unsqueeze(1))\n",
    "            # total loss\n",
    "            \n",
    "            test_loss += loss.item()\n",
    "\n",
    "    return test_loss\n"
   ]
  },
  {
   "cell_type": "code",
   "execution_count": 70,
   "metadata": {},
   "outputs": [
    {
     "data": {
      "text/plain": [
       "3"
      ]
     },
     "execution_count": 70,
     "metadata": {},
     "output_type": "execute_result"
    }
   ],
   "source": [
    "mixratio"
   ]
  },
  {
   "cell_type": "code",
   "execution_count": 74,
   "metadata": {},
   "outputs": [
    {
     "data": {
      "text/plain": [
       "<All keys matched successfully>"
      ]
     },
     "execution_count": 74,
     "metadata": {},
     "output_type": "execute_result"
    }
   ],
   "source": [
    "model.load_state_dict(torch.load(f\"/data/t3home000/spark/MassRegression/weights/supervised_gru_allinput_{mixratio}_v0.h5\"))"
   ]
  },
  {
   "cell_type": "code",
   "execution_count": 75,
   "metadata": {},
   "outputs": [
    {
     "name": "stdout",
     "output_type": "stream",
     "text": [
      "Epoch 0, Train Loss: 0.0001659, Test Loss: 0.0002834\n",
      "saving model\n",
      "Epoch 1, Train Loss: 0.0001641, Test Loss: 0.0004345\n",
      "NOT SAVING\n",
      "Epoch 2, Train Loss: 0.0001627, Test Loss: 0.0003051\n",
      "NOT SAVING\n",
      "Epoch 3, Train Loss: 0.0001622, Test Loss: 0.0002499\n",
      "saving model\n",
      "Epoch 4, Train Loss: 0.0001608, Test Loss: 0.0003811\n",
      "NOT SAVING\n",
      "Epoch 5, Train Loss: 0.0001602, Test Loss: 0.0003096\n",
      "NOT SAVING\n",
      "Epoch 6, Train Loss: 0.0001598, Test Loss: 0.0004731\n",
      "NOT SAVING\n",
      "Epoch 7, Train Loss: 0.0001585, Test Loss: 0.0002557\n",
      "NOT SAVING\n",
      "Epoch 8, Train Loss: 0.0001608, Test Loss: 0.0002906\n",
      "NOT SAVING\n",
      "Epoch 9, Train Loss: 0.0001581, Test Loss: 0.0002969\n",
      "NOT SAVING\n"
     ]
    },
    {
     "ename": "KeyboardInterrupt",
     "evalue": "",
     "output_type": "error",
     "traceback": [
      "\u001b[0;31m---------------------------------------------------------------------------\u001b[0m",
      "\u001b[0;31mKeyboardInterrupt\u001b[0m                         Traceback (most recent call last)",
      "\u001b[0;32m<ipython-input-75-27c25a7d346b>\u001b[0m in \u001b[0;36m<module>\u001b[0;34m\u001b[0m\n\u001b[1;32m      3\u001b[0m \u001b[0;32mfor\u001b[0m \u001b[0me\u001b[0m \u001b[0;32min\u001b[0m \u001b[0mrange\u001b[0m\u001b[0;34m(\u001b[0m\u001b[0;36m500\u001b[0m\u001b[0;34m)\u001b[0m\u001b[0;34m:\u001b[0m\u001b[0;34m\u001b[0m\u001b[0;34m\u001b[0m\u001b[0m\n\u001b[1;32m      4\u001b[0m \u001b[0;34m\u001b[0m\u001b[0m\n\u001b[0;32m----> 5\u001b[0;31m     \u001b[0mtrain_loss\u001b[0m \u001b[0;34m=\u001b[0m \u001b[0mtrain\u001b[0m\u001b[0;34m(\u001b[0m\u001b[0;34m)\u001b[0m\u001b[0;34m\u001b[0m\u001b[0;34m\u001b[0m\u001b[0m\n\u001b[0m\u001b[1;32m      6\u001b[0m     \u001b[0mtest_loss\u001b[0m \u001b[0;34m=\u001b[0m \u001b[0mtest\u001b[0m\u001b[0;34m(\u001b[0m\u001b[0;34m)\u001b[0m\u001b[0;34m\u001b[0m\u001b[0;34m\u001b[0m\u001b[0m\n\u001b[1;32m      7\u001b[0m \u001b[0;34m\u001b[0m\u001b[0m\n",
      "\u001b[0;32m<ipython-input-68-9b048b166e18>\u001b[0m in \u001b[0;36mtrain\u001b[0;34m()\u001b[0m\n\u001b[1;32m     31\u001b[0m         \u001b[0;31m# backward pass\u001b[0m\u001b[0;34m\u001b[0m\u001b[0;34m\u001b[0m\u001b[0;34m\u001b[0m\u001b[0m\n\u001b[1;32m     32\u001b[0m         \u001b[0mloss\u001b[0m\u001b[0;34m.\u001b[0m\u001b[0mbackward\u001b[0m\u001b[0;34m(\u001b[0m\u001b[0;34m)\u001b[0m\u001b[0;34m\u001b[0m\u001b[0;34m\u001b[0m\u001b[0m\n\u001b[0;32m---> 33\u001b[0;31m         \u001b[0mepoch_loss\u001b[0m \u001b[0;34m+=\u001b[0m \u001b[0mloss\u001b[0m\u001b[0;34m.\u001b[0m\u001b[0mitem\u001b[0m\u001b[0;34m(\u001b[0m\u001b[0;34m)\u001b[0m\u001b[0;34m\u001b[0m\u001b[0;34m\u001b[0m\u001b[0m\n\u001b[0m\u001b[1;32m     34\u001b[0m \u001b[0;34m\u001b[0m\u001b[0m\n\u001b[1;32m     35\u001b[0m         \u001b[0;31m# update the weights\u001b[0m\u001b[0;34m\u001b[0m\u001b[0;34m\u001b[0m\u001b[0;34m\u001b[0m\u001b[0m\n",
      "\u001b[0;31mKeyboardInterrupt\u001b[0m: "
     ]
    }
   ],
   "source": [
    "best_test_loss = 9\n",
    "patience_counter = 0\n",
    "for e in range(500):\n",
    "\n",
    "    train_loss = train()\n",
    "    test_loss = test()\n",
    "\n",
    "    train_loss /= len(train_data)\n",
    "    test_loss /= len(val_data)\n",
    "\n",
    "    print(f'Epoch {e}, Train Loss: {train_loss:.7f}, Test Loss: {test_loss:.7f}')\n",
    "\n",
    "    if best_test_loss > test_loss:\n",
    "        best_test_loss = test_loss\n",
    "        torch.save(model.state_dict(), f\"/data/t3home000/spark/MassRegression/weights/supervised_gru_allinput_{mixratio}_v0.h5\")\n",
    "        patience_counter = 1\n",
    "        print('saving model')\n",
    "    else:\n",
    "        print('NOT SAVING')\n",
    "        patience_counter += 1\n",
    "\n",
    "    if patience_counter > 10:\n",
    "        print('patience limit reached')\n",
    "        break"
   ]
  },
  {
   "cell_type": "code",
   "execution_count": 76,
   "metadata": {},
   "outputs": [],
   "source": [
    "model.eval()\n",
    "y_pred_list = np.array([],dtype=np.float)\n",
    "with torch.no_grad():\n",
    "    for batch_idx, (x1,x2,x3) in enumerate(test_loader):\n",
    "        x1 = x1.to(device)\n",
    "        x2 = x2.to(device)\n",
    "        x3 = x3.to(device)\n",
    "        y_test_pred = model(x1,x2,x3)\n",
    "        #y_test_pred = torch.sigmoid(y_test_pred)\n",
    "        #y_pred_tag = torch.round(y_test_pred)\n",
    "        y_pred_list = np.append(y_pred_list,y_test_pred.cpu().numpy())"
   ]
  },
  {
   "cell_type": "code",
   "execution_count": 77,
   "metadata": {},
   "outputs": [],
   "source": [
    "predicted_mass = (y_pred_list * std_Y) + mean_Y"
   ]
  },
  {
   "cell_type": "code",
   "execution_count": 78,
   "metadata": {},
   "outputs": [],
   "source": [
    "%matplotlib inline\n"
   ]
  },
  {
   "cell_type": "code",
   "execution_count": 79,
   "metadata": {},
   "outputs": [
    {
     "data": {
      "text/plain": [
       "3"
      ]
     },
     "execution_count": 79,
     "metadata": {},
     "output_type": "execute_result"
    }
   ],
   "source": [
    "mixratio"
   ]
  },
  {
   "cell_type": "code",
   "execution_count": 86,
   "metadata": {},
   "outputs": [
    {
     "data": {
      "image/png": "[encoded data removed]",
      "text/plain": [
       "<Figure size 432x288 with 1 Axes>"
      ]
     },
     "metadata": {
      "needs_background": "light"
     },
     "output_type": "display_data"
    }
   ],
   "source": [
    "n,b,patches = plt.hist(predicted_mass,np.arange(60,300,3))\n",
    "plt.text(200, 1000, f'mean: {np.mean(predicted_mass):.2f}', fontsize=15)\n",
    "plt.text(200, 800, f'std: {np.std(predicted_mass):.2f}', fontsize=15)\n",
    "\n",
    "plt.text(200, 600, f'mixratio: {mixratio}%', fontsize=15)\n",
    "\n",
    "plt.text(65, 1200, f'm={b[bin_max][0]}', fontsize=13)\n",
    "\n",
    "plt.axvline(x=b[bin_max][0],color='r')\n",
    "plt.savefig('hadhad_mixratio_11')"
   ]
  },
  {
   "cell_type": "code",
   "execution_count": 84,
   "metadata": {},
   "outputs": [],
   "source": [
    "bin_max = np.where(n == n.max())"
   ]
  },
  {
   "cell_type": "code",
   "execution_count": 85,
   "metadata": {},
   "outputs": [
    {
     "data": {
      "text/plain": [
       "141"
      ]
     },
     "execution_count": 85,
     "metadata": {},
     "output_type": "execute_result"
    }
   ],
   "source": [
    "b[bin_max][0]"
   ]
  },
  {
   "cell_type": "code",
   "execution_count": 30,
   "metadata": {},
   "outputs": [],
   "source": [
    "relerr = (predicted_mass - 125) /125"
   ]
  },
  {
   "cell_type": "code",
   "execution_count": 31,
   "metadata": {},
   "outputs": [
    {
     "data": {
      "image/png": "[encoded data removed]",
      "text/plain": [
       "<Figure size 432x288 with 1 Axes>"
      ]
     },
     "metadata": {
      "needs_background": "light"
     },
     "output_type": "display_data"
    }
   ],
   "source": [
    "plt.hist(relerr,np.arange(-1.5,1.5,0.05));"
   ]
  },
  {
   "cell_type": "code",
   "execution_count": null,
   "metadata": {},
   "outputs": [],
   "source": []
  }
 ],
 "metadata": {
  "kernelspec": {
   "display_name": "tensorflow",
   "language": "python",
   "name": "tensorflow"
  },
  "language_info": {
   "codemirror_mode": {
    "name": "ipython",
    "version": 3
   },
   "file_extension": ".py",
   "mimetype": "text/x-python",
   "name": "python",
   "nbconvert_exporter": "python",
   "pygments_lexer": "ipython3",
   "version": "3.8.12"
  }
 },
 "nbformat": 4,
 "nbformat_minor": 4
}
